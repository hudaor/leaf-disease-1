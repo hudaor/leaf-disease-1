{
  "cells": [
    {
      "cell_type": "markdown",
      "metadata": {
        "id": "view-in-github",
        "colab_type": "text"
      },
      "source": [
        "<a href=\"https://colab.research.google.com/github/hudaor/leaf-disease-1/blob/main/Vgg19epochs100.ipynb\" target=\"_parent\"><img src=\"https://colab.research.google.com/assets/colab-badge.svg\" alt=\"Open In Colab\"/></a>"
      ]
    },
    {
      "cell_type": "code",
      "execution_count": null,
      "metadata": {
        "colab": {
          "base_uri": "https://localhost:8080/"
        },
        "id": "mzwfhB-umpZz",
        "outputId": "2f4d807f-aebf-462c-c939-3a4811d1b3e7"
      },
      "outputs": [
        {
          "name": "stdout",
          "output_type": "stream",
          "text": [
            "Requirement already satisfied: pyyaml in /usr/local/lib/python3.7/dist-packages (3.13)\n",
            "Requirement already satisfied: h5py in /usr/local/lib/python3.7/dist-packages (3.1.0)\n",
            "Requirement already satisfied: cached-property in /usr/local/lib/python3.7/dist-packages (from h5py) (1.5.2)\n",
            "Requirement already satisfied: numpy>=1.14.5 in /usr/local/lib/python3.7/dist-packages (from h5py) (1.21.6)\n"
          ]
        }
      ],
      "source": [
        "!pip install pyyaml h5py"
      ]
    },
    {
      "cell_type": "code",
      "execution_count": null,
      "metadata": {
        "colab": {
          "base_uri": "https://localhost:8080/"
        },
        "id": "6yTqc07Jm2CJ",
        "outputId": "5255c8ac-aa48-4cfa-acd5-1f409624f2b0"
      },
      "outputs": [
        {
          "output_type": "stream",
          "name": "stdout",
          "text": [
            "Mounted at /content/drive\n"
          ]
        }
      ],
      "source": [
        "from google.colab import drive\n",
        "drive.mount('/content/drive')"
      ]
    },
    {
      "cell_type": "code",
      "execution_count": null,
      "metadata": {
        "id": "uYCMDmE8m35B"
      },
      "outputs": [],
      "source": [
        "#vgg19\n",
        "import tensorflow as tf\n",
        "from tensorflow.keras.layers import Input, Lambda, Dense, Flatten\n",
        "from tensorflow.keras.models import Model\n",
        "#from tensorflow.keras.applications.inception_v3 import InceptionV3\n",
        "#from tensorflow.keras.applications.inception_v3 import preprocess_input\n",
        "from tensorflow.keras.preprocessing import image\n",
        "from tensorflow.keras.preprocessing.image import ImageDataGenerator,load_img\n",
        "from tensorflow.keras.models import Sequential\n",
        "\n"
      ]
    },
    {
      "cell_type": "code",
      "execution_count": null,
      "metadata": {
        "colab": {
          "base_uri": "https://localhost:8080/"
        },
        "id": "EorRqW6jm_9l",
        "outputId": "2007f022-0871-43a7-f68f-9bb5792fa071"
      },
      "outputs": [
        {
          "name": "stdout",
          "output_type": "stream",
          "text": [
            "Model: \"vgg19\"\n",
            "_________________________________________________________________\n",
            " Layer (type)                Output Shape              Param #   \n",
            "=================================================================\n",
            " input_1 (InputLayer)        [(None, 224, 224, 3)]     0         \n",
            "                                                                 \n",
            " block1_conv1 (Conv2D)       (None, 224, 224, 64)      1792      \n",
            "                                                                 \n",
            " block1_conv2 (Conv2D)       (None, 224, 224, 64)      36928     \n",
            "                                                                 \n",
            " block1_pool (MaxPooling2D)  (None, 112, 112, 64)      0         \n",
            "                                                                 \n",
            " block2_conv1 (Conv2D)       (None, 112, 112, 128)     73856     \n",
            "                                                                 \n",
            " block2_conv2 (Conv2D)       (None, 112, 112, 128)     147584    \n",
            "                                                                 \n",
            " block2_pool (MaxPooling2D)  (None, 56, 56, 128)       0         \n",
            "                                                                 \n",
            " block3_conv1 (Conv2D)       (None, 56, 56, 256)       295168    \n",
            "                                                                 \n",
            " block3_conv2 (Conv2D)       (None, 56, 56, 256)       590080    \n",
            "                                                                 \n",
            " block3_conv3 (Conv2D)       (None, 56, 56, 256)       590080    \n",
            "                                                                 \n",
            " block3_conv4 (Conv2D)       (None, 56, 56, 256)       590080    \n",
            "                                                                 \n",
            " block3_pool (MaxPooling2D)  (None, 28, 28, 256)       0         \n",
            "                                                                 \n",
            " block4_conv1 (Conv2D)       (None, 28, 28, 512)       1180160   \n",
            "                                                                 \n",
            " block4_conv2 (Conv2D)       (None, 28, 28, 512)       2359808   \n",
            "                                                                 \n",
            " block4_conv3 (Conv2D)       (None, 28, 28, 512)       2359808   \n",
            "                                                                 \n",
            " block4_conv4 (Conv2D)       (None, 28, 28, 512)       2359808   \n",
            "                                                                 \n",
            " block4_pool (MaxPooling2D)  (None, 14, 14, 512)       0         \n",
            "                                                                 \n",
            " block5_conv1 (Conv2D)       (None, 14, 14, 512)       2359808   \n",
            "                                                                 \n",
            " block5_conv2 (Conv2D)       (None, 14, 14, 512)       2359808   \n",
            "                                                                 \n",
            " block5_conv3 (Conv2D)       (None, 14, 14, 512)       2359808   \n",
            "                                                                 \n",
            " block5_conv4 (Conv2D)       (None, 14, 14, 512)       2359808   \n",
            "                                                                 \n",
            " block5_pool (MaxPooling2D)  (None, 7, 7, 512)         0         \n",
            "                                                                 \n",
            "=================================================================\n",
            "Total params: 20,024,384\n",
            "Trainable params: 20,024,384\n",
            "Non-trainable params: 0\n",
            "_________________________________________________________________\n",
            "Found 34128 images belonging to 2 classes.\n",
            "Found 8726 images belonging to 2 classes.\n"
          ]
        },
        {
          "name": "stderr",
          "output_type": "stream",
          "text": [
            "/usr/local/lib/python3.7/dist-packages/keras/optimizer_v2/rmsprop.py:130: UserWarning: The `lr` argument is deprecated, use `learning_rate` instead.\n",
            "  super(RMSprop, self).__init__(name, **kwargs)\n",
            "/usr/local/lib/python3.7/dist-packages/ipykernel_launcher.py:73: UserWarning: `Model.fit_generator` is deprecated and will be removed in a future version. Please use `Model.fit`, which supports generators.\n"
          ]
        },
        {
          "name": "stdout",
          "output_type": "stream",
          "text": [
            "Epoch 1/30\n",
            "50/50 [==============================] - 1662s 33s/step - loss: 0.6507 - acc: 0.6190 - val_loss: 0.5816 - val_acc: 0.6970\n",
            "Epoch 2/30\n",
            "50/50 [==============================] - 1558s 31s/step - loss: 0.5903 - acc: 0.6860 - val_loss: 0.5226 - val_acc: 0.7730\n",
            "Epoch 3/30\n",
            "50/50 [==============================] - 1503s 30s/step - loss: 0.5429 - acc: 0.7150 - val_loss: 0.5391 - val_acc: 0.7180\n",
            "Epoch 4/30\n",
            "50/50 [==============================] - 1496s 30s/step - loss: 0.5349 - acc: 0.7300 - val_loss: 0.4674 - val_acc: 0.7820\n",
            "Epoch 5/30\n",
            "50/50 [==============================] - 1470s 29s/step - loss: 0.4863 - acc: 0.7600 - val_loss: 0.4431 - val_acc: 0.8010\n",
            "Epoch 6/30\n",
            "50/50 [==============================] - 1461s 29s/step - loss: 0.4781 - acc: 0.7834 - val_loss: 0.4339 - val_acc: 0.8130\n",
            "Epoch 7/30\n",
            "50/50 [==============================] - 1450s 29s/step - loss: 0.4943 - acc: 0.7590 - val_loss: 0.4140 - val_acc: 0.8080\n",
            "Epoch 8/30\n",
            "50/50 [==============================] - 1500s 30s/step - loss: 0.4651 - acc: 0.7820 - val_loss: 0.4708 - val_acc: 0.7630\n",
            "Epoch 9/30\n",
            "50/50 [==============================] - 1422s 28s/step - loss: 0.4302 - acc: 0.8050 - val_loss: 0.4603 - val_acc: 0.7850\n",
            "Epoch 10/30\n",
            "50/50 [==============================] - 1431s 29s/step - loss: 0.4384 - acc: 0.7980 - val_loss: 0.3891 - val_acc: 0.8270\n",
            "Epoch 11/30\n",
            "50/50 [==============================] - 1424s 29s/step - loss: 0.4401 - acc: 0.8010 - val_loss: 0.3614 - val_acc: 0.8590\n",
            "Epoch 12/30\n",
            "50/50 [==============================] - 1413s 28s/step - loss: 0.4098 - acc: 0.8220 - val_loss: 0.3544 - val_acc: 0.8640\n",
            "Epoch 13/30\n",
            "50/50 [==============================] - 1419s 28s/step - loss: 0.4093 - acc: 0.8200 - val_loss: 0.3942 - val_acc: 0.8080\n",
            "Epoch 14/30\n",
            "50/50 [==============================] - 1409s 28s/step - loss: 0.4310 - acc: 0.8020 - val_loss: 0.3450 - val_acc: 0.8560\n",
            "Epoch 15/30\n",
            "50/50 [==============================] - 1411s 28s/step - loss: 0.4096 - acc: 0.8130 - val_loss: 0.4502 - val_acc: 0.7780\n",
            "Epoch 16/30\n",
            "50/50 [==============================] - 1419s 28s/step - loss: 0.4175 - acc: 0.8010 - val_loss: 0.3815 - val_acc: 0.8320\n",
            "Epoch 17/30\n",
            "50/50 [==============================] - 1398s 28s/step - loss: 0.3822 - acc: 0.8330 - val_loss: 0.4023 - val_acc: 0.8150\n",
            "Epoch 18/30\n",
            "50/50 [==============================] - 1420s 29s/step - loss: 0.4063 - acc: 0.8300 - val_loss: 0.3726 - val_acc: 0.8270\n",
            "Epoch 19/30\n",
            "50/50 [==============================] - 1405s 28s/step - loss: 0.4005 - acc: 0.8090 - val_loss: 0.3121 - val_acc: 0.8630\n",
            "Epoch 20/30\n",
            "50/50 [==============================] - 1408s 28s/step - loss: 0.4074 - acc: 0.8140 - val_loss: 0.3540 - val_acc: 0.8400\n",
            "Epoch 21/30\n",
            "50/50 [==============================] - 1419s 29s/step - loss: 0.3664 - acc: 0.8380 - val_loss: 0.3891 - val_acc: 0.8200\n",
            "Epoch 22/30\n",
            "50/50 [==============================] - 1412s 28s/step - loss: 0.3711 - acc: 0.8280 - val_loss: 0.3842 - val_acc: 0.8290\n",
            "Epoch 23/30\n",
            "50/50 [==============================] - 1428s 29s/step - loss: 0.3969 - acc: 0.8240 - val_loss: 0.3401 - val_acc: 0.8620\n",
            "Epoch 24/30\n",
            "50/50 [==============================] - 1411s 28s/step - loss: 0.3987 - acc: 0.8310 - val_loss: 0.3235 - val_acc: 0.8770\n",
            "Epoch 25/30\n",
            "50/50 [==============================] - 1416s 28s/step - loss: 0.3584 - acc: 0.8510 - val_loss: 0.3479 - val_acc: 0.8440\n",
            "Epoch 26/30\n",
            "50/50 [==============================] - 1463s 29s/step - loss: 0.3633 - acc: 0.8420 - val_loss: 0.3250 - val_acc: 0.8650\n",
            "Epoch 27/30\n",
            "50/50 [==============================] - 1436s 29s/step - loss: 0.3694 - acc: 0.8280 - val_loss: 0.3224 - val_acc: 0.8580\n",
            "Epoch 28/30\n",
            "50/50 [==============================] - 1434s 29s/step - loss: 0.3524 - acc: 0.8530 - val_loss: 0.3291 - val_acc: 0.8410\n",
            "Epoch 29/30\n",
            "50/50 [==============================] - 1438s 29s/step - loss: 0.3530 - acc: 0.8550 - val_loss: 0.3534 - val_acc: 0.8440\n",
            "Epoch 30/30\n",
            "50/50 [==============================] - 1428s 29s/step - loss: 0.3726 - acc: 0.8280 - val_loss: 0.3361 - val_acc: 0.8480\n"
          ]
        }
      ],
      "source": [
        "#Parametres  \n",
        "import keras\n",
        "import tensorflow as tf\n",
        "from tensorflow.keras.applications import VGG19\n",
        "import sys\n",
        "from tensorflow.keras import optimizers\n",
        "from PIL import Image\n",
        "\n",
        "#Using VGG19 Pre-trained Model\n",
        "conv_base = VGG19(weights = 'imagenet',\n",
        "              include_top = False,\n",
        "              input_shape=(224, 224, 3))\n",
        "\n",
        "conv_base.summary()\n",
        "\n",
        "import numpy as np\n",
        "import os\n",
        "from keras.preprocessing.image import ImageDataGenerator\n",
        "\n",
        "base_dir = '/content/drive/MyDrive/2022dataset 05 2 22'\n",
        "train_dir = os.path.join(base_dir, 'train')\n",
        "#validation_dir = os.path.join(base_dir, 'validation')\n",
        "#test_dir = os.path.join(base_dir, 'test')\n",
        "validation_dir = os.path.join(base_dir, 'validation')\n",
        "test_dir = os.path.join(base_dir, 'test')\n",
        "\n",
        "from keras import models\n",
        "from keras import layers\n",
        "\n",
        "model = models.Sequential()\n",
        "model.add(conv_base)\n",
        "model.add(layers.Flatten())\n",
        "model.add(layers.Dense(256, activation='relu'))\n",
        "model.add(layers.Dense(1, activation='sigmoid'))\n",
        "\n",
        "conv_base.trainable = False\n",
        "\n",
        "train_datagen = ImageDataGenerator(\n",
        "    rescale=1./255,\n",
        "    rotation_range=40,\n",
        "    width_shift_range=0.2,\n",
        "    height_shift_range=0.2,\n",
        "    shear_range=0.2,\n",
        "    zoom_range=0.2,\n",
        "    horizontal_flip=True,\n",
        "    fill_mode='nearest')\n",
        "\n",
        "test_datagen = ImageDataGenerator(rescale=1./255)\n",
        "\n",
        "train_generator = train_datagen.flow_from_directory(\n",
        "    train_dir,\n",
        "    target_size=(224, 224),\n",
        "    batch_size=20,\n",
        "    class_mode='binary')\n",
        "\n",
        "validation_generator = test_datagen.flow_from_directory(\n",
        "    validation_dir,\n",
        "    target_size=(224, 224),\n",
        "    batch_size=20,\n",
        "    class_mode='binary')\n",
        "\n",
        "# Compile the model\n",
        "model.compile(loss='binary_crossentropy',\n",
        "optimizer=optimizers.RMSprop(lr=2e-5),\n",
        "metrics=['acc'])\n",
        "\n",
        "# Train the model\n",
        "historyg1 = model.fit_generator(\n",
        "    train_generator,\n",
        "    steps_per_epoch=50,\n",
        "    epochs=30,\n",
        "    validation_data=validation_generator,\n",
        "    validation_steps=50)\n",
        "\n",
        "# Save the model\n",
        "model.save('/content/drive/MyDrive/2022dataset 05 2 22/vgg191.h5')"
      ]
    },
    {
      "cell_type": "code",
      "execution_count": null,
      "metadata": {
        "colab": {
          "base_uri": "https://localhost:8080/"
        },
        "id": "3dy59CO9nibf",
        "outputId": "90b5d586-8bee-464b-8e16-a890dbdb16c7"
      },
      "outputs": [
        {
          "name": "stdout",
          "output_type": "stream",
          "text": [
            "INFO:tensorflow:Assets written to: ram://6e575429-1b95-48dd-a69f-098ed4991cd4/assets\n"
          ]
        }
      ],
      "source": [
        "#model3.save('/content/drive/MyDrive/18 04 22/inception3.h5') \n",
        "np.save('/content/drive/MyDrive/2022dataset 05 2 22/historyg1', historyg1) "
      ]
    },
    {
      "cell_type": "code",
      "execution_count": null,
      "metadata": {
        "colab": {
          "base_uri": "https://localhost:8080/"
        },
        "id": "jbtkWUCYY2aZ",
        "outputId": "6b8c6391-620b-4c86-fd1f-c592c5fa8075"
      },
      "outputs": [
        {
          "output_type": "stream",
          "name": "stdout",
          "text": [
            "Model: \"vgg19\"\n",
            "_________________________________________________________________\n",
            " Layer (type)                Output Shape              Param #   \n",
            "=================================================================\n",
            " input_5 (InputLayer)        [(None, 224, 224, 3)]     0         \n",
            "                                                                 \n",
            " block1_conv1 (Conv2D)       (None, 224, 224, 64)      1792      \n",
            "                                                                 \n",
            " block1_conv2 (Conv2D)       (None, 224, 224, 64)      36928     \n",
            "                                                                 \n",
            " block1_pool (MaxPooling2D)  (None, 112, 112, 64)      0         \n",
            "                                                                 \n",
            " block2_conv1 (Conv2D)       (None, 112, 112, 128)     73856     \n",
            "                                                                 \n",
            " block2_conv2 (Conv2D)       (None, 112, 112, 128)     147584    \n",
            "                                                                 \n",
            " block2_pool (MaxPooling2D)  (None, 56, 56, 128)       0         \n",
            "                                                                 \n",
            " block3_conv1 (Conv2D)       (None, 56, 56, 256)       295168    \n",
            "                                                                 \n",
            " block3_conv2 (Conv2D)       (None, 56, 56, 256)       590080    \n",
            "                                                                 \n",
            " block3_conv3 (Conv2D)       (None, 56, 56, 256)       590080    \n",
            "                                                                 \n",
            " block3_conv4 (Conv2D)       (None, 56, 56, 256)       590080    \n",
            "                                                                 \n",
            " block3_pool (MaxPooling2D)  (None, 28, 28, 256)       0         \n",
            "                                                                 \n",
            " block4_conv1 (Conv2D)       (None, 28, 28, 512)       1180160   \n",
            "                                                                 \n",
            " block4_conv2 (Conv2D)       (None, 28, 28, 512)       2359808   \n",
            "                                                                 \n",
            " block4_conv3 (Conv2D)       (None, 28, 28, 512)       2359808   \n",
            "                                                                 \n",
            " block4_conv4 (Conv2D)       (None, 28, 28, 512)       2359808   \n",
            "                                                                 \n",
            " block4_pool (MaxPooling2D)  (None, 14, 14, 512)       0         \n",
            "                                                                 \n",
            " block5_conv1 (Conv2D)       (None, 14, 14, 512)       2359808   \n",
            "                                                                 \n",
            " block5_conv2 (Conv2D)       (None, 14, 14, 512)       2359808   \n",
            "                                                                 \n",
            " block5_conv3 (Conv2D)       (None, 14, 14, 512)       2359808   \n",
            "                                                                 \n",
            " block5_conv4 (Conv2D)       (None, 14, 14, 512)       2359808   \n",
            "                                                                 \n",
            " block5_pool (MaxPooling2D)  (None, 7, 7, 512)         0         \n",
            "                                                                 \n",
            "=================================================================\n",
            "Total params: 20,024,384\n",
            "Trainable params: 20,024,384\n",
            "Non-trainable params: 0\n",
            "_________________________________________________________________\n",
            "Found 34128 images belonging to 2 classes.\n",
            "Found 8726 images belonging to 2 classes.\n"
          ]
        }
      ],
      "source": [
        "#vgg19\n",
        "import tensorflow as tf\n",
        "from tensorflow.keras.layers import Input, Lambda, Dense, Flatten\n",
        "from tensorflow.keras.models import Model\n",
        "#from tensorflow.keras.applications.inception_v3 import InceptionV3\n",
        "#from tensorflow.keras.applications.inception_v3 import preprocess_input\n",
        "from tensorflow.keras.preprocessing import image\n",
        "from tensorflow.keras.preprocessing.image import ImageDataGenerator,load_img\n",
        "from tensorflow.keras.models import Sequential\n",
        "#Parametres  \n",
        "import keras\n",
        "import tensorflow as tf\n",
        "from tensorflow.keras.applications import VGG19\n",
        "import sys\n",
        "from tensorflow.keras import optimizers\n",
        "from PIL import Image\n",
        "\n",
        "#Using VGG19 Pre-trained Model\n",
        "conv_base = VGG19(weights = 'imagenet',\n",
        "              include_top = False,\n",
        "              input_shape=(224, 224, 3))\n",
        "\n",
        "conv_base.summary()\n",
        "\n",
        "import numpy as np\n",
        "import os\n",
        "from keras.preprocessing.image import ImageDataGenerator\n",
        "\n",
        "base_dir = '/content/drive/MyDrive/2022dataset 05 2 22'\n",
        "train_dir = os.path.join(base_dir, 'train')\n",
        "#validation_dir = os.path.join(base_dir, 'validation')\n",
        "#test_dir = os.path.join(base_dir, 'test')\n",
        "validation_dir = os.path.join(base_dir, 'validation')\n",
        "test_dir = os.path.join(base_dir, 'test')\n",
        "\n",
        "from keras import models\n",
        "from keras import layers\n",
        "\n",
        "model = models.Sequential()\n",
        "model.add(conv_base)\n",
        "model.add(layers.Flatten())\n",
        "model.add(layers.Dense(256, activation='relu'))\n",
        "model.add(layers.Dense(1, activation='sigmoid'))\n",
        "\n",
        "conv_base.trainable = False\n",
        "\n",
        "train_datagen = ImageDataGenerator(\n",
        "    rescale=1./255,\n",
        "    rotation_range=40,\n",
        "    width_shift_range=0.2,\n",
        "    height_shift_range=0.2,\n",
        "    shear_range=0.2,\n",
        "    zoom_range=0.2,\n",
        "    horizontal_flip=True,\n",
        "    fill_mode='nearest')\n",
        "\n",
        "test_datagen = ImageDataGenerator(rescale=1./255)\n",
        "\n",
        "train_generator = train_datagen.flow_from_directory(\n",
        "    train_dir,\n",
        "    target_size=(224, 224),\n",
        "    batch_size=20,\n",
        "    class_mode='binary')\n",
        "\n",
        "validation_generator = test_datagen.flow_from_directory(\n",
        "    validation_dir,\n",
        "    target_size=(224, 224),\n",
        "    batch_size=20,\n",
        "    class_mode='binary')\n"
      ]
    },
    {
      "cell_type": "code",
      "execution_count": null,
      "metadata": {
        "colab": {
          "base_uri": "https://localhost:8080/",
          "height": 470
        },
        "id": "-bk3hBjbR2Lf",
        "outputId": "940fc478-b6fc-42ba-a8dd-152bd1db4afe"
      },
      "outputs": [
        {
          "output_type": "stream",
          "name": "stderr",
          "text": [
            "/usr/local/lib/python3.7/dist-packages/keras/optimizer_v2/rmsprop.py:130: UserWarning: The `lr` argument is deprecated, use `learning_rate` instead.\n",
            "  super(RMSprop, self).__init__(name, **kwargs)\n",
            "/usr/local/lib/python3.7/dist-packages/ipykernel_launcher.py:18: UserWarning: `Model.fit_generator` is deprecated and will be removed in a future version. Please use `Model.fit`, which supports generators.\n"
          ]
        },
        {
          "output_type": "stream",
          "name": "stdout",
          "text": [
            "Epoch 1/35\n",
            "20/50 [===========>..................] - ETA: 59s - loss: 0.3689 - acc: 0.8450 "
          ]
        },
        {
          "output_type": "error",
          "ename": "KeyboardInterrupt",
          "evalue": "ignored",
          "traceback": [
            "\u001b[0;31m---------------------------------------------------------------------------\u001b[0m",
            "\u001b[0;31mKeyboardInterrupt\u001b[0m                         Traceback (most recent call last)",
            "\u001b[0;32m<ipython-input-12-5aa29f8baa7c>\u001b[0m in \u001b[0;36m<module>\u001b[0;34m()\u001b[0m\n\u001b[1;32m     16\u001b[0m     \u001b[0mepochs\u001b[0m\u001b[0;34m=\u001b[0m\u001b[0;36m35\u001b[0m\u001b[0;34m,\u001b[0m\u001b[0;34m\u001b[0m\u001b[0;34m\u001b[0m\u001b[0m\n\u001b[1;32m     17\u001b[0m     \u001b[0mvalidation_data\u001b[0m\u001b[0;34m=\u001b[0m\u001b[0mvalidation_generator\u001b[0m\u001b[0;34m,\u001b[0m\u001b[0;34m\u001b[0m\u001b[0;34m\u001b[0m\u001b[0m\n\u001b[0;32m---> 18\u001b[0;31m     validation_steps=len(validation_generator))\n\u001b[0m",
            "\u001b[0;32m/usr/local/lib/python3.7/dist-packages/keras/engine/training.py\u001b[0m in \u001b[0;36mfit_generator\u001b[0;34m(self, generator, steps_per_epoch, epochs, verbose, callbacks, validation_data, validation_steps, validation_freq, class_weight, max_queue_size, workers, use_multiprocessing, shuffle, initial_epoch)\u001b[0m\n\u001b[1;32m   2221\u001b[0m         \u001b[0muse_multiprocessing\u001b[0m\u001b[0;34m=\u001b[0m\u001b[0muse_multiprocessing\u001b[0m\u001b[0;34m,\u001b[0m\u001b[0;34m\u001b[0m\u001b[0;34m\u001b[0m\u001b[0m\n\u001b[1;32m   2222\u001b[0m         \u001b[0mshuffle\u001b[0m\u001b[0;34m=\u001b[0m\u001b[0mshuffle\u001b[0m\u001b[0;34m,\u001b[0m\u001b[0;34m\u001b[0m\u001b[0;34m\u001b[0m\u001b[0m\n\u001b[0;32m-> 2223\u001b[0;31m         initial_epoch=initial_epoch)\n\u001b[0m\u001b[1;32m   2224\u001b[0m \u001b[0;34m\u001b[0m\u001b[0m\n\u001b[1;32m   2225\u001b[0m   \u001b[0;34m@\u001b[0m\u001b[0mdoc_controls\u001b[0m\u001b[0;34m.\u001b[0m\u001b[0mdo_not_generate_docs\u001b[0m\u001b[0;34m\u001b[0m\u001b[0;34m\u001b[0m\u001b[0m\n",
            "\u001b[0;32m/usr/local/lib/python3.7/dist-packages/keras/utils/traceback_utils.py\u001b[0m in \u001b[0;36merror_handler\u001b[0;34m(*args, **kwargs)\u001b[0m\n\u001b[1;32m     62\u001b[0m     \u001b[0mfiltered_tb\u001b[0m \u001b[0;34m=\u001b[0m \u001b[0;32mNone\u001b[0m\u001b[0;34m\u001b[0m\u001b[0;34m\u001b[0m\u001b[0m\n\u001b[1;32m     63\u001b[0m     \u001b[0;32mtry\u001b[0m\u001b[0;34m:\u001b[0m\u001b[0;34m\u001b[0m\u001b[0;34m\u001b[0m\u001b[0m\n\u001b[0;32m---> 64\u001b[0;31m       \u001b[0;32mreturn\u001b[0m \u001b[0mfn\u001b[0m\u001b[0;34m(\u001b[0m\u001b[0;34m*\u001b[0m\u001b[0margs\u001b[0m\u001b[0;34m,\u001b[0m \u001b[0;34m**\u001b[0m\u001b[0mkwargs\u001b[0m\u001b[0;34m)\u001b[0m\u001b[0;34m\u001b[0m\u001b[0;34m\u001b[0m\u001b[0m\n\u001b[0m\u001b[1;32m     65\u001b[0m     \u001b[0;32mexcept\u001b[0m \u001b[0mException\u001b[0m \u001b[0;32mas\u001b[0m \u001b[0me\u001b[0m\u001b[0;34m:\u001b[0m  \u001b[0;31m# pylint: disable=broad-except\u001b[0m\u001b[0;34m\u001b[0m\u001b[0;34m\u001b[0m\u001b[0m\n\u001b[1;32m     66\u001b[0m       \u001b[0mfiltered_tb\u001b[0m \u001b[0;34m=\u001b[0m \u001b[0m_process_traceback_frames\u001b[0m\u001b[0;34m(\u001b[0m\u001b[0me\u001b[0m\u001b[0;34m.\u001b[0m\u001b[0m__traceback__\u001b[0m\u001b[0;34m)\u001b[0m\u001b[0;34m\u001b[0m\u001b[0;34m\u001b[0m\u001b[0m\n",
            "\u001b[0;32m/usr/local/lib/python3.7/dist-packages/keras/engine/training.py\u001b[0m in \u001b[0;36mfit\u001b[0;34m(self, x, y, batch_size, epochs, verbose, callbacks, validation_split, validation_data, shuffle, class_weight, sample_weight, initial_epoch, steps_per_epoch, validation_steps, validation_batch_size, validation_freq, max_queue_size, workers, use_multiprocessing)\u001b[0m\n\u001b[1;32m   1382\u001b[0m                 _r=1):\n\u001b[1;32m   1383\u001b[0m               \u001b[0mcallbacks\u001b[0m\u001b[0;34m.\u001b[0m\u001b[0mon_train_batch_begin\u001b[0m\u001b[0;34m(\u001b[0m\u001b[0mstep\u001b[0m\u001b[0;34m)\u001b[0m\u001b[0;34m\u001b[0m\u001b[0;34m\u001b[0m\u001b[0m\n\u001b[0;32m-> 1384\u001b[0;31m               \u001b[0mtmp_logs\u001b[0m \u001b[0;34m=\u001b[0m \u001b[0mself\u001b[0m\u001b[0;34m.\u001b[0m\u001b[0mtrain_function\u001b[0m\u001b[0;34m(\u001b[0m\u001b[0miterator\u001b[0m\u001b[0;34m)\u001b[0m\u001b[0;34m\u001b[0m\u001b[0;34m\u001b[0m\u001b[0m\n\u001b[0m\u001b[1;32m   1385\u001b[0m               \u001b[0;32mif\u001b[0m \u001b[0mdata_handler\u001b[0m\u001b[0;34m.\u001b[0m\u001b[0mshould_sync\u001b[0m\u001b[0;34m:\u001b[0m\u001b[0;34m\u001b[0m\u001b[0;34m\u001b[0m\u001b[0m\n\u001b[1;32m   1386\u001b[0m                 \u001b[0mcontext\u001b[0m\u001b[0;34m.\u001b[0m\u001b[0masync_wait\u001b[0m\u001b[0;34m(\u001b[0m\u001b[0;34m)\u001b[0m\u001b[0;34m\u001b[0m\u001b[0;34m\u001b[0m\u001b[0m\n",
            "\u001b[0;32m/usr/local/lib/python3.7/dist-packages/tensorflow/python/util/traceback_utils.py\u001b[0m in \u001b[0;36merror_handler\u001b[0;34m(*args, **kwargs)\u001b[0m\n\u001b[1;32m    148\u001b[0m     \u001b[0mfiltered_tb\u001b[0m \u001b[0;34m=\u001b[0m \u001b[0;32mNone\u001b[0m\u001b[0;34m\u001b[0m\u001b[0;34m\u001b[0m\u001b[0m\n\u001b[1;32m    149\u001b[0m     \u001b[0;32mtry\u001b[0m\u001b[0;34m:\u001b[0m\u001b[0;34m\u001b[0m\u001b[0;34m\u001b[0m\u001b[0m\n\u001b[0;32m--> 150\u001b[0;31m       \u001b[0;32mreturn\u001b[0m \u001b[0mfn\u001b[0m\u001b[0;34m(\u001b[0m\u001b[0;34m*\u001b[0m\u001b[0margs\u001b[0m\u001b[0;34m,\u001b[0m \u001b[0;34m**\u001b[0m\u001b[0mkwargs\u001b[0m\u001b[0;34m)\u001b[0m\u001b[0;34m\u001b[0m\u001b[0;34m\u001b[0m\u001b[0m\n\u001b[0m\u001b[1;32m    151\u001b[0m     \u001b[0;32mexcept\u001b[0m \u001b[0mException\u001b[0m \u001b[0;32mas\u001b[0m \u001b[0me\u001b[0m\u001b[0;34m:\u001b[0m\u001b[0;34m\u001b[0m\u001b[0;34m\u001b[0m\u001b[0m\n\u001b[1;32m    152\u001b[0m       \u001b[0mfiltered_tb\u001b[0m \u001b[0;34m=\u001b[0m \u001b[0m_process_traceback_frames\u001b[0m\u001b[0;34m(\u001b[0m\u001b[0me\u001b[0m\u001b[0;34m.\u001b[0m\u001b[0m__traceback__\u001b[0m\u001b[0;34m)\u001b[0m\u001b[0;34m\u001b[0m\u001b[0;34m\u001b[0m\u001b[0m\n",
            "\u001b[0;32m/usr/local/lib/python3.7/dist-packages/tensorflow/python/eager/def_function.py\u001b[0m in \u001b[0;36m__call__\u001b[0;34m(self, *args, **kwds)\u001b[0m\n\u001b[1;32m    913\u001b[0m \u001b[0;34m\u001b[0m\u001b[0m\n\u001b[1;32m    914\u001b[0m       \u001b[0;32mwith\u001b[0m \u001b[0mOptionalXlaContext\u001b[0m\u001b[0;34m(\u001b[0m\u001b[0mself\u001b[0m\u001b[0;34m.\u001b[0m\u001b[0m_jit_compile\u001b[0m\u001b[0;34m)\u001b[0m\u001b[0;34m:\u001b[0m\u001b[0;34m\u001b[0m\u001b[0;34m\u001b[0m\u001b[0m\n\u001b[0;32m--> 915\u001b[0;31m         \u001b[0mresult\u001b[0m \u001b[0;34m=\u001b[0m \u001b[0mself\u001b[0m\u001b[0;34m.\u001b[0m\u001b[0m_call\u001b[0m\u001b[0;34m(\u001b[0m\u001b[0;34m*\u001b[0m\u001b[0margs\u001b[0m\u001b[0;34m,\u001b[0m \u001b[0;34m**\u001b[0m\u001b[0mkwds\u001b[0m\u001b[0;34m)\u001b[0m\u001b[0;34m\u001b[0m\u001b[0;34m\u001b[0m\u001b[0m\n\u001b[0m\u001b[1;32m    916\u001b[0m \u001b[0;34m\u001b[0m\u001b[0m\n\u001b[1;32m    917\u001b[0m       \u001b[0mnew_tracing_count\u001b[0m \u001b[0;34m=\u001b[0m \u001b[0mself\u001b[0m\u001b[0;34m.\u001b[0m\u001b[0mexperimental_get_tracing_count\u001b[0m\u001b[0;34m(\u001b[0m\u001b[0;34m)\u001b[0m\u001b[0;34m\u001b[0m\u001b[0;34m\u001b[0m\u001b[0m\n",
            "\u001b[0;32m/usr/local/lib/python3.7/dist-packages/tensorflow/python/eager/def_function.py\u001b[0m in \u001b[0;36m_call\u001b[0;34m(self, *args, **kwds)\u001b[0m\n\u001b[1;32m    945\u001b[0m       \u001b[0;31m# In this case we have created variables on the first call, so we run the\u001b[0m\u001b[0;34m\u001b[0m\u001b[0;34m\u001b[0m\u001b[0;34m\u001b[0m\u001b[0m\n\u001b[1;32m    946\u001b[0m       \u001b[0;31m# defunned version which is guaranteed to never create variables.\u001b[0m\u001b[0;34m\u001b[0m\u001b[0;34m\u001b[0m\u001b[0;34m\u001b[0m\u001b[0m\n\u001b[0;32m--> 947\u001b[0;31m       \u001b[0;32mreturn\u001b[0m \u001b[0mself\u001b[0m\u001b[0;34m.\u001b[0m\u001b[0m_stateless_fn\u001b[0m\u001b[0;34m(\u001b[0m\u001b[0;34m*\u001b[0m\u001b[0margs\u001b[0m\u001b[0;34m,\u001b[0m \u001b[0;34m**\u001b[0m\u001b[0mkwds\u001b[0m\u001b[0;34m)\u001b[0m  \u001b[0;31m# pylint: disable=not-callable\u001b[0m\u001b[0;34m\u001b[0m\u001b[0;34m\u001b[0m\u001b[0m\n\u001b[0m\u001b[1;32m    948\u001b[0m     \u001b[0;32melif\u001b[0m \u001b[0mself\u001b[0m\u001b[0;34m.\u001b[0m\u001b[0m_stateful_fn\u001b[0m \u001b[0;32mis\u001b[0m \u001b[0;32mnot\u001b[0m \u001b[0;32mNone\u001b[0m\u001b[0;34m:\u001b[0m\u001b[0;34m\u001b[0m\u001b[0;34m\u001b[0m\u001b[0m\n\u001b[1;32m    949\u001b[0m       \u001b[0;31m# Release the lock early so that multiple threads can perform the call\u001b[0m\u001b[0;34m\u001b[0m\u001b[0;34m\u001b[0m\u001b[0;34m\u001b[0m\u001b[0m\n",
            "\u001b[0;32m/usr/local/lib/python3.7/dist-packages/tensorflow/python/eager/function.py\u001b[0m in \u001b[0;36m__call__\u001b[0;34m(self, *args, **kwargs)\u001b[0m\n\u001b[1;32m   2955\u001b[0m        filtered_flat_args) = self._maybe_define_function(args, kwargs)\n\u001b[1;32m   2956\u001b[0m     return graph_function._call_flat(\n\u001b[0;32m-> 2957\u001b[0;31m         filtered_flat_args, captured_inputs=graph_function.captured_inputs)  # pylint: disable=protected-access\n\u001b[0m\u001b[1;32m   2958\u001b[0m \u001b[0;34m\u001b[0m\u001b[0m\n\u001b[1;32m   2959\u001b[0m   \u001b[0;34m@\u001b[0m\u001b[0mproperty\u001b[0m\u001b[0;34m\u001b[0m\u001b[0;34m\u001b[0m\u001b[0m\n",
            "\u001b[0;32m/usr/local/lib/python3.7/dist-packages/tensorflow/python/eager/function.py\u001b[0m in \u001b[0;36m_call_flat\u001b[0;34m(self, args, captured_inputs, cancellation_manager)\u001b[0m\n\u001b[1;32m   1852\u001b[0m       \u001b[0;31m# No tape is watching; skip to running the function.\u001b[0m\u001b[0;34m\u001b[0m\u001b[0;34m\u001b[0m\u001b[0;34m\u001b[0m\u001b[0m\n\u001b[1;32m   1853\u001b[0m       return self._build_call_outputs(self._inference_function.call(\n\u001b[0;32m-> 1854\u001b[0;31m           ctx, args, cancellation_manager=cancellation_manager))\n\u001b[0m\u001b[1;32m   1855\u001b[0m     forward_backward = self._select_forward_and_backward_functions(\n\u001b[1;32m   1856\u001b[0m         \u001b[0margs\u001b[0m\u001b[0;34m,\u001b[0m\u001b[0;34m\u001b[0m\u001b[0;34m\u001b[0m\u001b[0m\n",
            "\u001b[0;32m/usr/local/lib/python3.7/dist-packages/tensorflow/python/eager/function.py\u001b[0m in \u001b[0;36mcall\u001b[0;34m(self, ctx, args, cancellation_manager)\u001b[0m\n\u001b[1;32m    502\u001b[0m               \u001b[0minputs\u001b[0m\u001b[0;34m=\u001b[0m\u001b[0margs\u001b[0m\u001b[0;34m,\u001b[0m\u001b[0;34m\u001b[0m\u001b[0;34m\u001b[0m\u001b[0m\n\u001b[1;32m    503\u001b[0m               \u001b[0mattrs\u001b[0m\u001b[0;34m=\u001b[0m\u001b[0mattrs\u001b[0m\u001b[0;34m,\u001b[0m\u001b[0;34m\u001b[0m\u001b[0;34m\u001b[0m\u001b[0m\n\u001b[0;32m--> 504\u001b[0;31m               ctx=ctx)\n\u001b[0m\u001b[1;32m    505\u001b[0m         \u001b[0;32melse\u001b[0m\u001b[0;34m:\u001b[0m\u001b[0;34m\u001b[0m\u001b[0;34m\u001b[0m\u001b[0m\n\u001b[1;32m    506\u001b[0m           outputs = execute.execute_with_cancellation(\n",
            "\u001b[0;32m/usr/local/lib/python3.7/dist-packages/tensorflow/python/eager/execute.py\u001b[0m in \u001b[0;36mquick_execute\u001b[0;34m(op_name, num_outputs, inputs, attrs, ctx, name)\u001b[0m\n\u001b[1;32m     53\u001b[0m     \u001b[0mctx\u001b[0m\u001b[0;34m.\u001b[0m\u001b[0mensure_initialized\u001b[0m\u001b[0;34m(\u001b[0m\u001b[0;34m)\u001b[0m\u001b[0;34m\u001b[0m\u001b[0;34m\u001b[0m\u001b[0m\n\u001b[1;32m     54\u001b[0m     tensors = pywrap_tfe.TFE_Py_Execute(ctx._handle, device_name, op_name,\n\u001b[0;32m---> 55\u001b[0;31m                                         inputs, attrs, num_outputs)\n\u001b[0m\u001b[1;32m     56\u001b[0m   \u001b[0;32mexcept\u001b[0m \u001b[0mcore\u001b[0m\u001b[0;34m.\u001b[0m\u001b[0m_NotOkStatusException\u001b[0m \u001b[0;32mas\u001b[0m \u001b[0me\u001b[0m\u001b[0;34m:\u001b[0m\u001b[0;34m\u001b[0m\u001b[0;34m\u001b[0m\u001b[0m\n\u001b[1;32m     57\u001b[0m     \u001b[0;32mif\u001b[0m \u001b[0mname\u001b[0m \u001b[0;32mis\u001b[0m \u001b[0;32mnot\u001b[0m \u001b[0;32mNone\u001b[0m\u001b[0;34m:\u001b[0m\u001b[0;34m\u001b[0m\u001b[0;34m\u001b[0m\u001b[0m\n",
            "\u001b[0;31mKeyboardInterrupt\u001b[0m: "
          ]
        }
      ],
      "source": [
        "from tensorflow.keras.models import load_model\n",
        "import numpy as np\n",
        "model2 =load_model('/content/drive/MyDrive/2022dataset 05 2 22/vgg191.h5')\n",
        "#read_rv5 = np.load('/content/drive/MyDrive/2022dataset 05 2 22/historyv4.npy',allow_pickle='TRUE').item()\n",
        "\n",
        "\n",
        "# Compile the model\n",
        "model2.compile(loss='binary_crossentropy',\n",
        "optimizer=optimizers.RMSprop(lr=2e-5),\n",
        "metrics=['acc'])\n",
        "\n",
        "# Train the model\n",
        "historyvg2 = model2.fit_generator(\n",
        "    train_generator,\n",
        "    steps_per_epoch=50,\n",
        "    epochs=35,\n",
        "    validation_data=validation_generator,\n",
        "    validation_steps=len(validation_generator))"
      ]
    },
    {
      "cell_type": "code",
      "execution_count": null,
      "metadata": {
        "colab": {
          "background_save": true
        },
        "id": "JJZT7ZrcR9gh",
        "outputId": "6a758529-c17c-4012-ebc5-0021476b28a5"
      },
      "outputs": [
        {
          "name": "stdout",
          "output_type": "stream",
          "text": [
            "INFO:tensorflow:Assets written to: ram://5aede072-d2c6-4758-89ee-9810288d1565/assets\n"
          ]
        }
      ],
      "source": [
        "model2.save('/content/drive/MyDrive/2022dataset 05 2 22/vgg192.h5')\n",
        "np.save('/content/drive/MyDrive/2022dataset 05 2 22/historyvg2', historyvg2) "
      ]
    },
    {
      "cell_type": "code",
      "execution_count": null,
      "metadata": {
        "colab": {
          "base_uri": "https://localhost:8080/"
        },
        "id": "sdqwz5hYUnb6",
        "outputId": "8e03cd10-e776-4159-8a6f-950ae5b3a2f0"
      },
      "outputs": [
        {
          "output_type": "stream",
          "name": "stdout",
          "text": [
            "Model: \"vgg19\"\n",
            "_________________________________________________________________\n",
            " Layer (type)                Output Shape              Param #   \n",
            "=================================================================\n",
            " input_6 (InputLayer)        [(None, 224, 224, 3)]     0         \n",
            "                                                                 \n",
            " block1_conv1 (Conv2D)       (None, 224, 224, 64)      1792      \n",
            "                                                                 \n",
            " block1_conv2 (Conv2D)       (None, 224, 224, 64)      36928     \n",
            "                                                                 \n",
            " block1_pool (MaxPooling2D)  (None, 112, 112, 64)      0         \n",
            "                                                                 \n",
            " block2_conv1 (Conv2D)       (None, 112, 112, 128)     73856     \n",
            "                                                                 \n",
            " block2_conv2 (Conv2D)       (None, 112, 112, 128)     147584    \n",
            "                                                                 \n",
            " block2_pool (MaxPooling2D)  (None, 56, 56, 128)       0         \n",
            "                                                                 \n",
            " block3_conv1 (Conv2D)       (None, 56, 56, 256)       295168    \n",
            "                                                                 \n",
            " block3_conv2 (Conv2D)       (None, 56, 56, 256)       590080    \n",
            "                                                                 \n",
            " block3_conv3 (Conv2D)       (None, 56, 56, 256)       590080    \n",
            "                                                                 \n",
            " block3_conv4 (Conv2D)       (None, 56, 56, 256)       590080    \n",
            "                                                                 \n",
            " block3_pool (MaxPooling2D)  (None, 28, 28, 256)       0         \n",
            "                                                                 \n",
            " block4_conv1 (Conv2D)       (None, 28, 28, 512)       1180160   \n",
            "                                                                 \n",
            " block4_conv2 (Conv2D)       (None, 28, 28, 512)       2359808   \n",
            "                                                                 \n",
            " block4_conv3 (Conv2D)       (None, 28, 28, 512)       2359808   \n",
            "                                                                 \n",
            " block4_conv4 (Conv2D)       (None, 28, 28, 512)       2359808   \n",
            "                                                                 \n",
            " block4_pool (MaxPooling2D)  (None, 14, 14, 512)       0         \n",
            "                                                                 \n",
            " block5_conv1 (Conv2D)       (None, 14, 14, 512)       2359808   \n",
            "                                                                 \n",
            " block5_conv2 (Conv2D)       (None, 14, 14, 512)       2359808   \n",
            "                                                                 \n",
            " block5_conv3 (Conv2D)       (None, 14, 14, 512)       2359808   \n",
            "                                                                 \n",
            " block5_conv4 (Conv2D)       (None, 14, 14, 512)       2359808   \n",
            "                                                                 \n",
            " block5_pool (MaxPooling2D)  (None, 7, 7, 512)         0         \n",
            "                                                                 \n",
            "=================================================================\n",
            "Total params: 20,024,384\n",
            "Trainable params: 20,024,384\n",
            "Non-trainable params: 0\n",
            "_________________________________________________________________\n",
            "Found 34128 images belonging to 2 classes.\n",
            "Found 8726 images belonging to 2 classes.\n"
          ]
        }
      ],
      "source": [
        "#vgg19\n",
        "import tensorflow as tf\n",
        "from tensorflow.keras.layers import Input, Lambda, Dense, Flatten\n",
        "from tensorflow.keras.models import Model\n",
        "#from tensorflow.keras.applications.inception_v3 import InceptionV3\n",
        "#from tensorflow.keras.applications.inception_v3 import preprocess_input\n",
        "from tensorflow.keras.preprocessing import image\n",
        "from tensorflow.keras.preprocessing.image import ImageDataGenerator,load_img\n",
        "from tensorflow.keras.models import Sequential\n",
        "#Parametres  \n",
        "import keras\n",
        "import tensorflow as tf\n",
        "from tensorflow.keras.applications import VGG19\n",
        "import sys\n",
        "from tensorflow.keras import optimizers\n",
        "from PIL import Image\n",
        "\n",
        "#Using VGG19 Pre-trained Model\n",
        "conv_base = VGG19(weights = 'imagenet',\n",
        "              include_top = False,\n",
        "              input_shape=(224, 224, 3))\n",
        "\n",
        "conv_base.summary()\n",
        "\n",
        "import numpy as np\n",
        "import os\n",
        "from keras.preprocessing.image import ImageDataGenerator\n",
        "\n",
        "base_dir = '/content/drive/MyDrive/2022dataset 05 2 22'\n",
        "train_dir = os.path.join(base_dir, 'train')\n",
        "#validation_dir = os.path.join(base_dir, 'validation')\n",
        "#test_dir = os.path.join(base_dir, 'test')\n",
        "validation_dir = os.path.join(base_dir, 'validation')\n",
        "test_dir = os.path.join(base_dir, 'test')\n",
        "\n",
        "from keras import models\n",
        "from keras import layers\n",
        "\n",
        "model = models.Sequential()\n",
        "model.add(conv_base)\n",
        "model.add(layers.Flatten())\n",
        "model.add(layers.Dense(256, activation='relu'))\n",
        "model.add(layers.Dense(1, activation='sigmoid'))\n",
        "\n",
        "conv_base.trainable = False\n",
        "\n",
        "train_datagen = ImageDataGenerator(\n",
        "    rescale=1./255,\n",
        "    rotation_range=40,\n",
        "    width_shift_range=0.2,\n",
        "    height_shift_range=0.2,\n",
        "    shear_range=0.2,\n",
        "    zoom_range=0.2,\n",
        "    horizontal_flip=True,\n",
        "    fill_mode='nearest')\n",
        "\n",
        "test_datagen = ImageDataGenerator(rescale=1./255)\n",
        "\n",
        "train_generator = train_datagen.flow_from_directory(\n",
        "    train_dir,\n",
        "    target_size=(224, 224),\n",
        "    batch_size=20,\n",
        "    class_mode='binary')\n",
        "\n",
        "validation_generator = test_datagen.flow_from_directory(\n",
        "    validation_dir,\n",
        "    target_size=(224, 224),\n",
        "    batch_size=20,\n",
        "    class_mode='binary')\n"
      ]
    },
    {
      "cell_type": "code",
      "execution_count": null,
      "metadata": {
        "id": "5tIfy7cDUW9f",
        "colab": {
          "base_uri": "https://localhost:8080/"
        },
        "outputId": "705f4b56-2100-4e3b-aae2-eea7f97ee6e6"
      },
      "outputs": [
        {
          "metadata": {
            "tags": null
          },
          "name": "stderr",
          "output_type": "stream",
          "text": [
            "/usr/local/lib/python3.7/dist-packages/keras/optimizer_v2/rmsprop.py:130: UserWarning: The `lr` argument is deprecated, use `learning_rate` instead.\n",
            "  super(RMSprop, self).__init__(name, **kwargs)\n",
            "/usr/local/lib/python3.7/dist-packages/ipykernel_launcher.py:18: UserWarning: `Model.fit_generator` is deprecated and will be removed in a future version. Please use `Model.fit`, which supports generators.\n"
          ]
        },
        {
          "output_type": "stream",
          "name": "stdout",
          "text": [
            "Epoch 1/15\n",
            "50/50 [==============================] - 653s 13s/step - loss: 0.3089 - acc: 0.8590 - val_loss: 0.3870 - val_acc: 0.8253\n",
            "Epoch 2/15\n",
            "50/50 [==============================] - 646s 13s/step - loss: 0.3135 - acc: 0.8520 - val_loss: 0.3471 - val_acc: 0.8491\n",
            "Epoch 3/15\n",
            "50/50 [==============================] - 644s 13s/step - loss: 0.2912 - acc: 0.8740 - val_loss: 0.2769 - val_acc: 0.8816\n",
            "Epoch 4/15\n",
            "50/50 [==============================] - 655s 13s/step - loss: 0.3211 - acc: 0.8610 - val_loss: 0.3072 - val_acc: 0.8650\n",
            "Epoch 5/15\n",
            "50/50 [==============================] - 642s 13s/step - loss: 0.3128 - acc: 0.8630 - val_loss: 0.3334 - val_acc: 0.8541\n",
            "Epoch 6/15\n",
            "50/50 [==============================] - 640s 13s/step - loss: 0.2947 - acc: 0.8760 - val_loss: 0.2722 - val_acc: 0.8776\n",
            "Epoch 7/15\n",
            "50/50 [==============================] - 642s 13s/step - loss: 0.2888 - acc: 0.8660 - val_loss: 0.2890 - val_acc: 0.8765\n",
            "Epoch 8/15\n",
            "50/50 [==============================] - 647s 13s/step - loss: 0.3200 - acc: 0.8570 - val_loss: 0.2696 - val_acc: 0.8821\n",
            "Epoch 9/15\n",
            "50/50 [==============================] - 642s 13s/step - loss: 0.3110 - acc: 0.8710 - val_loss: 0.2839 - val_acc: 0.8765\n",
            "Epoch 10/15\n",
            "50/50 [==============================] - 639s 13s/step - loss: 0.3106 - acc: 0.8670 - val_loss: 0.3012 - val_acc: 0.8706\n",
            "Epoch 11/15\n",
            "50/50 [==============================] - 643s 13s/step - loss: 0.3128 - acc: 0.8660 - val_loss: 0.3743 - val_acc: 0.8416\n",
            "Epoch 12/15\n",
            "50/50 [==============================] - 655s 13s/step - loss: 0.3072 - acc: 0.8560 - val_loss: 0.2854 - val_acc: 0.8761\n",
            "Epoch 13/15\n",
            "50/50 [==============================] - 650s 13s/step - loss: 0.3039 - acc: 0.8630 - val_loss: 0.3092 - val_acc: 0.8692\n",
            "Epoch 14/15\n",
            "50/50 [==============================] - 654s 13s/step - loss: 0.3154 - acc: 0.8730 - val_loss: 0.2859 - val_acc: 0.8769\n",
            "Epoch 15/15\n",
            "50/50 [==============================] - 651s 13s/step - loss: 0.3216 - acc: 0.8610 - val_loss: 0.3731 - val_acc: 0.8346\n"
          ]
        }
      ],
      "source": [
        "from tensorflow.keras.models import load_model\n",
        "import numpy as np\n",
        "model3 =load_model('/content/drive/MyDrive/2022dataset 05 2 22/vgg192.h5')\n",
        "#read_rv5 = np.load('/content/drive/MyDrive/2022dataset 05 2 22/historyv4.npy',allow_pickle='TRUE').item()\n",
        "\n",
        "\n",
        "# Compile the model\n",
        "model3.compile(loss='binary_crossentropy',\n",
        "optimizer=optimizers.RMSprop(lr=2e-5),\n",
        "metrics=['acc'])\n",
        "\n",
        "# Train the model\n",
        "historyvg3 = model3.fit_generator(\n",
        "    train_generator,\n",
        "    steps_per_epoch=50,\n",
        "    epochs=15,\n",
        "    validation_data=validation_generator,\n",
        "    validation_steps=len(validation_generator))"
      ]
    },
    {
      "cell_type": "code",
      "execution_count": null,
      "metadata": {
        "id": "WE8MGNQCUhCB",
        "colab": {
          "base_uri": "https://localhost:8080/"
        },
        "outputId": "fae8d86f-13a4-49a7-aca4-bde415abf451"
      },
      "outputs": [
        {
          "output_type": "stream",
          "name": "stdout",
          "text": [
            "INFO:tensorflow:Assets written to: ram://c6c8b44f-e88e-4200-81c1-0fac1a306c08/assets\n"
          ]
        }
      ],
      "source": [
        "model3.save('/content/drive/MyDrive/2022dataset 05 2 22/vgg193.h5')\n",
        "np.save('/content/drive/MyDrive/2022dataset 05 2 22/historyvg3', historyvg3) "
      ]
    },
    {
      "cell_type": "code",
      "source": [
        "from google.colab import drive\n",
        "drive.mount('/content/drive')\n",
        "!pip install pyyaml h5py"
      ],
      "metadata": {
        "colab": {
          "base_uri": "https://localhost:8080/"
        },
        "id": "OFzGImYbjsrq",
        "outputId": "eabc4ab9-891a-4bd0-d4eb-3cc53dfc1ead"
      },
      "execution_count": null,
      "outputs": [
        {
          "output_type": "stream",
          "name": "stdout",
          "text": [
            "Mounted at /content/drive\n",
            "Requirement already satisfied: pyyaml in /usr/local/lib/python3.7/dist-packages (3.13)\n",
            "Requirement already satisfied: h5py in /usr/local/lib/python3.7/dist-packages (3.1.0)\n",
            "Requirement already satisfied: numpy>=1.14.5 in /usr/local/lib/python3.7/dist-packages (from h5py) (1.21.6)\n",
            "Requirement already satisfied: cached-property in /usr/local/lib/python3.7/dist-packages (from h5py) (1.5.2)\n"
          ]
        }
      ]
    },
    {
      "cell_type": "code",
      "source": [
        "#vgg19\n",
        "import tensorflow as tf\n",
        "from tensorflow.keras.layers import Input, Lambda, Dense, Flatten\n",
        "from tensorflow.keras.models import Model\n",
        "#from tensorflow.keras.applications.inception_v3 import InceptionV3\n",
        "#from tensorflow.keras.applications.inception_v3 import preprocess_input\n",
        "from tensorflow.keras.preprocessing import image\n",
        "from tensorflow.keras.preprocessing.image import ImageDataGenerator,load_img\n",
        "from tensorflow.keras.models import Sequential"
      ],
      "metadata": {
        "id": "yvi-NeZjj1_9"
      },
      "execution_count": null,
      "outputs": []
    },
    {
      "cell_type": "code",
      "source": [
        "#Parametres  \n",
        "import keras\n",
        "import tensorflow as tf\n",
        "from tensorflow.keras.applications import VGG19\n",
        "import sys\n",
        "from tensorflow.keras import optimizers\n",
        "from PIL import Image\n",
        "\n",
        "#Using VGG19 Pre-trained Model\n",
        "conv_base = VGG19(weights = 'imagenet',\n",
        "              include_top = False,\n",
        "              input_shape=(224, 224, 3))\n",
        "\n",
        "conv_base.summary()\n",
        "\n",
        "import numpy as np\n",
        "import os\n",
        "from keras.preprocessing.image import ImageDataGenerator\n",
        "\n",
        "base_dir = '/content/drive/MyDrive/2022dataset 05 2 22'\n",
        "train_dir = os.path.join(base_dir, 'train')\n",
        "#validation_dir = os.path.join(base_dir, 'validation')\n",
        "#test_dir = os.path.join(base_dir, 'test')\n",
        "validation_dir = os.path.join(base_dir, 'validation')\n",
        "test_dir = os.path.join(base_dir, 'test')\n",
        "\n",
        "from keras import models\n",
        "from keras import layers\n",
        "\n",
        "model = models.Sequential()\n",
        "model.add(conv_base)\n",
        "model.add(layers.Flatten())\n",
        "model.add(layers.Dense(256, activation='relu'))\n",
        "model.add(layers.Dense(1, activation='sigmoid'))\n",
        "\n",
        "conv_base.trainable = False\n",
        "\n",
        "train_datagen = ImageDataGenerator(\n",
        "    rescale=1./255,\n",
        "    rotation_range=40,\n",
        "    width_shift_range=0.2,\n",
        "    height_shift_range=0.2,\n",
        "    shear_range=0.2,\n",
        "    zoom_range=0.2,\n",
        "    horizontal_flip=True,\n",
        "    fill_mode='nearest')\n",
        "\n",
        "test_datagen = ImageDataGenerator(rescale=1./255)\n",
        "\n",
        "train_generator = train_datagen.flow_from_directory(\n",
        "    train_dir,\n",
        "    target_size=(224, 224),\n",
        "    batch_size=20,\n",
        "    class_mode='binary')\n",
        "\n",
        "validation_generator = test_datagen.flow_from_directory(\n",
        "    validation_dir,\n",
        "    target_size=(224, 224),\n",
        "    batch_size=20,\n",
        "    class_mode='binary')\n"
      ],
      "metadata": {
        "colab": {
          "base_uri": "https://localhost:8080/"
        },
        "id": "KTW9ECEEkYro",
        "outputId": "3fb114f0-b648-447e-b8cc-c51a1af9c393"
      },
      "execution_count": null,
      "outputs": [
        {
          "output_type": "stream",
          "name": "stdout",
          "text": [
            "Model: \"vgg19\"\n",
            "_________________________________________________________________\n",
            " Layer (type)                Output Shape              Param #   \n",
            "=================================================================\n",
            " input_2 (InputLayer)        [(None, 224, 224, 3)]     0         \n",
            "                                                                 \n",
            " block1_conv1 (Conv2D)       (None, 224, 224, 64)      1792      \n",
            "                                                                 \n",
            " block1_conv2 (Conv2D)       (None, 224, 224, 64)      36928     \n",
            "                                                                 \n",
            " block1_pool (MaxPooling2D)  (None, 112, 112, 64)      0         \n",
            "                                                                 \n",
            " block2_conv1 (Conv2D)       (None, 112, 112, 128)     73856     \n",
            "                                                                 \n",
            " block2_conv2 (Conv2D)       (None, 112, 112, 128)     147584    \n",
            "                                                                 \n",
            " block2_pool (MaxPooling2D)  (None, 56, 56, 128)       0         \n",
            "                                                                 \n",
            " block3_conv1 (Conv2D)       (None, 56, 56, 256)       295168    \n",
            "                                                                 \n",
            " block3_conv2 (Conv2D)       (None, 56, 56, 256)       590080    \n",
            "                                                                 \n",
            " block3_conv3 (Conv2D)       (None, 56, 56, 256)       590080    \n",
            "                                                                 \n",
            " block3_conv4 (Conv2D)       (None, 56, 56, 256)       590080    \n",
            "                                                                 \n",
            " block3_pool (MaxPooling2D)  (None, 28, 28, 256)       0         \n",
            "                                                                 \n",
            " block4_conv1 (Conv2D)       (None, 28, 28, 512)       1180160   \n",
            "                                                                 \n",
            " block4_conv2 (Conv2D)       (None, 28, 28, 512)       2359808   \n",
            "                                                                 \n",
            " block4_conv3 (Conv2D)       (None, 28, 28, 512)       2359808   \n",
            "                                                                 \n",
            " block4_conv4 (Conv2D)       (None, 28, 28, 512)       2359808   \n",
            "                                                                 \n",
            " block4_pool (MaxPooling2D)  (None, 14, 14, 512)       0         \n",
            "                                                                 \n",
            " block5_conv1 (Conv2D)       (None, 14, 14, 512)       2359808   \n",
            "                                                                 \n",
            " block5_conv2 (Conv2D)       (None, 14, 14, 512)       2359808   \n",
            "                                                                 \n",
            " block5_conv3 (Conv2D)       (None, 14, 14, 512)       2359808   \n",
            "                                                                 \n",
            " block5_conv4 (Conv2D)       (None, 14, 14, 512)       2359808   \n",
            "                                                                 \n",
            " block5_pool (MaxPooling2D)  (None, 7, 7, 512)         0         \n",
            "                                                                 \n",
            "=================================================================\n",
            "Total params: 20,024,384\n",
            "Trainable params: 20,024,384\n",
            "Non-trainable params: 0\n",
            "_________________________________________________________________\n",
            "Found 34128 images belonging to 2 classes.\n",
            "Found 8726 images belonging to 2 classes.\n"
          ]
        }
      ]
    },
    {
      "cell_type": "code",
      "source": [
        "from tensorflow.keras.models import load_model\n",
        "import numpy as np\n",
        "model4 =load_model('/content/drive/MyDrive/2022dataset 05 2 22/vgg193.h5')\n",
        "#read_rv5 = np.load('/content/drive/MyDrive/2022dataset 05 2 22/historyv4.npy',allow_pickle='TRUE').item()\n",
        "\n",
        "\n",
        "# Compile the model\n",
        "model4.compile(loss='binary_crossentropy',\n",
        "optimizer=optimizers.RMSprop(lr=2e-5),\n",
        "metrics=['acc'])\n",
        "\n",
        "# Train the model\n",
        "historyvg4 = model4.fit_generator(\n",
        "    train_generator,\n",
        "    steps_per_epoch=50,\n",
        "    epochs=20,\n",
        "    validation_data=validation_generator,\n",
        "    validation_steps=len(validation_generator))"
      ],
      "metadata": {
        "colab": {
          "base_uri": "https://localhost:8080/"
        },
        "id": "SqKZo9uSl6PQ",
        "outputId": "049231b8-8607-4f5c-d129-59abe83eeba2"
      },
      "execution_count": null,
      "outputs": [
        {
          "metadata": {
            "tags": null
          },
          "name": "stderr",
          "output_type": "stream",
          "text": [
            "/usr/local/lib/python3.7/dist-packages/keras/optimizer_v2/rmsprop.py:130: UserWarning: The `lr` argument is deprecated, use `learning_rate` instead.\n",
            "  super(RMSprop, self).__init__(name, **kwargs)\n",
            "/usr/local/lib/python3.7/dist-packages/ipykernel_launcher.py:18: UserWarning: `Model.fit_generator` is deprecated and will be removed in a future version. Please use `Model.fit`, which supports generators.\n"
          ]
        },
        {
          "output_type": "stream",
          "name": "stdout",
          "text": [
            "Epoch 1/20\n",
            "50/50 [==============================] - 3297s 67s/step - loss: 0.3321 - acc: 0.8490 - val_loss: 0.2770 - val_acc: 0.8814\n",
            "Epoch 2/20\n",
            "50/50 [==============================] - 906s 18s/step - loss: 0.3159 - acc: 0.8590 - val_loss: 0.3231 - val_acc: 0.8600\n",
            "Epoch 3/20\n",
            "50/50 [==============================] - 879s 18s/step - loss: 0.3003 - acc: 0.8610 - val_loss: 0.3140 - val_acc: 0.8648\n",
            "Epoch 4/20\n",
            "50/50 [==============================] - 883s 18s/step - loss: 0.2791 - acc: 0.8800 - val_loss: 0.2923 - val_acc: 0.8736\n",
            "Epoch 5/20\n",
            "50/50 [==============================] - 872s 18s/step - loss: 0.3050 - acc: 0.8730 - val_loss: 0.2944 - val_acc: 0.8734\n",
            "Epoch 6/20\n",
            "50/50 [==============================] - 853s 17s/step - loss: 0.2878 - acc: 0.8710 - val_loss: 0.3406 - val_acc: 0.8551\n",
            "Epoch 7/20\n",
            "50/50 [==============================] - 858s 17s/step - loss: 0.3454 - acc: 0.8370 - val_loss: 0.3190 - val_acc: 0.8538\n",
            "Epoch 8/20\n",
            "50/50 [==============================] - 831s 17s/step - loss: 0.3034 - acc: 0.8810 - val_loss: 0.3004 - val_acc: 0.8702\n",
            "Epoch 9/20\n",
            "50/50 [==============================] - 812s 16s/step - loss: 0.2883 - acc: 0.8850 - val_loss: 0.2683 - val_acc: 0.8800\n",
            "Epoch 10/20\n",
            "50/50 [==============================] - 813s 16s/step - loss: 0.2979 - acc: 0.8690 - val_loss: 0.2579 - val_acc: 0.8864\n",
            "Epoch 11/20\n",
            "50/50 [==============================] - 800s 16s/step - loss: 0.2728 - acc: 0.8890 - val_loss: 0.3041 - val_acc: 0.8703\n",
            "Epoch 12/20\n",
            "50/50 [==============================] - 791s 16s/step - loss: 0.2731 - acc: 0.8790 - val_loss: 0.2585 - val_acc: 0.8894\n",
            "Epoch 13/20\n",
            "50/50 [==============================] - 795s 16s/step - loss: 0.2908 - acc: 0.8700 - val_loss: 0.3058 - val_acc: 0.8696\n",
            "Epoch 14/20\n",
            "50/50 [==============================] - 775s 16s/step - loss: 0.2935 - acc: 0.8760 - val_loss: 0.2745 - val_acc: 0.8777\n",
            "Epoch 15/20\n",
            "50/50 [==============================] - 776s 16s/step - loss: 0.3138 - acc: 0.8610 - val_loss: 0.2649 - val_acc: 0.8847\n",
            "Epoch 16/20\n",
            "50/50 [==============================] - 762s 15s/step - loss: 0.2905 - acc: 0.8680 - val_loss: 0.2713 - val_acc: 0.8828\n",
            "Epoch 17/20\n",
            "50/50 [==============================] - 761s 15s/step - loss: 0.3143 - acc: 0.8590 - val_loss: 0.2584 - val_acc: 0.8878\n",
            "Epoch 18/20\n",
            "50/50 [==============================] - 755s 15s/step - loss: 0.3127 - acc: 0.8810 - val_loss: 0.2901 - val_acc: 0.8746\n",
            "Epoch 19/20\n",
            "50/50 [==============================] - 752s 15s/step - loss: 0.2902 - acc: 0.8750 - val_loss: 0.2514 - val_acc: 0.8931\n",
            "Epoch 20/20\n",
            "50/50 [==============================] - 748s 15s/step - loss: 0.3028 - acc: 0.8670 - val_loss: 0.3031 - val_acc: 0.8679\n"
          ]
        }
      ]
    },
    {
      "cell_type": "code",
      "source": [
        "model4.save('/content/drive/MyDrive/2022dataset 05 2 22/vgg194.h5')\n",
        "np.save('/content/drive/MyDrive/2022dataset 05 2 22/historyvg4', historyvg4) "
      ],
      "metadata": {
        "colab": {
          "base_uri": "https://localhost:8080/"
        },
        "id": "2WjkUhIGmIAP",
        "outputId": "ffa42749-fad5-43e4-8e7b-ddda6508808c"
      },
      "execution_count": null,
      "outputs": [
        {
          "output_type": "stream",
          "name": "stdout",
          "text": [
            "INFO:tensorflow:Assets written to: ram://4d1d9cf4-cccc-44c8-ae26-0235c9565b60/assets\n"
          ]
        }
      ]
    },
    {
      "cell_type": "code",
      "source": [
        "import matplotlib.pyplot as plt\n",
        "!pip install pyyaml h5py\n",
        "from google.colab import drive\n",
        "drive.mount('/content/drive')\n",
        "import numpy as np\n",
        "import tensorflow as tf\n",
        "from tensorflow.keras.layers import Input, Lambda, Dense, Flatten\n",
        "from tensorflow.keras.models import Model\n",
        "#from tensorflow.keras.applications.inception_v3 import InceptionV3\n",
        "#from tensorflow.keras.applications.inception_v3 import preprocess_input\n",
        "from tensorflow.keras.preprocessing import image\n",
        "from tensorflow.keras.preprocessing.image import ImageDataGenerator,load_img\n",
        "from tensorflow.keras.models import Sequential\n",
        "read_r16 = np.load('/content/drive/MyDrive/2022dataset 05 2 22/historyg1.npy',allow_pickle='TRUE').item()\n",
        "#read_r17 = np.load('/content/drive/MyDrive/2022dataset 05 2 22/historyv3.npy',allow_pickle='TRUE').item()\n",
        "read_r18 = np.load('/content/drive/MyDrive/2022dataset 05 2 22/historyvg2.npy',allow_pickle='TRUE').item()\n",
        "read_r19 = np.load('/content/drive/MyDrive/2022dataset 05 2 22/historyvg3.npy',allow_pickle='TRUE').item()\n",
        "read_r20 = np.load('/content/drive/MyDrive/2022dataset 05 2 22/historyvg4.npy',allow_pickle='TRUE').item()\n",
        "\n",
        "#r_total_loss = read_r16.history['loss']+read_r17.history['loss'] + read_r18.history['loss']+  read_r19.history['loss']+read_r20.history['loss']\n",
        "#r_total_val_loss = read_r16.history['val_loss']+read_r17.history['val_loss'] + read_r18.history['val_loss']+ read_r19.history['val_loss']+read_r20.history['val_loss']\n",
        "#r_total_accuracy = read_r16.history['acc']+read_r17.history['acc'] + read_r18.history['acc']+ read_r19.history['acc']+read_r20.history['acc']\n",
        "#r_total_val_accuracy =read_r16.history['val_acc']+ read_r17.history['val_acc'] + read_r18.history['val_acc']+ read_r19.history['val_acc']+read_r20.history['acc']\n",
        "\n",
        "r_total_loss = read_r16.history['loss'] + read_r18.history['loss']+  read_r19.history['loss']+read_r20.history['loss']\n",
        "r_total_val_loss = read_r16.history['val_loss'] + read_r18.history['val_loss']+ read_r19.history['val_loss']+read_r20.history['val_loss']\n",
        "\n",
        "r_total_accuracy = read_r16.history['acc']+ read_r18.history['acc']+ read_r19.history['acc']+read_r20.history['acc']\n",
        "r_total_val_accuracy =read_r16.history['val_acc'] + read_r18.history['val_acc']+ read_r19.history['val_acc']+read_r20.history['val_acc']\n",
        "\n",
        "\n",
        "\n",
        "#print(read_r1.history['loss'])\n",
        "from matplotlib import pyplot\n",
        "pyplot.grid(linestyle='--')\n",
        "\n",
        "\n",
        "# plot the loss\n",
        "plt.plot(r_total_loss,  label='train loss')\n",
        "plt.plot(r_total_val_loss, label='val loss')\n",
        "plt.legend()\n",
        "\n",
        "plt.savefig('LossVal_lossvgg19100epochs.pdf',format='pdf',dpi=800)\n",
        "plt.show()\n",
        "# plot the accuracy\n",
        "plt.plot(r_total_accuracy, label='train acc')\n",
        "plt.plot(r_total_val_accuracy , label='val acc')\n",
        "plt.legend()\n",
        "pyplot.grid(linestyle='--')\n",
        "\n",
        "plt.savefig('AccVal_accvgg196100epochs.pdf',format='pdf', dpi=800)"
      ],
      "metadata": {
        "colab": {
          "base_uri": "https://localhost:8080/",
          "height": 620
        },
        "id": "bc0xPBMo82iA",
        "outputId": "f986a735-b176-4c80-a1ca-0b3292e3c61a"
      },
      "execution_count": null,
      "outputs": [
        {
          "output_type": "stream",
          "name": "stdout",
          "text": [
            "Requirement already satisfied: pyyaml in /usr/local/lib/python3.7/dist-packages (3.13)\n",
            "Requirement already satisfied: h5py in /usr/local/lib/python3.7/dist-packages (3.1.0)\n",
            "Requirement already satisfied: cached-property in /usr/local/lib/python3.7/dist-packages (from h5py) (1.5.2)\n",
            "Requirement already satisfied: numpy>=1.14.5 in /usr/local/lib/python3.7/dist-packages (from h5py) (1.21.6)\n",
            "Drive already mounted at /content/drive; to attempt to forcibly remount, call drive.mount(\"/content/drive\", force_remount=True).\n"
          ]
        },
        {
          "output_type": "display_data",
          "data": {
            "text/plain": [
              "<Figure size 432x288 with 1 Axes>"
            ],
            "image/png": "[encoded data removed]"
          },
          "metadata": {
            "needs_background": "light"
          }
        },
        {
          "output_type": "display_data",
          "data": {
            "text/plain": [
              "<Figure size 432x288 with 1 Axes>"
            ],
            "image/png": "[encoded data removed]"
          },
          "metadata": {
            "needs_background": "light"
          }
        }
      ]
    },
    {
      "cell_type": "code",
      "source": [
        "from keras.metrics import CategoricalHinge\n",
        "################--TESTED--#########################\n",
        "#REFER: https://gist.github.com/RyanAkilos/3808c17f79e77c4117de35aa68447045\n",
        "#Confution Matrix and Classification Report\n",
        "#problem with column filled with zeros refer to : https://stackoverflow.com/questions/51282098/plotting-confusion-matrix-for-an-image-classification-model?rq=1\n",
        "from sklearn.metrics import classification_report\n",
        "from tensorflow.keras.preprocessing.image import ImageDataGenerator\n",
        "\n",
        "from sklearn.metrics import confusion_matrix\n",
        "from keras.models import load_model\n",
        "#import numpy as nb_epochs\n",
        "import numpy as np\n",
        "\n",
        "classifier = load_model('/content/drive/MyDrive/2022dataset 05 2 22/vgg194.h5')\n",
        "test_datagen = ImageDataGenerator(rescale=1./255)\n",
        "# only rescaling\n",
        "train_datagen =  ImageDataGenerator(rescale=1./255)\n",
        "test_datagen =  ImageDataGenerator(rescale=1./255)\n",
        "\n",
        "train_data_dir = \"/content/drive/MyDrive/2022dataset 05 2 22/train\"\n",
        "val_data_dir = \"/content/drive/MyDrive/2022dataset 05 2 22/validation\"\n",
        "#test_data_dir = \"/content/drive/MyDrive/2022dataset 05 2 22/test\"\n",
        "\n",
        "\n",
        "val_set = test_datagen.flow_from_directory(val_data_dir,\n",
        "                                                  target_size = (224, 224),\n",
        "                                                 batch_size = 16,\n",
        "                                                 class_mode = 'binary',\n",
        "                                                 shuffle=False)\n",
        "\n",
        "batch_size=16\n",
        "val_set.reset()\n",
        "Y_pred = classifier.predict(val_set, len(val_set) // batch_size+1, workers=0)\n",
        "y_pred = np.where(Y_pred>0.5, 1, 0)\n",
        "\n",
        "#y_pred = np.argmax(Y_pred, axis=1)\n",
        "cm = confusion_matrix(val_set.classes, y_pred)\n",
        "\n",
        "#y_pred = np.argmax(Y_pred, axis=1)\n",
        "print('Confusion Matrix')\n",
        "print(cm)\n",
        "print('Classification Report')\n",
        "target_names = ['Diseased', 'Healthy']\n",
        "print(classification_report(val_set.classes, y_pred, target_names=target_names,digits=4))"
      ],
      "metadata": {
        "colab": {
          "base_uri": "https://localhost:8080/"
        },
        "id": "SFKu6QDI-A_g",
        "outputId": "2a855040-78ec-4cb5-ce5e-649bad7fe1ac"
      },
      "execution_count": null,
      "outputs": [
        {
          "output_type": "stream",
          "name": "stdout",
          "text": [
            "Found 8726 images belonging to 2 classes.\n",
            "Confusion Matrix\n",
            "[[3428 1006]\n",
            " [ 147 4145]]\n",
            "Classification Report\n",
            "              precision    recall  f1-score   support\n",
            "\n",
            "    Diseased     0.9589    0.7731    0.8560      4434\n",
            "     Healthy     0.8047    0.9658    0.8779      4292\n",
            "\n",
            "    accuracy                         0.8679      8726\n",
            "   macro avg     0.8818    0.8694    0.8670      8726\n",
            "weighted avg     0.8830    0.8679    0.8668      8726\n",
            "\n"
          ]
        }
      ]
    },
    {
      "cell_type": "code",
      "source": [
        "import seaborn as sns\n",
        "import matplotlib.pyplot as plt\n",
        "!pip install pyyaml h5py\n",
        "from google.colab import drive\n",
        "drive.mount('/content/drive')\n",
        "import tensorflow as tf\n",
        "from tensorflow.keras.layers import Input, Lambda, Dense, Flatten\n",
        "from tensorflow.keras.models import Model\n",
        "#from tensorflow.keras.applications.inception_v3 import InceptionV3\n",
        "#from tensorflow.keras.applications.inception_v3 import preprocess_input\n",
        "from tensorflow.keras.preprocessing import image\n",
        "from tensorflow.keras.preprocessing.image import ImageDataGenerator,load_img\n",
        "from tensorflow.keras.models import Sequential\n",
        "labels = ['Diseased', 'Healthy']\n",
        "confusion=sns.heatmap(cm ,annot=True, fmt ='g', xticklabels=labels, yticklabels=labels,cmap=\"viridis\")\n",
        "figure = confusion.get_figure()    \n",
        "figure.savefig('confusion_VGG19100.pdf', dpi=800)\n",
        "print(cm)"
      ],
      "metadata": {
        "colab": {
          "base_uri": "https://localhost:8080/",
          "height": 394
        },
        "id": "E0sXL-SB-PCw",
        "outputId": "d062a4cc-d76f-49b1-bce2-53be2d02d5aa"
      },
      "execution_count": null,
      "outputs": [
        {
          "output_type": "stream",
          "name": "stdout",
          "text": [
            "Requirement already satisfied: pyyaml in /usr/local/lib/python3.7/dist-packages (3.13)\n",
            "Requirement already satisfied: h5py in /usr/local/lib/python3.7/dist-packages (3.1.0)\n",
            "Requirement already satisfied: cached-property in /usr/local/lib/python3.7/dist-packages (from h5py) (1.5.2)\n",
            "Requirement already satisfied: numpy>=1.14.5 in /usr/local/lib/python3.7/dist-packages (from h5py) (1.21.6)\n",
            "Drive already mounted at /content/drive; to attempt to forcibly remount, call drive.mount(\"/content/drive\", force_remount=True).\n"
          ]
        },
        {
          "output_type": "error",
          "ename": "NameError",
          "evalue": "ignored",
          "traceback": [
            "\u001b[0;31m---------------------------------------------------------------------------\u001b[0m",
            "\u001b[0;31mNameError\u001b[0m                                 Traceback (most recent call last)",
            "\u001b[0;32m<ipython-input-8-69975fe8566c>\u001b[0m in \u001b[0;36m<module>\u001b[0;34m()\u001b[0m\n\u001b[1;32m     13\u001b[0m \u001b[0;32mfrom\u001b[0m \u001b[0mtensorflow\u001b[0m\u001b[0;34m.\u001b[0m\u001b[0mkeras\u001b[0m\u001b[0;34m.\u001b[0m\u001b[0mmodels\u001b[0m \u001b[0;32mimport\u001b[0m \u001b[0mSequential\u001b[0m\u001b[0;34m\u001b[0m\u001b[0;34m\u001b[0m\u001b[0m\n\u001b[1;32m     14\u001b[0m \u001b[0mlabels\u001b[0m \u001b[0;34m=\u001b[0m \u001b[0;34m[\u001b[0m\u001b[0;34m'Diseased'\u001b[0m\u001b[0;34m,\u001b[0m \u001b[0;34m'Healthy'\u001b[0m\u001b[0;34m]\u001b[0m\u001b[0;34m\u001b[0m\u001b[0;34m\u001b[0m\u001b[0m\n\u001b[0;32m---> 15\u001b[0;31m \u001b[0mconfusion\u001b[0m\u001b[0;34m=\u001b[0m\u001b[0msns\u001b[0m\u001b[0;34m.\u001b[0m\u001b[0mheatmap\u001b[0m\u001b[0;34m(\u001b[0m\u001b[0mcm\u001b[0m \u001b[0;34m,\u001b[0m\u001b[0mannot\u001b[0m\u001b[0;34m=\u001b[0m\u001b[0;32mTrue\u001b[0m\u001b[0;34m,\u001b[0m \u001b[0mfmt\u001b[0m \u001b[0;34m=\u001b[0m\u001b[0;34m'g'\u001b[0m\u001b[0;34m,\u001b[0m \u001b[0mxticklabels\u001b[0m\u001b[0;34m=\u001b[0m\u001b[0mlabels\u001b[0m\u001b[0;34m,\u001b[0m \u001b[0myticklabels\u001b[0m\u001b[0;34m=\u001b[0m\u001b[0mlabels\u001b[0m\u001b[0;34m,\u001b[0m\u001b[0mcmap\u001b[0m\u001b[0;34m=\u001b[0m\u001b[0;34m\"viridis\"\u001b[0m\u001b[0;34m)\u001b[0m\u001b[0;34m\u001b[0m\u001b[0;34m\u001b[0m\u001b[0m\n\u001b[0m\u001b[1;32m     16\u001b[0m \u001b[0mfigure\u001b[0m \u001b[0;34m=\u001b[0m \u001b[0mconfusion\u001b[0m\u001b[0;34m.\u001b[0m\u001b[0mget_figure\u001b[0m\u001b[0;34m(\u001b[0m\u001b[0;34m)\u001b[0m\u001b[0;34m\u001b[0m\u001b[0;34m\u001b[0m\u001b[0m\n\u001b[1;32m     17\u001b[0m \u001b[0mfigure\u001b[0m\u001b[0;34m.\u001b[0m\u001b[0msavefig\u001b[0m\u001b[0;34m(\u001b[0m\u001b[0;34m'confusion_VGG19100.pdf'\u001b[0m\u001b[0;34m,\u001b[0m \u001b[0mdpi\u001b[0m\u001b[0;34m=\u001b[0m\u001b[0;36m800\u001b[0m\u001b[0;34m)\u001b[0m\u001b[0;34m\u001b[0m\u001b[0;34m\u001b[0m\u001b[0m\n",
            "\u001b[0;31mNameError\u001b[0m: name 'cm' is not defined"
          ]
        }
      ]
    },
    {
      "cell_type": "code",
      "source": [
        "from keras.metrics import CategoricalHinge\n",
        "################--TESTED--#########################\n",
        "#REFER: https://gist.github.com/RyanAkilos/3808c17f79e77c4117de35aa68447045\n",
        "#Confution Matrix and Classification Report\n",
        "#problem with column filled with zeros refer to : https://stackoverflow.com/questions/51282098/plotting-confusion-matrix-for-an-image-classification-model?rq=1\n",
        "from sklearn.metrics import classification_report\n",
        "from tensorflow.keras.preprocessing.image import ImageDataGenerator\n",
        "\n",
        "from sklearn.metrics import confusion_matrix\n",
        "from keras.models import load_model\n",
        "#import numpy as nb_epochs\n",
        "import numpy as np\n",
        "\n",
        "classifier = load_model('/content/drive/MyDrive/2022dataset 05 2 22/vgg194.h5')\n",
        "test_datagen = ImageDataGenerator(rescale=1./255)\n",
        "# only rescaling\n",
        "train_datagen =  ImageDataGenerator(rescale=1./255)\n",
        "test_datagen =  ImageDataGenerator(rescale=1./255)\n",
        "\n",
        "train_data_dir = \"/content/drive/MyDrive/2022dataset 05 2 22/train\"\n",
        "val_data_dir = \"/content/drive/MyDrive/2022dataset 05 2 22/validation\"\n",
        "#test_data_dir = \"/content/drive/MyDrive/2022dataset 05 2 22/test\"\n",
        "\n",
        "\n",
        "val_set = test_datagen.flow_from_directory(val_data_dir,\n",
        "                                                  target_size = (224, 224),\n",
        "                                                 batch_size = 16,\n",
        "                                                 class_mode = 'binary',\n",
        "                                                 shuffle=False)\n",
        "\n",
        "batch_size=16\n",
        "val_set.reset()\n",
        "Y_pred = classifier.predict(val_set, len(val_set) // batch_size+1, workers=0)\n",
        "y_pred = np.where(Y_pred>0.5, 1, 0)"
      ],
      "metadata": {
        "colab": {
          "base_uri": "https://localhost:8080/"
        },
        "id": "Ftpm_eAhEkPs",
        "outputId": "0b26f23e-1b68-4cd7-a421-8158772116ab"
      },
      "execution_count": null,
      "outputs": [
        {
          "output_type": "stream",
          "name": "stdout",
          "text": [
            "Found 8726 images belonging to 2 classes.\n"
          ]
        }
      ]
    },
    {
      "cell_type": "code",
      "source": [
        "#y_pred = np.argmax(Y_pred, axis=1)\n",
        "cm = confusion_matrix(val_set.classes, y_pred)\n",
        "\n",
        "#y_pred = np.argmax(Y_pred, axis=1)\n",
        "print('Confusion Matrix')\n",
        "print(cm)\n",
        "print('Classification Report')\n",
        "target_names = ['Diseased', 'Healthy']\n",
        "print(classification_report(val_set.classes, y_pred, target_names=target_names,digits=4))"
      ],
      "metadata": {
        "colab": {
          "base_uri": "https://localhost:8080/"
        },
        "id": "6c1Ju5T4XXz7",
        "outputId": "3d5229e4-6d1d-443f-ca40-5091083a386f"
      },
      "execution_count": null,
      "outputs": [
        {
          "output_type": "stream",
          "name": "stdout",
          "text": [
            "Confusion Matrix\n",
            "[[3428 1006]\n",
            " [ 147 4145]]\n",
            "Classification Report\n",
            "              precision    recall  f1-score   support\n",
            "\n",
            "    Diseased     0.9589    0.7731    0.8560      4434\n",
            "     Healthy     0.8047    0.9658    0.8779      4292\n",
            "\n",
            "    accuracy                         0.8679      8726\n",
            "   macro avg     0.8818    0.8694    0.8670      8726\n",
            "weighted avg     0.8830    0.8679    0.8668      8726\n",
            "\n"
          ]
        }
      ]
    },
    {
      "cell_type": "code",
      "source": [
        "import seaborn as sns\n",
        "import matplotlib.pyplot as plt\n",
        "!pip install pyyaml h5py\n",
        "from google.colab import drive\n",
        "drive.mount('/content/drive')\n",
        "import tensorflow as tf\n",
        "from tensorflow.keras.layers import Input, Lambda, Dense, Flatten\n",
        "from tensorflow.keras.models import Model\n",
        "#from tensorflow.keras.applications.inception_v3 import InceptionV3\n",
        "#from tensorflow.keras.applications.inception_v3 import preprocess_input\n",
        "from tensorflow.keras.preprocessing import image\n",
        "from tensorflow.keras.preprocessing.image import ImageDataGenerator,load_img\n",
        "from tensorflow.keras.models import Sequential\n",
        "labels = ['Diseased', 'Healthy']\n",
        "confusion=sns.heatmap(cm ,annot=True, fmt ='g', xticklabels=labels, yticklabels=labels,cmap=\"viridis\")\n",
        "figure = confusion.get_figure()    \n",
        "figure.savefig('confusion_VGG19100.pdf', dpi=800)\n",
        "print(cm)"
      ],
      "metadata": {
        "colab": {
          "base_uri": "https://localhost:8080/",
          "height": 407
        },
        "id": "HUVPhTj-XcSh",
        "outputId": "1298ca40-2c54-4d15-cabb-5ee678c33933"
      },
      "execution_count": null,
      "outputs": [
        {
          "output_type": "stream",
          "name": "stdout",
          "text": [
            "Requirement already satisfied: pyyaml in /usr/local/lib/python3.7/dist-packages (3.13)\n",
            "Requirement already satisfied: h5py in /usr/local/lib/python3.7/dist-packages (3.1.0)\n",
            "Requirement already satisfied: cached-property in /usr/local/lib/python3.7/dist-packages (from h5py) (1.5.2)\n",
            "Requirement already satisfied: numpy>=1.14.5 in /usr/local/lib/python3.7/dist-packages (from h5py) (1.21.6)\n",
            "Drive already mounted at /content/drive; to attempt to forcibly remount, call drive.mount(\"/content/drive\", force_remount=True).\n",
            "[[3428 1006]\n",
            " [ 147 4145]]\n"
          ]
        },
        {
          "output_type": "display_data",
          "data": {
            "text/plain": [
              "<Figure size 432x288 with 2 Axes>"
            ],
            "image/png": "[encoded data removed]"
          },
          "metadata": {
            "needs_background": "light"
          }
        }
      ]
    },
    {
      "cell_type": "code",
      "source": [
        "################--TESTED--#########################\n",
        "#REFER TO: https://towardsdatascience.com/10-minutes-to-building-a-fully-connected-binary-image-classifier-in-tensorflow-d88062e1247f\n",
        "# https://colab.research.google.com/drive/1HgaywLtvIJZ8B9F8oWML772CfxL6UB0p?usp=sharing\n",
        "#ROC\n",
        "import matplotlib.pyplot as plt\n",
        "from sklearn.metrics import roc_curve, auc\n",
        "from sklearn.metrics import roc_auc_score\n",
        "\n",
        "# val_set = test_datagen.flow_from_directory('/content/drive/MyDrive/Dataset17/Test',\n",
        "#                                                  target_size = (224, 224),\n",
        "#                                                  batch_size = 16,\n",
        "#                                                  class_mode = 'categorical',\n",
        "#                                                   shuffle=False)\n",
        "\n",
        "# val_set.reset()\n",
        "\n",
        "# preds = model.predict(val_set, verbose=1)\n",
        "# preds = np.argmax(preds, axis=1)\n",
        "\n",
        "\n",
        "#y_proba = model.predict_proba(X_test)\n",
        "preds = y_pred\n",
        "fpr, tpr, _ = roc_curve(val_set.classes, preds)\n",
        "AUC = roc_auc_score(val_set.classes, preds)\n",
        "\n",
        "\n",
        "roc_auc = auc(fpr, tpr)\n",
        "\n",
        "print(\"ROC: \", roc_auc)\n",
        "print(\"AUC: \", AUC)\n",
        "\n",
        "plt.figure()\n",
        "lw = 1\n",
        "plt.plot(fpr,tpr,color='#1F77B4', label='ROC curve (area=%0.2f)' % roc_auc)\n",
        "plt.plot([0, 1], [0, 1],linestyle='--', lw=lw,color='r', label = 'AUC')\n",
        "#plt.plot(fpr,tpr, color='r',linestyle='--', lw=lw, label='ROC curve (area=%0.2f)' % roc_auc)\n",
        "#plt.fill(fpr, tpr, color='#1F77B4', label = 'AUC')\n",
        "\n",
        "plt.xlim([0.0,1.0])\n",
        "plt.ylim([0.0,1.05])\n",
        "\n",
        "plt.xlabel('False positive rate')\n",
        "plt.ylabel('True positive rate')\n",
        "plt.title('ROC')\n",
        "plt.legend(loc='lower right')\n",
        "from matplotlib import pyplot\n",
        "pyplot.grid(linestyle='--')\n",
        "plt.savefig('roc-aucvgg19100epochs.pdf',format='pdf', dpi=800)\n",
        "plt.show()"
      ],
      "metadata": {
        "id": "o5Fh6bKb-X2A",
        "colab": {
          "base_uri": "https://localhost:8080/",
          "height": 330
        },
        "outputId": "2fe776e8-e45c-4701-cbbd-0784532c4b4e"
      },
      "execution_count": null,
      "outputs": [
        {
          "output_type": "stream",
          "name": "stdout",
          "text": [
            "ROC:  0.869433528764638\n",
            "AUC:  0.869433528764638\n"
          ]
        },
        {
          "output_type": "display_data",
          "data": {
            "text/plain": [
              "<Figure size 432x288 with 1 Axes>"
            ],
            "image/png": "[encoded data removed]"
          },
          "metadata": {
            "needs_background": "light"
          }
        }
      ]
    },
    {
      "cell_type": "code",
      "source": [],
      "metadata": {
        "id": "GKZGrtQYWYZv"
      },
      "execution_count": null,
      "outputs": []
    }
  ],
  "metadata": {
    "accelerator": "TPU",
    "colab": {
      "collapsed_sections": [],
      "machine_shape": "hm",
      "provenance": [],
      "mount_file_id": "1oexCbt-dsJQ7GSNSs2Xb8U2axlFrWUrP",
      "authorship_tag": "ABX9TyM0VzlfbijTZeuoiNRaKeGH",
      "include_colab_link": true
    },
    "kernelspec": {
      "display_name": "Python 3",
      "name": "python3"
    },
    "language_info": {
      "name": "python"
    }
  },
  "nbformat": 4,
  "nbformat_minor": 0
}