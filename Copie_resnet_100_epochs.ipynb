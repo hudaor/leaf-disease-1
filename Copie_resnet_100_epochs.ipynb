{
  "cells": [
    {
      "cell_type": "markdown",
      "metadata": {
        "id": "view-in-github",
        "colab_type": "text"
      },
      "source": [
        "<a href=\"https://colab.research.google.com/github/hudaor/leaf-disease-1/blob/main/Copie_resnet_100_epochs.ipynb\" target=\"_parent\"><img src=\"https://colab.research.google.com/assets/colab-badge.svg\" alt=\"Open In Colab\"/></a>"
      ]
    },
    {
      "cell_type": "code",
      "execution_count": null,
      "metadata": {
        "colab": {
          "base_uri": "https://localhost:8080/"
        },
        "id": "syNbCPQa6B4t",
        "outputId": "7f9c1619-0093-471e-a5cb-d6d686baa951"
      },
      "outputs": [
        {
          "name": "stdout",
          "output_type": "stream",
          "text": [
            "Looking in indexes: https://pypi.org/simple, https://us-python.pkg.dev/colab-wheels/public/simple/\n",
            "Requirement already satisfied: pyyaml in /usr/local/lib/python3.7/dist-packages (3.13)\n",
            "Requirement already satisfied: h5py in /usr/local/lib/python3.7/dist-packages (3.1.0)\n",
            "Requirement already satisfied: numpy>=1.14.5 in /usr/local/lib/python3.7/dist-packages (from h5py) (1.21.6)\n",
            "Requirement already satisfied: cached-property in /usr/local/lib/python3.7/dist-packages (from h5py) (1.5.2)\n"
          ]
        }
      ],
      "source": [
        "\n",
        "!pip install pyyaml h5py"
      ]
    },
    {
      "cell_type": "code",
      "execution_count": null,
      "metadata": {
        "colab": {
          "base_uri": "https://localhost:8080/"
        },
        "id": "4LrKQryN6P1U",
        "outputId": "e9f55ee0-af02-47a3-e577-c383ca6d3769"
      },
      "outputs": [
        {
          "name": "stdout",
          "output_type": "stream",
          "text": [
            "Mounted at /content/drive\n"
          ]
        }
      ],
      "source": [
        "from google.colab import drive\n",
        "drive.mount('/content/drive')\n"
      ]
    },
    {
      "cell_type": "code",
      "execution_count": null,
      "metadata": {
        "id": "wX2taWEi6cys"
      },
      "outputs": [],
      "source": [
        "#Resnet50\n",
        "import tensorflow as tf\n",
        "from tensorflow.keras.layers import Input, Lambda, Dense, Flatten\n",
        "from tensorflow.keras.models import Model\n",
        "from tensorflow.keras.applications.resnet50 import ResNet50\n",
        "from tensorflow.keras.applications.resnet50 import preprocess_input\n",
        "from tensorflow.keras.preprocessing import image\n",
        "from tensorflow.keras.preprocessing.image import ImageDataGenerator,load_img\n",
        "from tensorflow.keras.models import Sequential"
      ]
    },
    {
      "cell_type": "code",
      "execution_count": null,
      "metadata": {
        "colab": {
          "base_uri": "https://localhost:8080/"
        },
        "id": "92euTKlm7JOi",
        "outputId": "64a94d17-e358-4bcf-85d6-388caa9c5f71"
      },
      "outputs": [
        {
          "name": "stdout",
          "output_type": "stream",
          "text": [
            "Model: \"resnet50\"\n",
            "__________________________________________________________________________________________________\n",
            " Layer (type)                   Output Shape         Param #     Connected to                     \n",
            "==================================================================================================\n",
            " input_2 (InputLayer)           [(None, 224, 224, 3  0           []                               \n",
            "                                )]                                                                \n",
            "                                                                                                  \n",
            " conv1_pad (ZeroPadding2D)      (None, 230, 230, 3)  0           ['input_2[0][0]']                \n",
            "                                                                                                  \n",
            " conv1_conv (Conv2D)            (None, 112, 112, 64  9472        ['conv1_pad[0][0]']              \n",
            "                                )                                                                 \n",
            "                                                                                                  \n",
            " conv1_bn (BatchNormalization)  (None, 112, 112, 64  256         ['conv1_conv[0][0]']             \n",
            "                                )                                                                 \n",
            "                                                                                                  \n",
            " conv1_relu (Activation)        (None, 112, 112, 64  0           ['conv1_bn[0][0]']               \n",
            "                                )                                                                 \n",
            "                                                                                                  \n",
            " pool1_pad (ZeroPadding2D)      (None, 114, 114, 64  0           ['conv1_relu[0][0]']             \n",
            "                                )                                                                 \n",
            "                                                                                                  \n",
            " pool1_pool (MaxPooling2D)      (None, 56, 56, 64)   0           ['pool1_pad[0][0]']              \n",
            "                                                                                                  \n",
            " conv2_block1_1_conv (Conv2D)   (None, 56, 56, 64)   4160        ['pool1_pool[0][0]']             \n",
            "                                                                                                  \n",
            " conv2_block1_1_bn (BatchNormal  (None, 56, 56, 64)  256         ['conv2_block1_1_conv[0][0]']    \n",
            " ization)                                                                                         \n",
            "                                                                                                  \n",
            " conv2_block1_1_relu (Activatio  (None, 56, 56, 64)  0           ['conv2_block1_1_bn[0][0]']      \n",
            " n)                                                                                               \n",
            "                                                                                                  \n",
            " conv2_block1_2_conv (Conv2D)   (None, 56, 56, 64)   36928       ['conv2_block1_1_relu[0][0]']    \n",
            "                                                                                                  \n",
            " conv2_block1_2_bn (BatchNormal  (None, 56, 56, 64)  256         ['conv2_block1_2_conv[0][0]']    \n",
            " ization)                                                                                         \n",
            "                                                                                                  \n",
            " conv2_block1_2_relu (Activatio  (None, 56, 56, 64)  0           ['conv2_block1_2_bn[0][0]']      \n",
            " n)                                                                                               \n",
            "                                                                                                  \n",
            " conv2_block1_0_conv (Conv2D)   (None, 56, 56, 256)  16640       ['pool1_pool[0][0]']             \n",
            "                                                                                                  \n",
            " conv2_block1_3_conv (Conv2D)   (None, 56, 56, 256)  16640       ['conv2_block1_2_relu[0][0]']    \n",
            "                                                                                                  \n",
            " conv2_block1_0_bn (BatchNormal  (None, 56, 56, 256)  1024       ['conv2_block1_0_conv[0][0]']    \n",
            " ization)                                                                                         \n",
            "                                                                                                  \n",
            " conv2_block1_3_bn (BatchNormal  (None, 56, 56, 256)  1024       ['conv2_block1_3_conv[0][0]']    \n",
            " ization)                                                                                         \n",
            "                                                                                                  \n",
            " conv2_block1_add (Add)         (None, 56, 56, 256)  0           ['conv2_block1_0_bn[0][0]',      \n",
            "                                                                  'conv2_block1_3_bn[0][0]']      \n",
            "                                                                                                  \n",
            " conv2_block1_out (Activation)  (None, 56, 56, 256)  0           ['conv2_block1_add[0][0]']       \n",
            "                                                                                                  \n",
            " conv2_block2_1_conv (Conv2D)   (None, 56, 56, 64)   16448       ['conv2_block1_out[0][0]']       \n",
            "                                                                                                  \n",
            " conv2_block2_1_bn (BatchNormal  (None, 56, 56, 64)  256         ['conv2_block2_1_conv[0][0]']    \n",
            " ization)                                                                                         \n",
            "                                                                                                  \n",
            " conv2_block2_1_relu (Activatio  (None, 56, 56, 64)  0           ['conv2_block2_1_bn[0][0]']      \n",
            " n)                                                                                               \n",
            "                                                                                                  \n",
            " conv2_block2_2_conv (Conv2D)   (None, 56, 56, 64)   36928       ['conv2_block2_1_relu[0][0]']    \n",
            "                                                                                                  \n",
            " conv2_block2_2_bn (BatchNormal  (None, 56, 56, 64)  256         ['conv2_block2_2_conv[0][0]']    \n",
            " ization)                                                                                         \n",
            "                                                                                                  \n",
            " conv2_block2_2_relu (Activatio  (None, 56, 56, 64)  0           ['conv2_block2_2_bn[0][0]']      \n",
            " n)                                                                                               \n",
            "                                                                                                  \n",
            " conv2_block2_3_conv (Conv2D)   (None, 56, 56, 256)  16640       ['conv2_block2_2_relu[0][0]']    \n",
            "                                                                                                  \n",
            " conv2_block2_3_bn (BatchNormal  (None, 56, 56, 256)  1024       ['conv2_block2_3_conv[0][0]']    \n",
            " ization)                                                                                         \n",
            "                                                                                                  \n",
            " conv2_block2_add (Add)         (None, 56, 56, 256)  0           ['conv2_block1_out[0][0]',       \n",
            "                                                                  'conv2_block2_3_bn[0][0]']      \n",
            "                                                                                                  \n",
            " conv2_block2_out (Activation)  (None, 56, 56, 256)  0           ['conv2_block2_add[0][0]']       \n",
            "                                                                                                  \n",
            " conv2_block3_1_conv (Conv2D)   (None, 56, 56, 64)   16448       ['conv2_block2_out[0][0]']       \n",
            "                                                                                                  \n",
            " conv2_block3_1_bn (BatchNormal  (None, 56, 56, 64)  256         ['conv2_block3_1_conv[0][0]']    \n",
            " ization)                                                                                         \n",
            "                                                                                                  \n",
            " conv2_block3_1_relu (Activatio  (None, 56, 56, 64)  0           ['conv2_block3_1_bn[0][0]']      \n",
            " n)                                                                                               \n",
            "                                                                                                  \n",
            " conv2_block3_2_conv (Conv2D)   (None, 56, 56, 64)   36928       ['conv2_block3_1_relu[0][0]']    \n",
            "                                                                                                  \n",
            " conv2_block3_2_bn (BatchNormal  (None, 56, 56, 64)  256         ['conv2_block3_2_conv[0][0]']    \n",
            " ization)                                                                                         \n",
            "                                                                                                  \n",
            " conv2_block3_2_relu (Activatio  (None, 56, 56, 64)  0           ['conv2_block3_2_bn[0][0]']      \n",
            " n)                                                                                               \n",
            "                                                                                                  \n",
            " conv2_block3_3_conv (Conv2D)   (None, 56, 56, 256)  16640       ['conv2_block3_2_relu[0][0]']    \n",
            "                                                                                                  \n",
            " conv2_block3_3_bn (BatchNormal  (None, 56, 56, 256)  1024       ['conv2_block3_3_conv[0][0]']    \n",
            " ization)                                                                                         \n",
            "                                                                                                  \n",
            " conv2_block3_add (Add)         (None, 56, 56, 256)  0           ['conv2_block2_out[0][0]',       \n",
            "                                                                  'conv2_block3_3_bn[0][0]']      \n",
            "                                                                                                  \n",
            " conv2_block3_out (Activation)  (None, 56, 56, 256)  0           ['conv2_block3_add[0][0]']       \n",
            "                                                                                                  \n",
            " conv3_block1_1_conv (Conv2D)   (None, 28, 28, 128)  32896       ['conv2_block3_out[0][0]']       \n",
            "                                                                                                  \n",
            " conv3_block1_1_bn (BatchNormal  (None, 28, 28, 128)  512        ['conv3_block1_1_conv[0][0]']    \n",
            " ization)                                                                                         \n",
            "                                                                                                  \n",
            " conv3_block1_1_relu (Activatio  (None, 28, 28, 128)  0          ['conv3_block1_1_bn[0][0]']      \n",
            " n)                                                                                               \n",
            "                                                                                                  \n",
            " conv3_block1_2_conv (Conv2D)   (None, 28, 28, 128)  147584      ['conv3_block1_1_relu[0][0]']    \n",
            "                                                                                                  \n",
            " conv3_block1_2_bn (BatchNormal  (None, 28, 28, 128)  512        ['conv3_block1_2_conv[0][0]']    \n",
            " ization)                                                                                         \n",
            "                                                                                                  \n",
            " conv3_block1_2_relu (Activatio  (None, 28, 28, 128)  0          ['conv3_block1_2_bn[0][0]']      \n",
            " n)                                                                                               \n",
            "                                                                                                  \n",
            " conv3_block1_0_conv (Conv2D)   (None, 28, 28, 512)  131584      ['conv2_block3_out[0][0]']       \n",
            "                                                                                                  \n",
            " conv3_block1_3_conv (Conv2D)   (None, 28, 28, 512)  66048       ['conv3_block1_2_relu[0][0]']    \n",
            "                                                                                                  \n",
            " conv3_block1_0_bn (BatchNormal  (None, 28, 28, 512)  2048       ['conv3_block1_0_conv[0][0]']    \n",
            " ization)                                                                                         \n",
            "                                                                                                  \n",
            " conv3_block1_3_bn (BatchNormal  (None, 28, 28, 512)  2048       ['conv3_block1_3_conv[0][0]']    \n",
            " ization)                                                                                         \n",
            "                                                                                                  \n",
            " conv3_block1_add (Add)         (None, 28, 28, 512)  0           ['conv3_block1_0_bn[0][0]',      \n",
            "                                                                  'conv3_block1_3_bn[0][0]']      \n",
            "                                                                                                  \n",
            " conv3_block1_out (Activation)  (None, 28, 28, 512)  0           ['conv3_block1_add[0][0]']       \n",
            "                                                                                                  \n",
            " conv3_block2_1_conv (Conv2D)   (None, 28, 28, 128)  65664       ['conv3_block1_out[0][0]']       \n",
            "                                                                                                  \n",
            " conv3_block2_1_bn (BatchNormal  (None, 28, 28, 128)  512        ['conv3_block2_1_conv[0][0]']    \n",
            " ization)                                                                                         \n",
            "                                                                                                  \n",
            " conv3_block2_1_relu (Activatio  (None, 28, 28, 128)  0          ['conv3_block2_1_bn[0][0]']      \n",
            " n)                                                                                               \n",
            "                                                                                                  \n",
            " conv3_block2_2_conv (Conv2D)   (None, 28, 28, 128)  147584      ['conv3_block2_1_relu[0][0]']    \n",
            "                                                                                                  \n",
            " conv3_block2_2_bn (BatchNormal  (None, 28, 28, 128)  512        ['conv3_block2_2_conv[0][0]']    \n",
            " ization)                                                                                         \n",
            "                                                                                                  \n",
            " conv3_block2_2_relu (Activatio  (None, 28, 28, 128)  0          ['conv3_block2_2_bn[0][0]']      \n",
            " n)                                                                                               \n",
            "                                                                                                  \n",
            " conv3_block2_3_conv (Conv2D)   (None, 28, 28, 512)  66048       ['conv3_block2_2_relu[0][0]']    \n",
            "                                                                                                  \n",
            " conv3_block2_3_bn (BatchNormal  (None, 28, 28, 512)  2048       ['conv3_block2_3_conv[0][0]']    \n",
            " ization)                                                                                         \n",
            "                                                                                                  \n",
            " conv3_block2_add (Add)         (None, 28, 28, 512)  0           ['conv3_block1_out[0][0]',       \n",
            "                                                                  'conv3_block2_3_bn[0][0]']      \n",
            "                                                                                                  \n",
            " conv3_block2_out (Activation)  (None, 28, 28, 512)  0           ['conv3_block2_add[0][0]']       \n",
            "                                                                                                  \n",
            " conv3_block3_1_conv (Conv2D)   (None, 28, 28, 128)  65664       ['conv3_block2_out[0][0]']       \n",
            "                                                                                                  \n",
            " conv3_block3_1_bn (BatchNormal  (None, 28, 28, 128)  512        ['conv3_block3_1_conv[0][0]']    \n",
            " ization)                                                                                         \n",
            "                                                                                                  \n",
            " conv3_block3_1_relu (Activatio  (None, 28, 28, 128)  0          ['conv3_block3_1_bn[0][0]']      \n",
            " n)                                                                                               \n",
            "                                                                                                  \n",
            " conv3_block3_2_conv (Conv2D)   (None, 28, 28, 128)  147584      ['conv3_block3_1_relu[0][0]']    \n",
            "                                                                                                  \n",
            " conv3_block3_2_bn (BatchNormal  (None, 28, 28, 128)  512        ['conv3_block3_2_conv[0][0]']    \n",
            " ization)                                                                                         \n",
            "                                                                                                  \n",
            " conv3_block3_2_relu (Activatio  (None, 28, 28, 128)  0          ['conv3_block3_2_bn[0][0]']      \n",
            " n)                                                                                               \n",
            "                                                                                                  \n",
            " conv3_block3_3_conv (Conv2D)   (None, 28, 28, 512)  66048       ['conv3_block3_2_relu[0][0]']    \n",
            "                                                                                                  \n",
            " conv3_block3_3_bn (BatchNormal  (None, 28, 28, 512)  2048       ['conv3_block3_3_conv[0][0]']    \n",
            " ization)                                                                                         \n",
            "                                                                                                  \n",
            " conv3_block3_add (Add)         (None, 28, 28, 512)  0           ['conv3_block2_out[0][0]',       \n",
            "                                                                  'conv3_block3_3_bn[0][0]']      \n",
            "                                                                                                  \n",
            " conv3_block3_out (Activation)  (None, 28, 28, 512)  0           ['conv3_block3_add[0][0]']       \n",
            "                                                                                                  \n",
            " conv3_block4_1_conv (Conv2D)   (None, 28, 28, 128)  65664       ['conv3_block3_out[0][0]']       \n",
            "                                                                                                  \n",
            " conv3_block4_1_bn (BatchNormal  (None, 28, 28, 128)  512        ['conv3_block4_1_conv[0][0]']    \n",
            " ization)                                                                                         \n",
            "                                                                                                  \n",
            " conv3_block4_1_relu (Activatio  (None, 28, 28, 128)  0          ['conv3_block4_1_bn[0][0]']      \n",
            " n)                                                                                               \n",
            "                                                                                                  \n",
            " conv3_block4_2_conv (Conv2D)   (None, 28, 28, 128)  147584      ['conv3_block4_1_relu[0][0]']    \n",
            "                                                                                                  \n",
            " conv3_block4_2_bn (BatchNormal  (None, 28, 28, 128)  512        ['conv3_block4_2_conv[0][0]']    \n",
            " ization)                                                                                         \n",
            "                                                                                                  \n",
            " conv3_block4_2_relu (Activatio  (None, 28, 28, 128)  0          ['conv3_block4_2_bn[0][0]']      \n",
            " n)                                                                                               \n",
            "                                                                                                  \n",
            " conv3_block4_3_conv (Conv2D)   (None, 28, 28, 512)  66048       ['conv3_block4_2_relu[0][0]']    \n",
            "                                                                                                  \n",
            " conv3_block4_3_bn (BatchNormal  (None, 28, 28, 512)  2048       ['conv3_block4_3_conv[0][0]']    \n",
            " ization)                                                                                         \n",
            "                                                                                                  \n",
            " conv3_block4_add (Add)         (None, 28, 28, 512)  0           ['conv3_block3_out[0][0]',       \n",
            "                                                                  'conv3_block4_3_bn[0][0]']      \n",
            "                                                                                                  \n",
            " conv3_block4_out (Activation)  (None, 28, 28, 512)  0           ['conv3_block4_add[0][0]']       \n",
            "                                                                                                  \n",
            " conv4_block1_1_conv (Conv2D)   (None, 14, 14, 256)  131328      ['conv3_block4_out[0][0]']       \n",
            "                                                                                                  \n",
            " conv4_block1_1_bn (BatchNormal  (None, 14, 14, 256)  1024       ['conv4_block1_1_conv[0][0]']    \n",
            " ization)                                                                                         \n",
            "                                                                                                  \n",
            " conv4_block1_1_relu (Activatio  (None, 14, 14, 256)  0          ['conv4_block1_1_bn[0][0]']      \n",
            " n)                                                                                               \n",
            "                                                                                                  \n",
            " conv4_block1_2_conv (Conv2D)   (None, 14, 14, 256)  590080      ['conv4_block1_1_relu[0][0]']    \n",
            "                                                                                                  \n",
            " conv4_block1_2_bn (BatchNormal  (None, 14, 14, 256)  1024       ['conv4_block1_2_conv[0][0]']    \n",
            " ization)                                                                                         \n",
            "                                                                                                  \n",
            " conv4_block1_2_relu (Activatio  (None, 14, 14, 256)  0          ['conv4_block1_2_bn[0][0]']      \n",
            " n)                                                                                               \n",
            "                                                                                                  \n",
            " conv4_block1_0_conv (Conv2D)   (None, 14, 14, 1024  525312      ['conv3_block4_out[0][0]']       \n",
            "                                )                                                                 \n",
            "                                                                                                  \n",
            " conv4_block1_3_conv (Conv2D)   (None, 14, 14, 1024  263168      ['conv4_block1_2_relu[0][0]']    \n",
            "                                )                                                                 \n",
            "                                                                                                  \n",
            " conv4_block1_0_bn (BatchNormal  (None, 14, 14, 1024  4096       ['conv4_block1_0_conv[0][0]']    \n",
            " ization)                       )                                                                 \n",
            "                                                                                                  \n",
            " conv4_block1_3_bn (BatchNormal  (None, 14, 14, 1024  4096       ['conv4_block1_3_conv[0][0]']    \n",
            " ization)                       )                                                                 \n",
            "                                                                                                  \n",
            " conv4_block1_add (Add)         (None, 14, 14, 1024  0           ['conv4_block1_0_bn[0][0]',      \n",
            "                                )                                 'conv4_block1_3_bn[0][0]']      \n",
            "                                                                                                  \n",
            " conv4_block1_out (Activation)  (None, 14, 14, 1024  0           ['conv4_block1_add[0][0]']       \n",
            "                                )                                                                 \n",
            "                                                                                                  \n",
            " conv4_block2_1_conv (Conv2D)   (None, 14, 14, 256)  262400      ['conv4_block1_out[0][0]']       \n",
            "                                                                                                  \n",
            " conv4_block2_1_bn (BatchNormal  (None, 14, 14, 256)  1024       ['conv4_block2_1_conv[0][0]']    \n",
            " ization)                                                                                         \n",
            "                                                                                                  \n",
            " conv4_block2_1_relu (Activatio  (None, 14, 14, 256)  0          ['conv4_block2_1_bn[0][0]']      \n",
            " n)                                                                                               \n",
            "                                                                                                  \n",
            " conv4_block2_2_conv (Conv2D)   (None, 14, 14, 256)  590080      ['conv4_block2_1_relu[0][0]']    \n",
            "                                                                                                  \n",
            " conv4_block2_2_bn (BatchNormal  (None, 14, 14, 256)  1024       ['conv4_block2_2_conv[0][0]']    \n",
            " ization)                                                                                         \n",
            "                                                                                                  \n",
            " conv4_block2_2_relu (Activatio  (None, 14, 14, 256)  0          ['conv4_block2_2_bn[0][0]']      \n",
            " n)                                                                                               \n",
            "                                                                                                  \n",
            " conv4_block2_3_conv (Conv2D)   (None, 14, 14, 1024  263168      ['conv4_block2_2_relu[0][0]']    \n",
            "                                )                                                                 \n",
            "                                                                                                  \n",
            " conv4_block2_3_bn (BatchNormal  (None, 14, 14, 1024  4096       ['conv4_block2_3_conv[0][0]']    \n",
            " ization)                       )                                                                 \n",
            "                                                                                                  \n",
            " conv4_block2_add (Add)         (None, 14, 14, 1024  0           ['conv4_block1_out[0][0]',       \n",
            "                                )                                 'conv4_block2_3_bn[0][0]']      \n",
            "                                                                                                  \n",
            " conv4_block2_out (Activation)  (None, 14, 14, 1024  0           ['conv4_block2_add[0][0]']       \n",
            "                                )                                                                 \n",
            "                                                                                                  \n",
            " conv4_block3_1_conv (Conv2D)   (None, 14, 14, 256)  262400      ['conv4_block2_out[0][0]']       \n",
            "                                                                                                  \n",
            " conv4_block3_1_bn (BatchNormal  (None, 14, 14, 256)  1024       ['conv4_block3_1_conv[0][0]']    \n",
            " ization)                                                                                         \n",
            "                                                                                                  \n",
            " conv4_block3_1_relu (Activatio  (None, 14, 14, 256)  0          ['conv4_block3_1_bn[0][0]']      \n",
            " n)                                                                                               \n",
            "                                                                                                  \n",
            " conv4_block3_2_conv (Conv2D)   (None, 14, 14, 256)  590080      ['conv4_block3_1_relu[0][0]']    \n",
            "                                                                                                  \n",
            " conv4_block3_2_bn (BatchNormal  (None, 14, 14, 256)  1024       ['conv4_block3_2_conv[0][0]']    \n",
            " ization)                                                                                         \n",
            "                                                                                                  \n",
            " conv4_block3_2_relu (Activatio  (None, 14, 14, 256)  0          ['conv4_block3_2_bn[0][0]']      \n",
            " n)                                                                                               \n",
            "                                                                                                  \n",
            " conv4_block3_3_conv (Conv2D)   (None, 14, 14, 1024  263168      ['conv4_block3_2_relu[0][0]']    \n",
            "                                )                                                                 \n",
            "                                                                                                  \n",
            " conv4_block3_3_bn (BatchNormal  (None, 14, 14, 1024  4096       ['conv4_block3_3_conv[0][0]']    \n",
            " ization)                       )                                                                 \n",
            "                                                                                                  \n",
            " conv4_block3_add (Add)         (None, 14, 14, 1024  0           ['conv4_block2_out[0][0]',       \n",
            "                                )                                 'conv4_block3_3_bn[0][0]']      \n",
            "                                                                                                  \n",
            " conv4_block3_out (Activation)  (None, 14, 14, 1024  0           ['conv4_block3_add[0][0]']       \n",
            "                                )                                                                 \n",
            "                                                                                                  \n",
            " conv4_block4_1_conv (Conv2D)   (None, 14, 14, 256)  262400      ['conv4_block3_out[0][0]']       \n",
            "                                                                                                  \n",
            " conv4_block4_1_bn (BatchNormal  (None, 14, 14, 256)  1024       ['conv4_block4_1_conv[0][0]']    \n",
            " ization)                                                                                         \n",
            "                                                                                                  \n",
            " conv4_block4_1_relu (Activatio  (None, 14, 14, 256)  0          ['conv4_block4_1_bn[0][0]']      \n",
            " n)                                                                                               \n",
            "                                                                                                  \n",
            " conv4_block4_2_conv (Conv2D)   (None, 14, 14, 256)  590080      ['conv4_block4_1_relu[0][0]']    \n",
            "                                                                                                  \n",
            " conv4_block4_2_bn (BatchNormal  (None, 14, 14, 256)  1024       ['conv4_block4_2_conv[0][0]']    \n",
            " ization)                                                                                         \n",
            "                                                                                                  \n",
            " conv4_block4_2_relu (Activatio  (None, 14, 14, 256)  0          ['conv4_block4_2_bn[0][0]']      \n",
            " n)                                                                                               \n",
            "                                                                                                  \n",
            " conv4_block4_3_conv (Conv2D)   (None, 14, 14, 1024  263168      ['conv4_block4_2_relu[0][0]']    \n",
            "                                )                                                                 \n",
            "                                                                                                  \n",
            " conv4_block4_3_bn (BatchNormal  (None, 14, 14, 1024  4096       ['conv4_block4_3_conv[0][0]']    \n",
            " ization)                       )                                                                 \n",
            "                                                                                                  \n",
            " conv4_block4_add (Add)         (None, 14, 14, 1024  0           ['conv4_block3_out[0][0]',       \n",
            "                                )                                 'conv4_block4_3_bn[0][0]']      \n",
            "                                                                                                  \n",
            " conv4_block4_out (Activation)  (None, 14, 14, 1024  0           ['conv4_block4_add[0][0]']       \n",
            "                                )                                                                 \n",
            "                                                                                                  \n",
            " conv4_block5_1_conv (Conv2D)   (None, 14, 14, 256)  262400      ['conv4_block4_out[0][0]']       \n",
            "                                                                                                  \n",
            " conv4_block5_1_bn (BatchNormal  (None, 14, 14, 256)  1024       ['conv4_block5_1_conv[0][0]']    \n",
            " ization)                                                                                         \n",
            "                                                                                                  \n",
            " conv4_block5_1_relu (Activatio  (None, 14, 14, 256)  0          ['conv4_block5_1_bn[0][0]']      \n",
            " n)                                                                                               \n",
            "                                                                                                  \n",
            " conv4_block5_2_conv (Conv2D)   (None, 14, 14, 256)  590080      ['conv4_block5_1_relu[0][0]']    \n",
            "                                                                                                  \n",
            " conv4_block5_2_bn (BatchNormal  (None, 14, 14, 256)  1024       ['conv4_block5_2_conv[0][0]']    \n",
            " ization)                                                                                         \n",
            "                                                                                                  \n",
            " conv4_block5_2_relu (Activatio  (None, 14, 14, 256)  0          ['conv4_block5_2_bn[0][0]']      \n",
            " n)                                                                                               \n",
            "                                                                                                  \n",
            " conv4_block5_3_conv (Conv2D)   (None, 14, 14, 1024  263168      ['conv4_block5_2_relu[0][0]']    \n",
            "                                )                                                                 \n",
            "                                                                                                  \n",
            " conv4_block5_3_bn (BatchNormal  (None, 14, 14, 1024  4096       ['conv4_block5_3_conv[0][0]']    \n",
            " ization)                       )                                                                 \n",
            "                                                                                                  \n",
            " conv4_block5_add (Add)         (None, 14, 14, 1024  0           ['conv4_block4_out[0][0]',       \n",
            "                                )                                 'conv4_block5_3_bn[0][0]']      \n",
            "                                                                                                  \n",
            " conv4_block5_out (Activation)  (None, 14, 14, 1024  0           ['conv4_block5_add[0][0]']       \n",
            "                                )                                                                 \n",
            "                                                                                                  \n",
            " conv4_block6_1_conv (Conv2D)   (None, 14, 14, 256)  262400      ['conv4_block5_out[0][0]']       \n",
            "                                                                                                  \n",
            " conv4_block6_1_bn (BatchNormal  (None, 14, 14, 256)  1024       ['conv4_block6_1_conv[0][0]']    \n",
            " ization)                                                                                         \n",
            "                                                                                                  \n",
            " conv4_block6_1_relu (Activatio  (None, 14, 14, 256)  0          ['conv4_block6_1_bn[0][0]']      \n",
            " n)                                                                                               \n",
            "                                                                                                  \n",
            " conv4_block6_2_conv (Conv2D)   (None, 14, 14, 256)  590080      ['conv4_block6_1_relu[0][0]']    \n",
            "                                                                                                  \n",
            " conv4_block6_2_bn (BatchNormal  (None, 14, 14, 256)  1024       ['conv4_block6_2_conv[0][0]']    \n",
            " ization)                                                                                         \n",
            "                                                                                                  \n",
            " conv4_block6_2_relu (Activatio  (None, 14, 14, 256)  0          ['conv4_block6_2_bn[0][0]']      \n",
            " n)                                                                                               \n",
            "                                                                                                  \n",
            " conv4_block6_3_conv (Conv2D)   (None, 14, 14, 1024  263168      ['conv4_block6_2_relu[0][0]']    \n",
            "                                )                                                                 \n",
            "                                                                                                  \n",
            " conv4_block6_3_bn (BatchNormal  (None, 14, 14, 1024  4096       ['conv4_block6_3_conv[0][0]']    \n",
            " ization)                       )                                                                 \n",
            "                                                                                                  \n",
            " conv4_block6_add (Add)         (None, 14, 14, 1024  0           ['conv4_block5_out[0][0]',       \n",
            "                                )                                 'conv4_block6_3_bn[0][0]']      \n",
            "                                                                                                  \n",
            " conv4_block6_out (Activation)  (None, 14, 14, 1024  0           ['conv4_block6_add[0][0]']       \n",
            "                                )                                                                 \n",
            "                                                                                                  \n",
            " conv5_block1_1_conv (Conv2D)   (None, 7, 7, 512)    524800      ['conv4_block6_out[0][0]']       \n",
            "                                                                                                  \n",
            " conv5_block1_1_bn (BatchNormal  (None, 7, 7, 512)   2048        ['conv5_block1_1_conv[0][0]']    \n",
            " ization)                                                                                         \n",
            "                                                                                                  \n",
            " conv5_block1_1_relu (Activatio  (None, 7, 7, 512)   0           ['conv5_block1_1_bn[0][0]']      \n",
            " n)                                                                                               \n",
            "                                                                                                  \n",
            " conv5_block1_2_conv (Conv2D)   (None, 7, 7, 512)    2359808     ['conv5_block1_1_relu[0][0]']    \n",
            "                                                                                                  \n",
            " conv5_block1_2_bn (BatchNormal  (None, 7, 7, 512)   2048        ['conv5_block1_2_conv[0][0]']    \n",
            " ization)                                                                                         \n",
            "                                                                                                  \n",
            " conv5_block1_2_relu (Activatio  (None, 7, 7, 512)   0           ['conv5_block1_2_bn[0][0]']      \n",
            " n)                                                                                               \n",
            "                                                                                                  \n",
            " conv5_block1_0_conv (Conv2D)   (None, 7, 7, 2048)   2099200     ['conv4_block6_out[0][0]']       \n",
            "                                                                                                  \n",
            " conv5_block1_3_conv (Conv2D)   (None, 7, 7, 2048)   1050624     ['conv5_block1_2_relu[0][0]']    \n",
            "                                                                                                  \n",
            " conv5_block1_0_bn (BatchNormal  (None, 7, 7, 2048)  8192        ['conv5_block1_0_conv[0][0]']    \n",
            " ization)                                                                                         \n",
            "                                                                                                  \n",
            " conv5_block1_3_bn (BatchNormal  (None, 7, 7, 2048)  8192        ['conv5_block1_3_conv[0][0]']    \n",
            " ization)                                                                                         \n",
            "                                                                                                  \n",
            " conv5_block1_add (Add)         (None, 7, 7, 2048)   0           ['conv5_block1_0_bn[0][0]',      \n",
            "                                                                  'conv5_block1_3_bn[0][0]']      \n",
            "                                                                                                  \n",
            " conv5_block1_out (Activation)  (None, 7, 7, 2048)   0           ['conv5_block1_add[0][0]']       \n",
            "                                                                                                  \n",
            " conv5_block2_1_conv (Conv2D)   (None, 7, 7, 512)    1049088     ['conv5_block1_out[0][0]']       \n",
            "                                                                                                  \n",
            " conv5_block2_1_bn (BatchNormal  (None, 7, 7, 512)   2048        ['conv5_block2_1_conv[0][0]']    \n",
            " ization)                                                                                         \n",
            "                                                                                                  \n",
            " conv5_block2_1_relu (Activatio  (None, 7, 7, 512)   0           ['conv5_block2_1_bn[0][0]']      \n",
            " n)                                                                                               \n",
            "                                                                                                  \n",
            " conv5_block2_2_conv (Conv2D)   (None, 7, 7, 512)    2359808     ['conv5_block2_1_relu[0][0]']    \n",
            "                                                                                                  \n",
            " conv5_block2_2_bn (BatchNormal  (None, 7, 7, 512)   2048        ['conv5_block2_2_conv[0][0]']    \n",
            " ization)                                                                                         \n",
            "                                                                                                  \n",
            " conv5_block2_2_relu (Activatio  (None, 7, 7, 512)   0           ['conv5_block2_2_bn[0][0]']      \n",
            " n)                                                                                               \n",
            "                                                                                                  \n",
            " conv5_block2_3_conv (Conv2D)   (None, 7, 7, 2048)   1050624     ['conv5_block2_2_relu[0][0]']    \n",
            "                                                                                                  \n",
            " conv5_block2_3_bn (BatchNormal  (None, 7, 7, 2048)  8192        ['conv5_block2_3_conv[0][0]']    \n",
            " ization)                                                                                         \n",
            "                                                                                                  \n",
            " conv5_block2_add (Add)         (None, 7, 7, 2048)   0           ['conv5_block1_out[0][0]',       \n",
            "                                                                  'conv5_block2_3_bn[0][0]']      \n",
            "                                                                                                  \n",
            " conv5_block2_out (Activation)  (None, 7, 7, 2048)   0           ['conv5_block2_add[0][0]']       \n",
            "                                                                                                  \n",
            " conv5_block3_1_conv (Conv2D)   (None, 7, 7, 512)    1049088     ['conv5_block2_out[0][0]']       \n",
            "                                                                                                  \n",
            " conv5_block3_1_bn (BatchNormal  (None, 7, 7, 512)   2048        ['conv5_block3_1_conv[0][0]']    \n",
            " ization)                                                                                         \n",
            "                                                                                                  \n",
            " conv5_block3_1_relu (Activatio  (None, 7, 7, 512)   0           ['conv5_block3_1_bn[0][0]']      \n",
            " n)                                                                                               \n",
            "                                                                                                  \n",
            " conv5_block3_2_conv (Conv2D)   (None, 7, 7, 512)    2359808     ['conv5_block3_1_relu[0][0]']    \n",
            "                                                                                                  \n",
            " conv5_block3_2_bn (BatchNormal  (None, 7, 7, 512)   2048        ['conv5_block3_2_conv[0][0]']    \n",
            " ization)                                                                                         \n",
            "                                                                                                  \n",
            " conv5_block3_2_relu (Activatio  (None, 7, 7, 512)   0           ['conv5_block3_2_bn[0][0]']      \n",
            " n)                                                                                               \n",
            "                                                                                                  \n",
            " conv5_block3_3_conv (Conv2D)   (None, 7, 7, 2048)   1050624     ['conv5_block3_2_relu[0][0]']    \n",
            "                                                                                                  \n",
            " conv5_block3_3_bn (BatchNormal  (None, 7, 7, 2048)  8192        ['conv5_block3_3_conv[0][0]']    \n",
            " ization)                                                                                         \n",
            "                                                                                                  \n",
            " conv5_block3_add (Add)         (None, 7, 7, 2048)   0           ['conv5_block2_out[0][0]',       \n",
            "                                                                  'conv5_block3_3_bn[0][0]']      \n",
            "                                                                                                  \n",
            " conv5_block3_out (Activation)  (None, 7, 7, 2048)   0           ['conv5_block3_add[0][0]']       \n",
            "                                                                                                  \n",
            "==================================================================================================\n",
            "Total params: 23,587,712\n",
            "Trainable params: 23,534,592\n",
            "Non-trainable params: 53,120\n",
            "__________________________________________________________________________________________________\n",
            "Found 34128 images belonging to 2 classes.\n",
            "Found 8726 images belonging to 2 classes.\n"
          ]
        },
        {
          "name": "stderr",
          "output_type": "stream",
          "text": [
            "/usr/local/lib/python3.7/dist-packages/keras/optimizer_v2/rmsprop.py:130: UserWarning: The `lr` argument is deprecated, use `learning_rate` instead.\n",
            "  super(RMSprop, self).__init__(name, **kwargs)\n",
            "/usr/local/lib/python3.7/dist-packages/ipykernel_launcher.py:73: UserWarning: `Model.fit_generator` is deprecated and will be removed in a future version. Please use `Model.fit`, which supports generators.\n"
          ]
        },
        {
          "name": "stdout",
          "output_type": "stream",
          "text": [
            "Epoch 1/5\n",
            "50/50 [==============================] - 3278s 67s/step - loss: 0.8237 - acc: 0.5310 - val_loss: 0.6758 - val_acc: 0.5918\n",
            "Epoch 2/5\n",
            "50/50 [==============================] - 2043s 42s/step - loss: 0.7790 - acc: 0.5190 - val_loss: 0.6659 - val_acc: 0.5873\n",
            "Epoch 3/5\n",
            "50/50 [==============================] - 2064s 42s/step - loss: 0.8146 - acc: 0.5110 - val_loss: 0.6633 - val_acc: 0.5678\n",
            "Epoch 4/5\n",
            "50/50 [==============================] - 1997s 41s/step - loss: 0.7991 - acc: 0.5160 - val_loss: 0.7506 - val_acc: 0.4919\n",
            "Epoch 5/5\n",
            "50/50 [==============================] - 1987s 40s/step - loss: 0.7721 - acc: 0.5340 - val_loss: 0.7505 - val_acc: 0.4921\n"
          ]
        }
      ],
      "source": [
        "#Parametres  \n",
        "import keras\n",
        "import tensorflow as tf\n",
        "from tensorflow.keras.applications import ResNet50\n",
        "import sys\n",
        "from tensorflow.keras import optimizers\n",
        "from PIL import Image\n",
        "\n",
        "#Using InceptionV3 Pre-trained Model\n",
        "conv_base = ResNet50(weights = 'imagenet',\n",
        "              include_top = False,\n",
        "              input_shape=(224, 224, 3))\n",
        "\n",
        "conv_base.summary()\n",
        "\n",
        "import numpy as np\n",
        "import os\n",
        "from keras.preprocessing.image import ImageDataGenerator\n",
        "\n",
        "base_dir = '/content/drive/MyDrive/2022dataset 05 2 22'\n",
        "train_dir = os.path.join(base_dir, 'train')\n",
        "#validation_dir = os.path.join(base_dir, 'validation')\n",
        "#test_dir = os.path.join(base_dir, 'test')\n",
        "validation_dir = os.path.join(base_dir, 'validation')\n",
        "test_dir = os.path.join(base_dir, 'test')\n",
        "\n",
        "from keras import models\n",
        "from keras import layers\n",
        "\n",
        "model = models.Sequential()\n",
        "model.add(conv_base)\n",
        "model.add(layers.Flatten())\n",
        "model.add(layers.Dense(256, activation='relu'))\n",
        "model.add(layers.Dense(1, activation='sigmoid'))\n",
        "\n",
        "conv_base.trainable = False\n",
        "\n",
        "train_datagen = ImageDataGenerator(\n",
        "    rescale=1./255,\n",
        "    rotation_range=40,\n",
        "    width_shift_range=0.2,\n",
        "    height_shift_range=0.2,\n",
        "    shear_range=0.2,\n",
        "    zoom_range=0.2,\n",
        "    horizontal_flip=True,\n",
        "    fill_mode='nearest')\n",
        "\n",
        "test_datagen = ImageDataGenerator(rescale=1./255)\n",
        "\n",
        "train_generator = train_datagen.flow_from_directory(\n",
        "    train_dir,\n",
        "    target_size=(224, 224),\n",
        "    batch_size=20,\n",
        "    class_mode='binary')\n",
        "\n",
        "validation_generator = test_datagen.flow_from_directory(\n",
        "    validation_dir,\n",
        "    target_size=(224, 224),\n",
        "    batch_size=20,\n",
        "    class_mode='binary')\n",
        "\n",
        "# Compile the model\n",
        "model.compile(loss='binary_crossentropy',\n",
        "optimizer=optimizers.RMSprop(lr=2e-5),\n",
        "metrics=['acc'])\n",
        "\n",
        "# Train the model\n",
        "histore1 = model.fit_generator(\n",
        "    train_generator,\n",
        "    steps_per_epoch=50,\n",
        "    epochs=5,\n",
        "    validation_data=validation_generator,\n",
        "    validation_steps=len(validation_generator))\n",
        "\n",
        "# Save the model\n",
        "model.save('/content/drive/MyDrive/2022dataset 05 2 22/res1.h5')"
      ]
    },
    {
      "cell_type": "code",
      "execution_count": null,
      "metadata": {
        "colab": {
          "base_uri": "https://localhost:8080/"
        },
        "id": "1qUb9IMG80Iw",
        "outputId": "506eaa0d-4e0a-4786-893f-290ef9d98316"
      },
      "outputs": [
        {
          "name": "stdout",
          "output_type": "stream",
          "text": [
            "INFO:tensorflow:Assets written to: ram://af3915bd-50ed-4711-9169-c9808c237010/assets\n"
          ]
        }
      ],
      "source": [
        "#model3.save('/content/drive/MyDrive/18 04 22/inception3.h5') \n",
        "np.save('/content/drive/MyDrive/2022dataset 05 2 22/histore1', histore1) "
      ]
    },
    {
      "cell_type": "code",
      "execution_count": null,
      "metadata": {
        "colab": {
          "base_uri": "https://localhost:8080/",
          "height": 531
        },
        "id": "DnHgIquM92GI",
        "outputId": "93485ede-3aae-443c-edd6-7cf4526ed241"
      },
      "outputs": [
        {
          "data": {
            "image/png": "[encoded data removed]",
            "text/plain": [
              "<Figure size 432x288 with 1 Axes>"
            ]
          },
          "metadata": {},
          "output_type": "display_data"
        },
        {
          "data": {
            "image/png": "[encoded data removed]",
            "text/plain": [
              "<Figure size 432x288 with 1 Axes>"
            ]
          },
          "metadata": {},
          "output_type": "display_data"
        },
        {
          "data": {
            "text/plain": [
              "<Figure size 432x288 with 0 Axes>"
            ]
          },
          "metadata": {},
          "output_type": "display_data"
        }
      ],
      "source": [
        "import matplotlib.pyplot as plt\n",
        "\n",
        "#read_r16 = np.load('/content/drive/MyDrive/2022dataset 05 2 22/historyy.npy',allow_pickle='TRUE').item()\n",
        "#r_total_loss = read_r1.history['loss'] + read_r.history['loss']\n",
        "#r_total_val_loss = read_r1.history['val_loss'] + read_r.history['val_loss']\n",
        "\n",
        "#r_total_accuracy = read_r1.history['accuracy'] + read_r.history['accuracy']\n",
        "#r_total_val_accuracy = read_r1.history['val_accuracy'] + read_r.history['val_accuracy']\n",
        "\n",
        "#print(read_r1.history['loss'])\n",
        "\n",
        "\n",
        "\n",
        "# plot the loss\n",
        "plt.plot( histore1.history['loss'],  label='train loss')\n",
        "plt.plot( histore1.history['val_loss'], label='val loss')\n",
        "plt.legend()\n",
        "plt.show()\n",
        "plt.savefig('LossVal_lossCNN')\n",
        "\n",
        "# plot the accuracy\n",
        "plt.plot( histore1.history['acc'], label='train acc')\n",
        "plt.plot( histore1.history['val_acc'], label='val acc')\n",
        "plt.legend()\n",
        "plt.show()\n",
        "plt.savefig('AccVal_accCNN')"
      ]
    },
    {
      "cell_type": "code",
      "execution_count": null,
      "metadata": {
        "colab": {
          "base_uri": "https://localhost:8080/"
        },
        "id": "1qZb1mj2w4rT",
        "outputId": "a5dc4d1d-b7f8-4c2a-afe0-ed24b2308424"
      },
      "outputs": [
        {
          "name": "stdout",
          "output_type": "stream",
          "text": [
            "Looking in indexes: https://pypi.org/simple, https://us-python.pkg.dev/colab-wheels/public/simple/\n",
            "Requirement already satisfied: pyyaml in /usr/local/lib/python3.7/dist-packages (3.13)\n",
            "Requirement already satisfied: h5py in /usr/local/lib/python3.7/dist-packages (3.1.0)\n",
            "Requirement already satisfied: cached-property in /usr/local/lib/python3.7/dist-packages (from h5py) (1.5.2)\n",
            "Requirement already satisfied: numpy>=1.14.5 in /usr/local/lib/python3.7/dist-packages (from h5py) (1.21.6)\n",
            "Mounted at /content/drive\n"
          ]
        }
      ],
      "source": [
        "!pip install pyyaml h5py\n",
        "from google.colab import drive\n",
        "drive.mount('/content/drive')"
      ]
    },
    {
      "cell_type": "code",
      "execution_count": null,
      "metadata": {
        "colab": {
          "base_uri": "https://localhost:8080/"
        },
        "id": "BNuQQn_Yvyh2",
        "outputId": "cc201c42-3633-4b1c-c75a-9f0cf0f37b17"
      },
      "outputs": [
        {
          "name": "stdout",
          "output_type": "stream",
          "text": [
            "Looking in indexes: https://pypi.org/simple, https://us-python.pkg.dev/colab-wheels/public/simple/\n",
            "Requirement already satisfied: pyyaml in /usr/local/lib/python3.7/dist-packages (3.13)\n",
            "Requirement already satisfied: h5py in /usr/local/lib/python3.7/dist-packages (3.1.0)\n",
            "Requirement already satisfied: numpy>=1.14.5 in /usr/local/lib/python3.7/dist-packages (from h5py) (1.21.6)\n",
            "Requirement already satisfied: cached-property in /usr/local/lib/python3.7/dist-packages (from h5py) (1.5.2)\n",
            "Found 34128 images belonging to 2 classes.\n",
            "Found 8726 images belonging to 2 classes.\n"
          ]
        },
        {
          "name": "stderr",
          "output_type": "stream",
          "text": [
            "/usr/local/lib/python3.7/dist-packages/keras/optimizer_v2/gradient_descent.py:102: UserWarning: The `lr` argument is deprecated, use `learning_rate` instead.\n",
            "  super(SGD, self).__init__(name, **kwargs)\n",
            "/usr/local/lib/python3.7/dist-packages/ipykernel_launcher.py:59: UserWarning: `Model.fit_generator` is deprecated and will be removed in a future version. Please use `Model.fit`, which supports generators.\n"
          ]
        },
        {
          "name": "stdout",
          "output_type": "stream",
          "text": [
            "Epoch 1/5\n",
            "50/50 [==============================] - 2696s 55s/step - loss: 0.6536 - acc: 0.6160 - val_loss: 0.6500 - val_acc: 0.6129\n",
            "Epoch 2/5\n",
            "50/50 [==============================] - 788s 16s/step - loss: 0.6501 - acc: 0.6540 - val_loss: 0.6535 - val_acc: 0.6434\n",
            "Epoch 3/5\n",
            "50/50 [==============================] - 784s 16s/step - loss: 0.6609 - acc: 0.6170 - val_loss: 0.6739 - val_acc: 0.5583\n",
            "Epoch 4/5\n",
            "50/50 [==============================] - 771s 16s/step - loss: 0.6575 - acc: 0.6170 - val_loss: 0.6542 - val_acc: 0.6429\n",
            "Epoch 5/5\n",
            "50/50 [==============================] - 755s 15s/step - loss: 0.6571 - acc: 0.6010 - val_loss: 0.6566 - val_acc: 0.6403\n",
            "INFO:tensorflow:Assets written to: ram://6c597bd4-6341-4515-b9eb-fccb503ac9b1/assets\n"
          ]
        }
      ],
      "source": [
        "from tensorflow.keras.models import load_model\n",
        "import numpy as np\n",
        "from tensorflow.keras import optimizers\n",
        "from PIL import Image\n",
        "import tensorflow as tf\n",
        "from tensorflow.keras.layers import Input, Lambda, Dense, Flatten\n",
        "from tensorflow.keras.models import Model\n",
        "from tensorflow.keras.applications.inception_v3 import InceptionV3\n",
        "from tensorflow.keras.applications.inception_v3 import preprocess_input\n",
        "from tensorflow.keras.preprocessing import image\n",
        "from tensorflow.keras.preprocessing.image import ImageDataGenerator,load_img\n",
        "from tensorflow.keras.models import Sequential\n",
        "!pip install pyyaml h5py\n",
        "import os\n",
        "base_dir = '/content/drive/MyDrive/2022dataset 05 2 22'\n",
        "train_dir = os.path.join(base_dir, 'train')\n",
        "validation_dir = os.path.join(base_dir, 'validation')\n",
        "test_dir = os.path.join(base_dir, 'test')\n",
        "train_datagen = ImageDataGenerator(\n",
        "    rescale=1./255,\n",
        "    rotation_range=40,\n",
        "    width_shift_range=0.2,\n",
        "    height_shift_range=0.2,\n",
        "    shear_range=0.2,\n",
        "    zoom_range=0.2,\n",
        "    horizontal_flip=True,\n",
        "    fill_mode='nearest')\n",
        "\n",
        "test_datagen = ImageDataGenerator(rescale=1./255)\n",
        "\n",
        "train_generator = train_datagen.flow_from_directory(\n",
        "    train_dir,\n",
        "    target_size=(224, 224),\n",
        "    batch_size=20,\n",
        "    class_mode='binary')\n",
        "\n",
        "validation_generator = test_datagen.flow_from_directory(\n",
        "    validation_dir,\n",
        "    target_size=(224, 224),\n",
        "    batch_size=20,\n",
        "    class_mode='binary')\n",
        "modelr1 =load_model('/content/drive/MyDrive/2022dataset 05 2 22/res1.h5')\n",
        "\n",
        "\n",
        "read_re1 = np.load('/content/drive/MyDrive/2022dataset 05 2 22/histore1.npy',allow_pickle='TRUE').item()\n",
        "\n",
        "\n",
        "# Compile the model\n",
        "modelr1.compile(loss='binary_crossentropy',\n",
        "optimizer=optimizers.SGD(lr=2e-5),\n",
        "metrics=['acc'])\n",
        "\n",
        "# Train the model\n",
        "histore2 = modelr1.fit_generator(\n",
        "    train_generator,\n",
        "    steps_per_epoch=50,\n",
        "    epochs=5,\n",
        "    validation_data=validation_generator,\n",
        "    validation_steps=len(validation_generator))\n",
        "\n",
        "# Save the model\n",
        "modelr1.save('/content/drive/MyDrive/2022dataset 05 2 22/res2.h5')\n",
        "np.save('/content/drive/MyDrive/2022dataset 05 2 22/histore2', histore2) "
      ]
    },
    {
      "cell_type": "code",
      "execution_count": null,
      "metadata": {
        "colab": {
          "base_uri": "https://localhost:8080/"
        },
        "id": "zqewOXm_xIx7",
        "outputId": "ae948ec5-fec1-465f-8ce3-8729687b91d5"
      },
      "outputs": [
        {
          "name": "stdout",
          "output_type": "stream",
          "text": [
            "INFO:tensorflow:Assets written to: ram://308d2853-0cde-47b3-aee0-3efa37cf8ff7/assets\n"
          ]
        }
      ],
      "source": [
        "\n",
        "np.save('/content/drive/MyDrive/2022dataset 05 2 22/histore2', histore2) \n"
      ]
    },
    {
      "cell_type": "code",
      "execution_count": null,
      "metadata": {
        "colab": {
          "base_uri": "https://localhost:8080/",
          "height": 624
        },
        "id": "IYuIotTHPPeu",
        "outputId": "df2caa33-49bd-43de-cbe5-81ccb497b2a8"
      },
      "outputs": [
        {
          "name": "stdout",
          "output_type": "stream",
          "text": [
            "Looking in indexes: https://pypi.org/simple, https://us-python.pkg.dev/colab-wheels/public/simple/\n",
            "Requirement already satisfied: pyyaml in /usr/local/lib/python3.7/dist-packages (3.13)\n",
            "Requirement already satisfied: h5py in /usr/local/lib/python3.7/dist-packages (3.1.0)\n",
            "Requirement already satisfied: cached-property in /usr/local/lib/python3.7/dist-packages (from h5py) (1.5.2)\n",
            "Requirement already satisfied: numpy>=1.14.5 in /usr/local/lib/python3.7/dist-packages (from h5py) (1.21.6)\n",
            "Drive already mounted at /content/drive; to attempt to forcibly remount, call drive.mount(\"/content/drive\", force_remount=True).\n"
          ]
        },
        {
          "data": {
            "image/png": "[encoded data removed]",
            "text/plain": [
              "<Figure size 432x288 with 1 Axes>"
            ]
          },
          "metadata": {},
          "output_type": "display_data"
        },
        {
          "data": {
            "image/png": "[encoded data removed]",
            "text/plain": [
              "<Figure size 432x288 with 1 Axes>"
            ]
          },
          "metadata": {},
          "output_type": "display_data"
        }
      ],
      "source": [
        "import matplotlib.pyplot as plt\n",
        "!pip install pyyaml h5py\n",
        "from google.colab import drive\n",
        "drive.mount('/content/drive')\n",
        "import numpy as np\n",
        "import tensorflow as tf\n",
        "from tensorflow.keras.layers import Input, Lambda, Dense, Flatten\n",
        "from tensorflow.keras.models import Model\n",
        "#from tensorflow.keras.applications.inception_v3 import InceptionV3\n",
        "#from tensorflow.keras.applications.inception_v3 import preprocess_input\n",
        "from tensorflow.keras.preprocessing import image\n",
        "from tensorflow.keras.preprocessing.image import ImageDataGenerator,load_img\n",
        "from tensorflow.keras.models import Sequential\n",
        "read_r16 = np.load('/content/drive/MyDrive/2022dataset 05 2 22/histore1.npy',allow_pickle='TRUE').item()\n",
        "#read_r17 = np.load('/content/drive/MyDrive/2022dataset 05 2 22/historyv3.npy',allow_pickle='TRUE').item()\n",
        "read_r17 = np.load('/content/drive/MyDrive/2022dataset 05 2 22/histore2.npy',allow_pickle='TRUE').item()\n",
        "#read_r19 = np.load('/content/drive/MyDrive/2022dataset 05 2 22/historyv9.npy',allow_pickle='TRUE').item()\n",
        "\n",
        "\n",
        "#r_total_loss = read_r16.history['loss']+read_r17.history['loss'] + read_r18.history['loss']+  read_r19.history['loss']+read_r20.history['loss']\n",
        "#r_total_val_loss = read_r16.history['val_loss']+read_r17.history['val_loss'] + read_r18.history['val_loss']+ read_r19.history['val_loss']+read_r20.history['val_loss']\n",
        "#r_total_accuracy = read_r16.history['acc']+read_r17.history['acc'] + read_r18.history['acc']+ read_r19.history['acc']+read_r20.history['acc']\n",
        "#r_total_val_accuracy =read_r16.history['val_acc']+ read_r17.history['val_acc'] + read_r18.history['val_acc']+ read_r19.history['val_acc']+read_r20.history['acc']\n",
        "\n",
        "r_total_loss = read_r16.history['loss'] + read_r17.history['loss']\n",
        "r_total_val_loss = read_r16.history['val_loss'] + read_r17.history['val_loss']\n",
        "r_total_accuracy = read_r16.history['acc']+ read_r17.history['acc']\n",
        "r_total_val_accuracy =read_r16.history['val_acc'] + read_r17.history['val_acc']\n",
        "\n",
        "\n",
        "\n",
        "#print(read_r1.history['loss'])\n",
        "from matplotlib import pyplot\n",
        "pyplot.grid(linestyle='--')\n",
        "\n",
        "\n",
        "# plot the loss\n",
        "plt.plot(r_total_loss,  label='train loss')\n",
        "plt.plot(r_total_val_loss, label='val loss')\n",
        "plt.legend()\n",
        "plt.savefig('LossVal_lossincept100epochs.pdf',format='pdf',dpi=800)\n",
        "plt.show()\n",
        "\n",
        "# plot the accuracy\n",
        "plt.plot(r_total_accuracy, label='train acc')\n",
        "plt.plot(r_total_val_accuracy , label='val acc')\n",
        "plt.legend()\n",
        "pyplot.grid(linestyle='--')\n",
        "\n",
        "plt.savefig('AccVal_accincept6100epochs.pdf',format='pdf', dpi=800)"
      ]
    },
    {
      "cell_type": "code",
      "execution_count": null,
      "metadata": {
        "colab": {
          "base_uri": "https://localhost:8080/"
        },
        "id": "CsuRyJtXihIl",
        "outputId": "8065762a-0dbd-4266-da09-ac167fccbd29"
      },
      "outputs": [
        {
          "name": "stdout",
          "output_type": "stream",
          "text": [
            "Mounted at /content/drive\n"
          ]
        }
      ],
      "source": [
        "from google.colab import drive\n",
        "drive.mount('/content/drive')\n",
        "#Resnet50\n",
        "import tensorflow as tf\n",
        "from tensorflow.keras.layers import Input, Lambda, Dense, Flatten\n",
        "from tensorflow.keras.models import Model\n",
        "from tensorflow.keras.applications.resnet50 import ResNet50\n",
        "from tensorflow.keras.applications.resnet50 import preprocess_input\n",
        "from tensorflow.keras.preprocessing import image\n",
        "from tensorflow.keras.preprocessing.image import ImageDataGenerator,load_img\n",
        "from tensorflow.keras.models import Sequential"
      ]
    },
    {
      "cell_type": "code",
      "execution_count": null,
      "metadata": {
        "colab": {
          "base_uri": "https://localhost:8080/"
        },
        "id": "Ho3vF4nZs7uF",
        "outputId": "0d3627fb-97ce-40c6-8cb5-9f1750acbb88"
      },
      "outputs": [
        {
          "name": "stdout",
          "output_type": "stream",
          "text": [
            "Looking in indexes: https://pypi.org/simple, https://us-python.pkg.dev/colab-wheels/public/simple/\n",
            "Requirement already satisfied: pyyaml in /usr/local/lib/python3.7/dist-packages (3.13)\n",
            "Requirement already satisfied: h5py in /usr/local/lib/python3.7/dist-packages (3.1.0)\n",
            "Requirement already satisfied: numpy>=1.14.5 in /usr/local/lib/python3.7/dist-packages (from h5py) (1.21.6)\n",
            "Requirement already satisfied: cached-property in /usr/local/lib/python3.7/dist-packages (from h5py) (1.5.2)\n",
            "Found 34128 images belonging to 2 classes.\n",
            "Found 8726 images belonging to 2 classes.\n"
          ]
        },
        {
          "name": "stderr",
          "output_type": "stream",
          "text": [
            "/usr/local/lib/python3.7/dist-packages/keras/optimizer_v2/gradient_descent.py:102: UserWarning: The `lr` argument is deprecated, use `learning_rate` instead.\n",
            "  super(SGD, self).__init__(name, **kwargs)\n",
            "/usr/local/lib/python3.7/dist-packages/ipykernel_launcher.py:55: UserWarning: `Model.fit_generator` is deprecated and will be removed in a future version. Please use `Model.fit`, which supports generators.\n"
          ]
        },
        {
          "name": "stdout",
          "output_type": "stream",
          "text": [
            "Epoch 1/20\n",
            "50/50 [==============================] - 2823s 57s/step - loss: 0.6599 - acc: 0.6070 - val_loss: 0.6513 - val_acc: 0.6352\n",
            "Epoch 2/20\n",
            "50/50 [==============================] - 748s 15s/step - loss: 0.6506 - acc: 0.6310 - val_loss: 0.6634 - val_acc: 0.6088\n",
            "Epoch 3/20\n",
            "50/50 [==============================] - 734s 15s/step - loss: 0.6537 - acc: 0.6340 - val_loss: 0.6594 - val_acc: 0.6301\n",
            "Epoch 4/20\n",
            "50/50 [==============================] - 723s 15s/step - loss: 0.6538 - acc: 0.6130 - val_loss: 0.6736 - val_acc: 0.5604\n",
            "Epoch 5/20\n",
            "50/50 [==============================] - 741s 15s/step - loss: 0.6436 - acc: 0.6500 - val_loss: 0.6492 - val_acc: 0.6146\n",
            "Epoch 6/20\n",
            "50/50 [==============================] - 737s 15s/step - loss: 0.6547 - acc: 0.6270 - val_loss: 0.6491 - val_acc: 0.6151\n",
            "Epoch 7/20\n",
            "50/50 [==============================] - 719s 15s/step - loss: 0.6647 - acc: 0.6080 - val_loss: 0.6507 - val_acc: 0.6361\n",
            "Epoch 8/20\n",
            "50/50 [==============================] - 713s 14s/step - loss: 0.6590 - acc: 0.5990 - val_loss: 0.6489 - val_acc: 0.6246\n",
            "Epoch 9/20\n",
            "50/50 [==============================] - 683s 14s/step - loss: 0.6633 - acc: 0.6150 - val_loss: 0.6551 - val_acc: 0.6414\n",
            "Epoch 10/20\n",
            "50/50 [==============================] - 683s 14s/step - loss: 0.6515 - acc: 0.6150 - val_loss: 0.6491 - val_acc: 0.6083\n",
            "Epoch 11/20\n",
            "50/50 [==============================] - 661s 13s/step - loss: 0.6506 - acc: 0.6010 - val_loss: 0.6685 - val_acc: 0.5799\n",
            "Epoch 12/20\n",
            "50/50 [==============================] - 666s 14s/step - loss: 0.6545 - acc: 0.6160 - val_loss: 0.6500 - val_acc: 0.6374\n",
            "Epoch 13/20\n",
            "50/50 [==============================] - 653s 13s/step - loss: 0.6545 - acc: 0.5990 - val_loss: 0.6510 - val_acc: 0.6369\n",
            "Epoch 14/20\n",
            "50/50 [==============================] - 655s 13s/step - loss: 0.6566 - acc: 0.6100 - val_loss: 0.6818 - val_acc: 0.5360\n",
            "Epoch 15/20\n",
            "50/50 [==============================] - 652s 13s/step - loss: 0.6583 - acc: 0.6060 - val_loss: 0.6616 - val_acc: 0.6159\n",
            "Epoch 16/20\n",
            "50/50 [==============================] - 646s 13s/step - loss: 0.6635 - acc: 0.6030 - val_loss: 0.6745 - val_acc: 0.5570\n",
            "Epoch 17/20\n",
            "50/50 [==============================] - 660s 13s/step - loss: 0.6524 - acc: 0.6230 - val_loss: 0.6491 - val_acc: 0.6051\n",
            "Epoch 18/20\n",
            "50/50 [==============================] - 649s 13s/step - loss: 0.6631 - acc: 0.5920 - val_loss: 0.6724 - val_acc: 0.5639\n",
            "Epoch 19/20\n",
            "50/50 [==============================] - 645s 13s/step - loss: 0.6504 - acc: 0.6180 - val_loss: 0.6594 - val_acc: 0.6253\n",
            "Epoch 20/20\n",
            "50/50 [==============================] - 626s 13s/step - loss: 0.6533 - acc: 0.6204 - val_loss: 0.6520 - val_acc: 0.6435\n",
            "INFO:tensorflow:Assets written to: ram://55967e40-ff2f-4ff9-9615-93d5a1ef8cf2/assets\n"
          ]
        }
      ],
      "source": [
        "from tensorflow.keras.models import load_model\n",
        "import numpy as np\n",
        "from tensorflow.keras import optimizers\n",
        "from PIL import Image\n",
        "import tensorflow as tf\n",
        "from tensorflow.keras.layers import Input, Lambda, Dense, Flatten\n",
        "from tensorflow.keras.preprocessing import image\n",
        "from tensorflow.keras.preprocessing.image import ImageDataGenerator,load_img\n",
        "from tensorflow.keras.models import Sequential\n",
        "!pip install pyyaml h5py\n",
        "import os\n",
        "base_dir = '/content/drive/MyDrive/2022dataset 05 2 22'\n",
        "train_dir = os.path.join(base_dir, 'train')\n",
        "validation_dir = os.path.join(base_dir, 'validation')\n",
        "test_dir = os.path.join(base_dir, 'test')\n",
        "train_datagen = ImageDataGenerator(\n",
        "    rescale=1./255,\n",
        "    rotation_range=40,\n",
        "    width_shift_range=0.2,\n",
        "    height_shift_range=0.2,\n",
        "    shear_range=0.2,\n",
        "    zoom_range=0.2,\n",
        "    horizontal_flip=True,\n",
        "    fill_mode='nearest')\n",
        "\n",
        "test_datagen = ImageDataGenerator(rescale=1./255)\n",
        "\n",
        "train_generator = train_datagen.flow_from_directory(\n",
        "    train_dir,\n",
        "    target_size=(224, 224),\n",
        "    batch_size=20,\n",
        "    class_mode='binary')\n",
        "\n",
        "validation_generator = test_datagen.flow_from_directory(\n",
        "    validation_dir,\n",
        "    target_size=(224, 224),\n",
        "    batch_size=20,\n",
        "    class_mode='binary')\n",
        "modelr2 =load_model('/content/drive/MyDrive/2022dataset 05 2 22/res2.h5')\n",
        "\n",
        "read_re2 = np.load('/content/drive/MyDrive/2022dataset 05 2 22/histore2.npy',allow_pickle='TRUE').item()\n",
        "\n",
        "\n",
        "# Compile the model\n",
        "modelr2.compile(loss='binary_crossentropy',\n",
        "optimizer=optimizers.SGD(lr=2e-5),\n",
        "metrics=['acc'])\n",
        "\n",
        "# Train the model\n",
        "histore3 = modelr2.fit_generator(\n",
        "    train_generator,\n",
        "    steps_per_epoch=50,\n",
        "    epochs=20,\n",
        "    validation_data=validation_generator,\n",
        "    validation_steps=len(validation_generator))\n",
        "\n",
        "# Save the model\n",
        "modelr2.save('/content/drive/MyDrive/2022dataset 05 2 22/res3.h5')\n",
        "np.save('/content/drive/MyDrive/2022dataset 05 2 22/histore3', histore3) "
      ]
    },
    {
      "cell_type": "code",
      "execution_count": null,
      "metadata": {
        "colab": {
          "background_save": true,
          "base_uri": "https://localhost:8080/"
        },
        "id": "OgUnAlNLBJzt",
        "outputId": "ec911c7f-e290-4d8d-99ff-f760e8623c59"
      },
      "outputs": [
        {
          "name": "stdout",
          "output_type": "stream",
          "text": [
            "Looking in indexes: https://pypi.org/simple, https://us-python.pkg.dev/colab-wheels/public/simple/\n",
            "Requirement already satisfied: pyyaml in /usr/local/lib/python3.7/dist-packages (3.13)\n",
            "Requirement already satisfied: h5py in /usr/local/lib/python3.7/dist-packages (3.1.0)\n",
            "Requirement already satisfied: numpy>=1.14.5 in /usr/local/lib/python3.7/dist-packages (from h5py) (1.21.6)\n",
            "Requirement already satisfied: cached-property in /usr/local/lib/python3.7/dist-packages (from h5py) (1.5.2)\n",
            "Found 34128 images belonging to 2 classes.\n",
            "Found 8726 images belonging to 2 classes.\n"
          ]
        },
        {
          "name": "stderr",
          "output_type": "stream",
          "text": [
            "/usr/local/lib/python3.7/dist-packages/keras/optimizer_v2/gradient_descent.py:102: UserWarning: The `lr` argument is deprecated, use `learning_rate` instead.\n",
            "  super(SGD, self).__init__(name, **kwargs)\n",
            "/usr/local/lib/python3.7/dist-packages/ipykernel_launcher.py:56: UserWarning: `Model.fit_generator` is deprecated and will be removed in a future version. Please use `Model.fit`, which supports generators.\n"
          ]
        },
        {
          "name": "stdout",
          "output_type": "stream",
          "text": [
            "Epoch 1/10\n",
            "50/50 [==============================] - 961s 19s/step - loss: 0.6496 - acc: 0.6160 - val_loss: 0.6505 - val_acc: 0.6382\n",
            "Epoch 2/10\n",
            "50/50 [==============================] - 568s 12s/step - loss: 0.6540 - acc: 0.6280 - val_loss: 0.6513 - val_acc: 0.6421\n",
            "Epoch 3/10\n",
            "50/50 [==============================] - 554s 11s/step - loss: 0.6586 - acc: 0.6160 - val_loss: 0.6483 - val_acc: 0.6340\n",
            "Epoch 4/10\n",
            "50/50 [==============================] - 562s 11s/step - loss: 0.6535 - acc: 0.6100 - val_loss: 0.6475 - val_acc: 0.6157\n",
            "Epoch 5/10\n",
            "50/50 [==============================] - 560s 11s/step - loss: 0.6607 - acc: 0.6250 - val_loss: 0.6514 - val_acc: 0.6436\n",
            "Epoch 6/10\n",
            "50/50 [==============================] - 544s 11s/step - loss: 0.6601 - acc: 0.6260 - val_loss: 0.6966 - val_acc: 0.5126\n",
            "Epoch 7/10\n",
            "50/50 [==============================] - 564s 11s/step - loss: 0.6578 - acc: 0.5910 - val_loss: 0.6494 - val_acc: 0.6395\n",
            "Epoch 8/10\n",
            "50/50 [==============================] - 547s 11s/step - loss: 0.6480 - acc: 0.6330 - val_loss: 0.6478 - val_acc: 0.6366\n",
            "Epoch 9/10\n",
            "50/50 [==============================] - 557s 11s/step - loss: 0.6599 - acc: 0.6070 - val_loss: 0.6523 - val_acc: 0.6449\n",
            "Epoch 10/10\n",
            "50/50 [==============================] - 559s 11s/step - loss: 0.6581 - acc: 0.5990 - val_loss: 0.6612 - val_acc: 0.6120\n",
            "INFO:tensorflow:Assets written to: ram://4b1a0ebe-9b11-4c06-b6e2-69c4b3e22126/assets\n"
          ]
        }
      ],
      "source": [
        "from tensorflow.keras.models import load_model\n",
        "import numpy as np\n",
        "from tensorflow.keras import optimizers\n",
        "from PIL import Image\n",
        "import tensorflow as tf\n",
        "from tensorflow.keras.layers import Input, Lambda, Dense, Flatten\n",
        "from tensorflow.keras.preprocessing import image\n",
        "from tensorflow.keras.preprocessing.image import ImageDataGenerator,load_img\n",
        "from tensorflow.keras.models import Sequential\n",
        "from tensorflow.keras.optimizers import SGD\n",
        "!pip install pyyaml h5py\n",
        "import os\n",
        "base_dir = '/content/drive/MyDrive/2022dataset 05 2 22'\n",
        "train_dir = os.path.join(base_dir, 'train')\n",
        "validation_dir = os.path.join(base_dir, 'validation')\n",
        "test_dir = os.path.join(base_dir, 'test')\n",
        "train_datagen = ImageDataGenerator(\n",
        "    rescale=1./255,\n",
        "    rotation_range=40,\n",
        "    width_shift_range=0.2,\n",
        "    height_shift_range=0.2,\n",
        "    shear_range=0.2,\n",
        "    zoom_range=0.2,\n",
        "    horizontal_flip=True,\n",
        "    fill_mode='nearest')\n",
        "\n",
        "test_datagen = ImageDataGenerator(rescale=1./255)\n",
        "\n",
        "train_generator = train_datagen.flow_from_directory(\n",
        "    train_dir,\n",
        "    target_size=(224, 224),\n",
        "    batch_size=20,\n",
        "    class_mode='binary')\n",
        "\n",
        "validation_generator = test_datagen.flow_from_directory(\n",
        "    validation_dir,\n",
        "    target_size=(224, 224),\n",
        "    batch_size=20,\n",
        "    class_mode='binary')\n",
        "modelr3 =load_model('/content/drive/MyDrive/2022dataset 05 2 22/res3.h5')\n",
        "\n",
        "read_re3 = np.load('/content/drive/MyDrive/2022dataset 05 2 22/histore3.npy',allow_pickle='TRUE').item()\n",
        "\n",
        "\n",
        "# Compile the model\n",
        "modelr3.compile(loss='binary_crossentropy',\n",
        "optimizer=optimizers.SGD(lr=2e-5),\n",
        "metrics=['acc'])\n",
        "\n",
        "# Train the model\n",
        "histore4 = modelr3.fit_generator(\n",
        "    train_generator,\n",
        "    steps_per_epoch=50,\n",
        "    epochs=10,\n",
        "    validation_data=validation_generator,\n",
        "    validation_steps=len(validation_generator))\n",
        "\n",
        "# Save the model\n",
        "modelr3.save('/content/drive/MyDrive/2022dataset 05 2 22/res4.h5')\n",
        "np.save('/content/drive/MyDrive/2022dataset 05 2 22/histore4', histore4) "
      ]
    },
    {
      "cell_type": "code",
      "execution_count": null,
      "metadata": {
        "colab": {
          "base_uri": "https://localhost:8080/",
          "height": 624
        },
        "id": "ShCPLW4pWqMo",
        "outputId": "0b424477-fbf7-4cbc-8956-68a55bef4ace"
      },
      "outputs": [
        {
          "output_type": "stream",
          "name": "stdout",
          "text": [
            "Looking in indexes: https://pypi.org/simple, https://us-python.pkg.dev/colab-wheels/public/simple/\n",
            "Requirement already satisfied: pyyaml in /usr/local/lib/python3.7/dist-packages (3.13)\n",
            "Requirement already satisfied: h5py in /usr/local/lib/python3.7/dist-packages (3.1.0)\n",
            "Requirement already satisfied: numpy>=1.14.5 in /usr/local/lib/python3.7/dist-packages (from h5py) (1.21.6)\n",
            "Requirement already satisfied: cached-property in /usr/local/lib/python3.7/dist-packages (from h5py) (1.5.2)\n",
            "Drive already mounted at /content/drive; to attempt to forcibly remount, call drive.mount(\"/content/drive\", force_remount=True).\n"
          ]
        },
        {
          "output_type": "display_data",
          "data": {
            "text/plain": [
              "<Figure size 432x288 with 1 Axes>"
            ],
            "image/png": "[encoded data removed]"
          },
          "metadata": {
            "needs_background": "light"
          }
        },
        {
          "output_type": "display_data",
          "data": {
            "text/plain": [
              "<Figure size 432x288 with 1 Axes>"
            ],
            "image/png": "[encoded data removed]"
          },
          "metadata": {
            "needs_background": "light"
          }
        }
      ],
      "source": [
        "import matplotlib.pyplot as plt\n",
        "!pip install pyyaml h5py\n",
        "from google.colab import drive\n",
        "drive.mount('/content/drive')\n",
        "import numpy as np\n",
        "import tensorflow as tf\n",
        "from tensorflow.keras.layers import Input, Lambda, Dense, Flatten\n",
        "from tensorflow.keras.models import Model\n",
        "#from tensorflow.keras.applications.inception_v3 import InceptionV3\n",
        "#from tensorflow.keras.applications.inception_v3 import preprocess_input\n",
        "from tensorflow.keras.preprocessing import image\n",
        "from tensorflow.keras.preprocessing.image import ImageDataGenerator,load_img\n",
        "from tensorflow.keras.models import Sequential\n",
        "#read_r16 = np.load('/content/drive/MyDrive/2022dataset 05 2 22/histore1.npy',allow_pickle='TRUE').item()\n",
        "#read_r17 = np.load('/content/drive/MyDrive/2022dataset 05 2 22/historyv3.npy',allow_pickle='TRUE').item()\n",
        "read_r17 = np.load('/content/drive/MyDrive/2022dataset 05 2 22/histore2.npy',allow_pickle='TRUE').item()\n",
        "#read_r18 = np.load('/content/drive/MyDrive/2022dataset 05 2 22/histore3.npy',allow_pickle='TRUE').item()\n",
        "#read_r19 = np.load('/content/drive/MyDrive/2022dataset 05 2 22/histore4.npy',allow_pickle='TRUE').item()\n",
        "#read_r20 = np.load('/content/drive/MyDrive/2022dataset 05 2 22/histore5.npy',allow_pickle='TRUE').item()\n",
        "#read_r21 = np.load('/content/drive/MyDrive/2022dataset 05 2 22/histore6.npy',allow_pickle='TRUE').item()\n",
        "read_r22 = np.load('/content/drive/MyDrive/2022dataset 05 2 22/histore7.npy',allow_pickle='TRUE').item()\n",
        "read_r23 = np.load('/content/drive/MyDrive/2022dataset 05 2 22/histore8.npy',allow_pickle='TRUE').item()\n",
        "read_r24 = np.load('/content/drive/MyDrive/2022dataset 05 2 22/histore9.npy',allow_pickle='TRUE').item()\n",
        "read_r25 = np.load('/content/drive/MyDrive/2022dataset 05 2 22/histore10.npy',allow_pickle='TRUE').item()\n",
        "read_r26 = np.load('/content/drive/MyDrive/2022dataset 05 2 22/histore11.npy',allow_pickle='TRUE').item()\n",
        "read_r27 = np.load('/content/drive/MyDrive/2022dataset 05 2 22/histore12.npy',allow_pickle='TRUE').item()\n",
        "#r_total_loss = read_r16.history['loss']+read_r17.history['loss'] + read_r18.history['loss']+  read_r19.history['loss']+read_r20.history['loss']\n",
        "#r_total_val_loss = read_r16.history['val_loss']+read_r17.history['val_loss'] + read_r18.history['val_loss']+ read_r19.history['val_loss']+read_r20.history['val_loss']\n",
        "#r_total_accuracy = read_r16.history['acc']+read_r17.history['acc'] + read_r18.history['acc']+ read_r19.history['acc']+read_r20.history['acc']\n",
        "#r_total_val_accuracy =read_r16.history['val_acc']+ read_r17.history['val_acc'] + read_r18.history['val_acc']+ read_r19.history['val_acc']+read_r20.history['acc']\n",
        "\n",
        "#r_total_loss = read_r17.history['loss']+ read_r18.history['loss']+ read_r19.history['loss']+ read_r20.history['loss']+ read_r21.history['loss']+ read_r22.history['loss']+ read_r23.history['loss']+ read_r24.history['loss']+ read_r25.history['loss']+ read_r26.history['loss']\n",
        "#r_total_val_loss = cread_r18.history['val_loss']+ read_r19.history['val_loss']+ read_r20.history['val_loss']+ read_r21.history['val_loss']+ read_r22.history['val_loss']+ read_r23.history['val_loss']+ read_r24.history['val_loss']+ read_r25.history['val_loss']+ read_r26.history['val_loss']\n",
        "#r_total_accuracy =read_r17.history['acc']+ read_r18.history['acc']+ read_r19.history['acc']+ read_r20.history['acc']+ read_r21.history['acc']+ read_r22.history['acc']+ read_r23.history['acc']+ read_r24.history['acc']+ read_r25.history['acc']+ read_r26.history['acc']\n",
        "#r_total_val_accuracy = read_r17.history['val_acc']+ read_r18.history['val_acc']+ read_r19.history['val_acc']+ read_r20.history['val_acc']+ read_r21.history['val_acc']+ read_r22.history['val_acc']+ read_r23.history['val_acc']+ read_r24.history['val_acc']+ read_r25.history['val_acc']+ read_r26.history['val_acc']\n",
        "\n",
        "r_total_loss = read_r17.history['loss']+read_r22.history['loss']+read_r23.history['loss']+  read_r24.history['loss']+ read_r25.history['loss']+ read_r26.history['loss']+ read_r27.history['loss']\n",
        "r_total_val_loss =  read_r17.history['val_loss']+read_r22.history['val_loss']+ read_r23.history['val_loss']+    read_r24.history['val_loss']+ read_r25.history['val_loss']+ read_r26.history['val_loss']+ read_r27.history['val_loss']\n",
        "r_total_accuracy = read_r17.history['acc']+read_r22.history['acc']+ read_r23.history['acc']+ read_r24.history['acc']+ read_r25.history['acc']+ read_r26.history['acc']+ read_r27.history['acc']\n",
        "r_total_val_accuracy = read_r17.history['val_acc']+read_r22.history['val_acc']+  read_r23.history['val_acc']+   read_r24.history['val_acc']+ read_r25.history['val_acc']+ read_r26.history['val_acc']+ read_r27.history['val_acc']\n",
        "\n",
        "\n",
        "\n",
        "#print(read_r1.history['loss'])\n",
        "from matplotlib import pyplot\n",
        "pyplot.grid(linestyle='--')\n",
        "\n",
        "\n",
        "# plot the loss\n",
        "plt.plot(r_total_loss,  label='train loss')\n",
        "plt.plot(r_total_val_loss, label='val loss')\n",
        "plt.legend()\n",
        "plt.savefig('LossVal_lossres100epochs.pdf',format='pdf',dpi=800)\n",
        "plt.show()\n",
        "\n",
        "# plot the accuracy\n",
        "plt.plot(r_total_accuracy, label='train acc')\n",
        "plt.plot(r_total_val_accuracy , label='val acc')\n",
        "plt.legend()\n",
        "pyplot.grid(linestyle='--')\n",
        "\n",
        "plt.savefig('AccVal_accresne500100epochs.pdf',format='pdf', dpi=800)"
      ]
    },
    {
      "cell_type": "code",
      "execution_count": null,
      "metadata": {
        "colab": {
          "base_uri": "https://localhost:8080/"
        },
        "id": "1LHK-Je62FiL",
        "outputId": "cd875acf-961c-41ce-f7ca-6fddb6ba152c"
      },
      "outputs": [
        {
          "name": "stdout",
          "output_type": "stream",
          "text": [
            "Looking in indexes: https://pypi.org/simple, https://us-python.pkg.dev/colab-wheels/public/simple/\n",
            "Requirement already satisfied: pyyaml in /usr/local/lib/python3.7/dist-packages (3.13)\n",
            "Requirement already satisfied: h5py in /usr/local/lib/python3.7/dist-packages (3.1.0)\n",
            "Requirement already satisfied: numpy>=1.14.5 in /usr/local/lib/python3.7/dist-packages (from h5py) (1.21.6)\n",
            "Requirement already satisfied: cached-property in /usr/local/lib/python3.7/dist-packages (from h5py) (1.5.2)\n",
            "Found 34128 images belonging to 2 classes.\n",
            "Found 8726 images belonging to 2 classes.\n"
          ]
        },
        {
          "name": "stderr",
          "output_type": "stream",
          "text": [
            "/usr/local/lib/python3.7/dist-packages/keras/optimizer_v2/gradient_descent.py:102: UserWarning: The `lr` argument is deprecated, use `learning_rate` instead.\n",
            "  super(SGD, self).__init__(name, **kwargs)\n",
            "/usr/local/lib/python3.7/dist-packages/ipykernel_launcher.py:56: UserWarning: `Model.fit_generator` is deprecated and will be removed in a future version. Please use `Model.fit`, which supports generators.\n"
          ]
        },
        {
          "name": "stdout",
          "output_type": "stream",
          "text": [
            "Epoch 1/20\n",
            "50/50 [==============================] - 3587s 73s/step - loss: 0.6548 - acc: 0.6180 - val_loss: 0.6568 - val_acc: 0.6319\n",
            "Epoch 2/20\n",
            "50/50 [==============================] - 1062s 21s/step - loss: 0.6533 - acc: 0.6290 - val_loss: 0.6525 - val_acc: 0.6454\n",
            "Epoch 3/20\n",
            "50/50 [==============================] - 1099s 22s/step - loss: 0.6541 - acc: 0.6260 - val_loss: 0.6541 - val_acc: 0.6421\n",
            "Epoch 4/20\n",
            "50/50 [==============================] - 1045s 21s/step - loss: 0.6591 - acc: 0.6175 - val_loss: 0.6534 - val_acc: 0.6423\n",
            "Epoch 5/20\n",
            "50/50 [==============================] - 1051s 21s/step - loss: 0.6517 - acc: 0.6285 - val_loss: 0.6636 - val_acc: 0.6005\n",
            "Epoch 6/20\n",
            "50/50 [==============================] - 1075s 22s/step - loss: 0.6519 - acc: 0.6145 - val_loss: 0.6737 - val_acc: 0.5581\n",
            "Epoch 7/20\n",
            "50/50 [==============================] - 991s 20s/step - loss: 0.6571 - acc: 0.6325 - val_loss: 0.6572 - val_acc: 0.6270\n",
            "Epoch 8/20\n",
            "50/50 [==============================] - 970s 20s/step - loss: 0.6470 - acc: 0.6400 - val_loss: 0.6542 - val_acc: 0.6407\n",
            "Epoch 9/20\n",
            "50/50 [==============================] - 953s 19s/step - loss: 0.6578 - acc: 0.6090 - val_loss: 0.6575 - val_acc: 0.6255\n",
            "Epoch 10/20\n",
            "50/50 [==============================] - 962s 19s/step - loss: 0.6586 - acc: 0.6140 - val_loss: 0.6642 - val_acc: 0.5965\n",
            "Epoch 11/20\n",
            "50/50 [==============================] - 904s 18s/step - loss: 0.6555 - acc: 0.6310 - val_loss: 0.6590 - val_acc: 0.6191\n",
            "Epoch 12/20\n",
            "50/50 [==============================] - 926s 19s/step - loss: 0.6559 - acc: 0.6255 - val_loss: 0.6476 - val_acc: 0.6400\n",
            "Epoch 13/20\n",
            "50/50 [==============================] - 923s 19s/step - loss: 0.6532 - acc: 0.6194 - val_loss: 0.6713 - val_acc: 0.5662\n",
            "Epoch 14/20\n",
            "50/50 [==============================] - 895s 18s/step - loss: 0.6519 - acc: 0.6215 - val_loss: 0.6495 - val_acc: 0.6441\n",
            "Epoch 15/20\n",
            "50/50 [==============================] - 870s 18s/step - loss: 0.6480 - acc: 0.6355 - val_loss: 0.6746 - val_acc: 0.5565\n",
            "Epoch 16/20\n",
            "50/50 [==============================] - 843s 17s/step - loss: 0.6457 - acc: 0.6320 - val_loss: 0.6516 - val_acc: 0.6447\n",
            "Epoch 17/20\n",
            "50/50 [==============================] - 849s 17s/step - loss: 0.6515 - acc: 0.6375 - val_loss: 0.6489 - val_acc: 0.6414\n",
            "Epoch 18/20\n",
            "50/50 [==============================] - 858s 17s/step - loss: 0.6486 - acc: 0.6405 - val_loss: 0.6579 - val_acc: 0.6231\n",
            "Epoch 19/20\n",
            "50/50 [==============================] - 859s 17s/step - loss: 0.6560 - acc: 0.6180 - val_loss: 0.6518 - val_acc: 0.6442\n",
            "Epoch 20/20\n",
            "50/50 [==============================] - 840s 17s/step - loss: 0.6575 - acc: 0.6220 - val_loss: 0.6517 - val_acc: 0.6443\n",
            "INFO:tensorflow:Assets written to: ram://7e7db8b6-fac4-4e26-b29c-9094896ed88c/assets\n"
          ]
        }
      ],
      "source": [
        "from tensorflow.keras.models import load_model\n",
        "import numpy as np\n",
        "from tensorflow.keras import optimizers\n",
        "from PIL import Image\n",
        "import tensorflow as tf\n",
        "from tensorflow.keras.layers import Input, Lambda, Dense, Flatten\n",
        "from tensorflow.keras.preprocessing import image\n",
        "from tensorflow.keras.preprocessing.image import ImageDataGenerator,load_img\n",
        "from tensorflow.keras.models import Sequential\n",
        "from tensorflow.keras.optimizers import SGD\n",
        "!pip install pyyaml h5py\n",
        "import os\n",
        "base_dir = '/content/drive/MyDrive/2022dataset 05 2 22'\n",
        "train_dir = os.path.join(base_dir, 'train')\n",
        "validation_dir = os.path.join(base_dir, 'validation')\n",
        "test_dir = os.path.join(base_dir, 'test')\n",
        "train_datagen = ImageDataGenerator(\n",
        "    rescale=1./255,\n",
        "    rotation_range=40,\n",
        "    width_shift_range=0.2,\n",
        "    height_shift_range=0.2,\n",
        "    shear_range=0.2,\n",
        "    zoom_range=0.2,\n",
        "    horizontal_flip=True,\n",
        "    fill_mode='nearest')\n",
        "\n",
        "test_datagen = ImageDataGenerator(rescale=1./255)\n",
        "\n",
        "train_generator = train_datagen.flow_from_directory(\n",
        "    train_dir,\n",
        "    target_size=(224, 224),\n",
        "    batch_size=40,\n",
        "    class_mode='binary')\n",
        "\n",
        "validation_generator = test_datagen.flow_from_directory(\n",
        "    validation_dir,\n",
        "    target_size=(224, 224),\n",
        "    batch_size=40,\n",
        "    class_mode='binary')\n",
        "modelr4 =load_model('/content/drive/MyDrive/2022dataset 05 2 22/res4.h5')\n",
        "\n",
        "read_re4 = np.load('/content/drive/MyDrive/2022dataset 05 2 22/histore4.npy',allow_pickle='TRUE').item()\n",
        "\n",
        "\n",
        "# Compile the model\n",
        "modelr4.compile(loss='binary_crossentropy',\n",
        "optimizer=optimizers.SGD(lr=2e-5),\n",
        "metrics=['acc'])\n",
        "\n",
        "# Train the model\n",
        "histore5 = modelr4.fit_generator(\n",
        "    train_generator,\n",
        "    steps_per_epoch=50,\n",
        "    epochs=20,\n",
        "    validation_data=validation_generator,\n",
        "    validation_steps=len(validation_generator))\n",
        "\n",
        "# Save the model\n",
        "modelr4.save('/content/drive/MyDrive/2022dataset 05 2 22/res5.h5')\n",
        "np.save('/content/drive/MyDrive/2022dataset 05 2 22/histore5', histore5)"
      ]
    },
    {
      "cell_type": "code",
      "execution_count": null,
      "metadata": {
        "colab": {
          "background_save": true,
          "base_uri": "https://localhost:8080/"
        },
        "id": "fMzYyfObW2aB",
        "outputId": "c49d9fb2-3c75-4cf4-de5b-761d713c058b"
      },
      "outputs": [
        {
          "name": "stdout",
          "output_type": "stream",
          "text": [
            "Looking in indexes: https://pypi.org/simple, https://us-python.pkg.dev/colab-wheels/public/simple/\n",
            "Requirement already satisfied: pyyaml in /usr/local/lib/python3.7/dist-packages (3.13)\n",
            "Requirement already satisfied: h5py in /usr/local/lib/python3.7/dist-packages (3.1.0)\n",
            "Requirement already satisfied: numpy>=1.14.5 in /usr/local/lib/python3.7/dist-packages (from h5py) (1.21.6)\n",
            "Requirement already satisfied: cached-property in /usr/local/lib/python3.7/dist-packages (from h5py) (1.5.2)\n",
            "Looking in indexes: https://pypi.org/simple, https://us-python.pkg.dev/colab-wheels/public/simple/\n",
            "Requirement already satisfied: pyyaml in /usr/local/lib/python3.7/dist-packages (3.13)\n",
            "Requirement already satisfied: h5py in /usr/local/lib/python3.7/dist-packages (3.1.0)\n",
            "Requirement already satisfied: numpy>=1.14.5 in /usr/local/lib/python3.7/dist-packages (from h5py) (1.21.6)\n",
            "Requirement already satisfied: cached-property in /usr/local/lib/python3.7/dist-packages (from h5py) (1.5.2)\n",
            "Drive already mounted at /content/drive; to attempt to forcibly remount, call drive.mount(\"/content/drive\", force_remount=True).\n",
            "Found 34128 images belonging to 2 classes.\n",
            "Found 8726 images belonging to 2 classes.\n"
          ]
        },
        {
          "name": "stderr",
          "output_type": "stream",
          "text": [
            "/usr/local/lib/python3.7/dist-packages/keras/optimizer_v2/gradient_descent.py:102: UserWarning: The `lr` argument is deprecated, use `learning_rate` instead.\n",
            "  super(SGD, self).__init__(name, **kwargs)\n",
            "/usr/local/lib/python3.7/dist-packages/ipykernel_launcher.py:62: UserWarning: `Model.fit_generator` is deprecated and will be removed in a future version. Please use `Model.fit`, which supports generators.\n"
          ]
        },
        {
          "name": "stdout",
          "output_type": "stream",
          "text": [
            "Epoch 1/5\n",
            "70/70 [==============================] - 3369s 49s/step - loss: 0.6445 - acc: 0.6464 - val_loss: 0.6459 - val_acc: 0.6403\n",
            "Epoch 2/5\n",
            "70/70 [==============================] - 987s 14s/step - loss: 0.6385 - acc: 0.6539 - val_loss: 0.6449 - val_acc: 0.6381\n",
            "Epoch 3/5\n",
            "70/70 [==============================] - 982s 14s/step - loss: 0.6453 - acc: 0.6318 - val_loss: 0.6446 - val_acc: 0.6394\n",
            "Epoch 4/5\n",
            "70/70 [==============================] - 948s 14s/step - loss: 0.6369 - acc: 0.6493 - val_loss: 0.6452 - val_acc: 0.6396\n",
            "Epoch 5/5\n",
            "70/70 [==============================] - 957s 14s/step - loss: 0.6399 - acc: 0.6514 - val_loss: 0.6444 - val_acc: 0.6389\n",
            "INFO:tensorflow:Assets written to: ram://1c1ed4dc-50f5-4e6f-9c48-cb6cd9ffb4e8/assets\n"
          ]
        }
      ],
      "source": [
        "import numpy as np\n",
        "from tensorflow.keras import optimizers\n",
        "from PIL import Image\n",
        "import tensorflow as tf\n",
        "from tensorflow.keras.models import load_model\n",
        "import numpy as np\n",
        "from tensorflow.keras import optimizers\n",
        "from tensorflow.keras.layers import Input, Lambda, Dense, Flatten\n",
        "from tensorflow.keras.preprocessing import image\n",
        "from tensorflow.keras.preprocessing.image import ImageDataGenerator,load_img\n",
        "from tensorflow.keras.models import Sequential\n",
        "from tensorflow.keras.optimizers import SGD\n",
        "!pip install pyyaml h5py\n",
        "import matplotlib.pyplot as plt\n",
        "!pip install pyyaml h5py\n",
        "from google.colab import drive\n",
        "drive.mount('/content/drive')\n",
        "import os\n",
        "base_dir = '/content/drive/MyDrive/2022dataset 05 2 22'\n",
        "train_dir = os.path.join(base_dir, 'train')\n",
        "validation_dir = os.path.join(base_dir, 'validation')\n",
        "test_dir = os.path.join(base_dir, 'test')\n",
        "train_datagen = ImageDataGenerator(\n",
        "    rescale=1./255)\n",
        "   # rotation_range=40,\n",
        "    #width_shift_range=0.2,\n",
        "    #height_shift_range=0.2,\n",
        "    #shear_range=0.2,\n",
        "    #zoom_range=0.2,\n",
        "    #horizontal_flip=True,\n",
        "    #fill_mode='nearest')\n",
        "\n",
        "test_datagen = ImageDataGenerator(rescale=1./255)\n",
        "\n",
        "train_generator = train_datagen.flow_from_directory(\n",
        "    train_dir,\n",
        "    target_size=(224, 224),\n",
        "    batch_size=40,\n",
        "    class_mode='binary')\n",
        "\n",
        "validation_generator = test_datagen.flow_from_directory(\n",
        "    validation_dir,\n",
        "    target_size=(224, 224),\n",
        "    batch_size=40,\n",
        "    class_mode='binary')\n",
        "modelr6 =load_model('/content/drive/MyDrive/2022dataset 05 2 22/res6.h5')\n",
        "\n",
        "read_re6 = np.load('/content/drive/MyDrive/2022dataset 05 2 22/histore6.npy',allow_pickle='TRUE').item()\n",
        "\n",
        "\n",
        "# Compile the model\n",
        "modelr6.compile(loss='binary_crossentropy',\n",
        "optimizer=optimizers.SGD(lr=0.2e-5),\n",
        "metrics=['acc'])\n",
        "\n",
        "# Train the model\n",
        "histore7 = modelr6.fit_generator(\n",
        "    train_generator,\n",
        "    steps_per_epoch=70,\n",
        "    epochs=5,\n",
        "    validation_data=validation_generator,\n",
        "    validation_steps=len(validation_generator))\n",
        "\n",
        "# Save the model\n",
        "modelr6.save('/content/drive/MyDrive/2022dataset 05 2 22/res7.h5')\n",
        "np.save('/content/drive/MyDrive/2022dataset 05 2 22/histore7', histore7)"
      ]
    },
    {
      "cell_type": "code",
      "execution_count": null,
      "metadata": {
        "colab": {
          "base_uri": "https://localhost:8080/"
        },
        "id": "abC9knjZy-Eh",
        "outputId": "87208a31-91c2-4fe3-cb3d-2b771a0fff7d"
      },
      "outputs": [
        {
          "name": "stdout",
          "output_type": "stream",
          "text": [
            "Looking in indexes: https://pypi.org/simple, https://us-python.pkg.dev/colab-wheels/public/simple/\n",
            "Requirement already satisfied: pyyaml in /usr/local/lib/python3.7/dist-packages (3.13)\n",
            "Requirement already satisfied: h5py in /usr/local/lib/python3.7/dist-packages (3.1.0)\n",
            "Requirement already satisfied: cached-property in /usr/local/lib/python3.7/dist-packages (from h5py) (1.5.2)\n",
            "Requirement already satisfied: numpy>=1.14.5 in /usr/local/lib/python3.7/dist-packages (from h5py) (1.21.6)\n",
            "Looking in indexes: https://pypi.org/simple, https://us-python.pkg.dev/colab-wheels/public/simple/\n",
            "Requirement already satisfied: pyyaml in /usr/local/lib/python3.7/dist-packages (3.13)\n",
            "Requirement already satisfied: h5py in /usr/local/lib/python3.7/dist-packages (3.1.0)\n",
            "Requirement already satisfied: cached-property in /usr/local/lib/python3.7/dist-packages (from h5py) (1.5.2)\n",
            "Requirement already satisfied: numpy>=1.14.5 in /usr/local/lib/python3.7/dist-packages (from h5py) (1.21.6)\n",
            "Drive already mounted at /content/drive; to attempt to forcibly remount, call drive.mount(\"/content/drive\", force_remount=True).\n",
            "Found 34128 images belonging to 2 classes.\n",
            "Found 8726 images belonging to 2 classes.\n"
          ]
        },
        {
          "name": "stderr",
          "output_type": "stream",
          "text": [
            "/usr/local/lib/python3.7/dist-packages/keras/optimizer_v2/gradient_descent.py:102: UserWarning: The `lr` argument is deprecated, use `learning_rate` instead.\n",
            "  super(SGD, self).__init__(name, **kwargs)\n",
            "/usr/local/lib/python3.7/dist-packages/ipykernel_launcher.py:62: UserWarning: `Model.fit_generator` is deprecated and will be removed in a future version. Please use `Model.fit`, which supports generators.\n"
          ]
        },
        {
          "name": "stdout",
          "output_type": "stream",
          "text": [
            "Epoch 1/10\n",
            "70/70 [==============================] - 4084s 59s/step - loss: 0.6491 - acc: 0.6446 - val_loss: 0.6440 - val_acc: 0.6342\n",
            "Epoch 2/10\n",
            "70/70 [==============================] - 1426s 20s/step - loss: 0.6460 - acc: 0.6311 - val_loss: 0.6439 - val_acc: 0.6347\n",
            "Epoch 3/10\n",
            "70/70 [==============================] - 1289s 18s/step - loss: 0.6505 - acc: 0.6343 - val_loss: 0.6444 - val_acc: 0.6400\n",
            "Epoch 4/10\n",
            "70/70 [==============================] - 1228s 18s/step - loss: 0.6376 - acc: 0.6596 - val_loss: 0.6448 - val_acc: 0.6394\n",
            "Epoch 5/10\n",
            "70/70 [==============================] - 1145s 16s/step - loss: 0.6477 - acc: 0.6351 - val_loss: 0.6440 - val_acc: 0.6387\n",
            "Epoch 6/10\n",
            "70/70 [==============================] - 1118s 16s/step - loss: 0.6374 - acc: 0.6471 - val_loss: 0.6451 - val_acc: 0.6420\n",
            "Epoch 7/10\n",
            "70/70 [==============================] - 1020s 15s/step - loss: 0.6479 - acc: 0.6482 - val_loss: 0.6443 - val_acc: 0.6394\n",
            "Epoch 8/10\n",
            "70/70 [==============================] - 956s 14s/step - loss: 0.6424 - acc: 0.6529 - val_loss: 0.6435 - val_acc: 0.6293\n",
            "Epoch 9/10\n",
            "70/70 [==============================] - 927s 13s/step - loss: 0.6334 - acc: 0.6554 - val_loss: 0.6440 - val_acc: 0.6406\n",
            "Epoch 10/10\n",
            "70/70 [==============================] - 927s 13s/step - loss: 0.6405 - acc: 0.6479 - val_loss: 0.6439 - val_acc: 0.6407\n",
            "INFO:tensorflow:Assets written to: ram://db9b7313-eac6-4387-97a3-800aeff7cf78/assets\n"
          ]
        }
      ],
      "source": [
        "import numpy as np\n",
        "from tensorflow.keras import optimizers\n",
        "from PIL import Image\n",
        "import tensorflow as tf\n",
        "from tensorflow.keras.models import load_model\n",
        "import numpy as np\n",
        "from tensorflow.keras import optimizers\n",
        "from tensorflow.keras.layers import Input, Lambda, Dense, Flatten\n",
        "from tensorflow.keras.preprocessing import image\n",
        "from tensorflow.keras.preprocessing.image import ImageDataGenerator,load_img\n",
        "from tensorflow.keras.models import Sequential\n",
        "from tensorflow.keras.optimizers import SGD\n",
        "!pip install pyyaml h5py\n",
        "import matplotlib.pyplot as plt\n",
        "!pip install pyyaml h5py\n",
        "from google.colab import drive\n",
        "drive.mount('/content/drive')\n",
        "import os\n",
        "base_dir = '/content/drive/MyDrive/2022dataset 05 2 22'\n",
        "train_dir = os.path.join(base_dir, 'train')\n",
        "validation_dir = os.path.join(base_dir, 'validation')\n",
        "test_dir = os.path.join(base_dir, 'test')\n",
        "train_datagen = ImageDataGenerator(\n",
        "    rescale=1./255)\n",
        "   # rotation_range=40,\n",
        "    #width_shift_range=0.2,\n",
        "    #height_shift_range=0.2,\n",
        "    #shear_range=0.2,\n",
        "    #zoom_range=0.2,\n",
        "    #horizontal_flip=True,\n",
        "    #fill_mode='nearest')\n",
        "\n",
        "test_datagen = ImageDataGenerator(rescale=1./255)\n",
        "\n",
        "train_generator = train_datagen.flow_from_directory(\n",
        "    train_dir,\n",
        "    target_size=(224, 224),\n",
        "    batch_size=40,\n",
        "    class_mode='binary')\n",
        "\n",
        "validation_generator = test_datagen.flow_from_directory(\n",
        "    validation_dir,\n",
        "    target_size=(224, 224),\n",
        "    batch_size=40,\n",
        "    class_mode='binary')\n",
        "modelr7 =load_model('/content/drive/MyDrive/2022dataset 05 2 22/res7.h5')\n",
        "\n",
        "read_re7 = np.load('/content/drive/MyDrive/2022dataset 05 2 22/histore7.npy',allow_pickle='TRUE').item()\n",
        "\n",
        "\n",
        "# Compile the model\n",
        "modelr7.compile(loss='binary_crossentropy',\n",
        "optimizer=optimizers.SGD(lr=0.2e-5),\n",
        "metrics=['acc'])\n",
        "\n",
        "# Train the model\n",
        "histore8 = modelr7.fit_generator(\n",
        "    train_generator,\n",
        "    steps_per_epoch=70,\n",
        "    epochs=10,\n",
        "    validation_data=validation_generator,\n",
        "    validation_steps=len(validation_generator))\n",
        "\n",
        "# Save the model\n",
        "modelr7.save('/content/drive/MyDrive/2022dataset 05 2 22/res8.h5')\n",
        "np.save('/content/drive/MyDrive/2022dataset 05 2 22/histore8', histore8)"
      ]
    },
    {
      "cell_type": "code",
      "execution_count": null,
      "metadata": {
        "colab": {
          "base_uri": "https://localhost:8080/"
        },
        "id": "vByM8CeubROM",
        "outputId": "850c8f6c-686b-4f26-98ae-ab942c909779"
      },
      "outputs": [
        {
          "name": "stdout",
          "output_type": "stream",
          "text": [
            "Looking in indexes: https://pypi.org/simple, https://us-python.pkg.dev/colab-wheels/public/simple/\n",
            "Requirement already satisfied: pyyaml in /usr/local/lib/python3.7/dist-packages (3.13)\n",
            "Requirement already satisfied: h5py in /usr/local/lib/python3.7/dist-packages (3.1.0)\n",
            "Requirement already satisfied: numpy>=1.14.5 in /usr/local/lib/python3.7/dist-packages (from h5py) (1.21.6)\n",
            "Requirement already satisfied: cached-property in /usr/local/lib/python3.7/dist-packages (from h5py) (1.5.2)\n",
            "Looking in indexes: https://pypi.org/simple, https://us-python.pkg.dev/colab-wheels/public/simple/\n",
            "Requirement already satisfied: pyyaml in /usr/local/lib/python3.7/dist-packages (3.13)\n",
            "Requirement already satisfied: h5py in /usr/local/lib/python3.7/dist-packages (3.1.0)\n",
            "Requirement already satisfied: cached-property in /usr/local/lib/python3.7/dist-packages (from h5py) (1.5.2)\n",
            "Requirement already satisfied: numpy>=1.14.5 in /usr/local/lib/python3.7/dist-packages (from h5py) (1.21.6)\n",
            "Drive already mounted at /content/drive; to attempt to forcibly remount, call drive.mount(\"/content/drive\", force_remount=True).\n",
            "Found 34128 images belonging to 2 classes.\n",
            "Found 8726 images belonging to 2 classes.\n"
          ]
        },
        {
          "name": "stderr",
          "output_type": "stream",
          "text": [
            "/usr/local/lib/python3.7/dist-packages/keras/optimizer_v2/gradient_descent.py:102: UserWarning: The `lr` argument is deprecated, use `learning_rate` instead.\n",
            "  super(SGD, self).__init__(name, **kwargs)\n",
            "/usr/local/lib/python3.7/dist-packages/ipykernel_launcher.py:62: UserWarning: `Model.fit_generator` is deprecated and will be removed in a future version. Please use `Model.fit`, which supports generators.\n"
          ]
        },
        {
          "name": "stdout",
          "output_type": "stream",
          "text": [
            "Epoch 1/15\n",
            "70/70 [==============================] - 870s 13s/step - loss: 0.6321 - acc: 0.6493 - val_loss: 0.6440 - val_acc: 0.6405\n",
            "Epoch 2/15\n",
            "70/70 [==============================] - 676s 10s/step - loss: 0.6380 - acc: 0.6536 - val_loss: 0.6438 - val_acc: 0.6407\n",
            "Epoch 3/15\n",
            "70/70 [==============================] - 672s 10s/step - loss: 0.6388 - acc: 0.6525 - val_loss: 0.6435 - val_acc: 0.6373\n",
            "Epoch 4/15\n",
            "70/70 [==============================] - 649s 9s/step - loss: 0.6416 - acc: 0.6343 - val_loss: 0.6439 - val_acc: 0.6412\n",
            "Epoch 5/15\n",
            "70/70 [==============================] - 650s 9s/step - loss: 0.6423 - acc: 0.6500 - val_loss: 0.6445 - val_acc: 0.6411\n",
            "Epoch 6/15\n",
            "70/70 [==============================] - 650s 9s/step - loss: 0.6435 - acc: 0.6539 - val_loss: 0.6439 - val_acc: 0.6403\n",
            "Epoch 7/15\n",
            "70/70 [==============================] - 621s 9s/step - loss: 0.6385 - acc: 0.6529 - val_loss: 0.6444 - val_acc: 0.6411\n",
            "Epoch 8/15\n",
            "70/70 [==============================] - 619s 9s/step - loss: 0.6467 - acc: 0.6386 - val_loss: 0.6431 - val_acc: 0.6369\n",
            "Epoch 9/15\n",
            "70/70 [==============================] - 633s 9s/step - loss: 0.6471 - acc: 0.6336 - val_loss: 0.6433 - val_acc: 0.6392\n",
            "Epoch 10/15\n",
            "70/70 [==============================] - 625s 9s/step - loss: 0.6440 - acc: 0.6425 - val_loss: 0.6430 - val_acc: 0.6374\n",
            "Epoch 11/15\n",
            "70/70 [==============================] - 622s 9s/step - loss: 0.6378 - acc: 0.6393 - val_loss: 0.6430 - val_acc: 0.6273\n",
            "Epoch 12/15\n",
            "70/70 [==============================] - 650s 9s/step - loss: 0.6429 - acc: 0.6375 - val_loss: 0.6434 - val_acc: 0.6416\n",
            "Epoch 13/15\n",
            "70/70 [==============================] - 634s 9s/step - loss: 0.6337 - acc: 0.6604 - val_loss: 0.6444 - val_acc: 0.6426\n",
            "Epoch 14/15\n",
            "70/70 [==============================] - 607s 9s/step - loss: 0.6446 - acc: 0.6396 - val_loss: 0.6436 - val_acc: 0.6404\n",
            "Epoch 15/15\n",
            "70/70 [==============================] - 601s 9s/step - loss: 0.6377 - acc: 0.6507 - val_loss: 0.6428 - val_acc: 0.6373\n",
            "INFO:tensorflow:Assets written to: ram://48fddbeb-bb12-415e-8e90-3df71e9e60dc/assets\n"
          ]
        }
      ],
      "source": [
        "import numpy as np\n",
        "from tensorflow.keras import optimizers\n",
        "from PIL import Image\n",
        "import tensorflow as tf\n",
        "from tensorflow.keras.models import load_model\n",
        "import numpy as np\n",
        "from tensorflow.keras import optimizers\n",
        "from tensorflow.keras.layers import Input, Lambda, Dense, Flatten\n",
        "from tensorflow.keras.preprocessing import image\n",
        "from tensorflow.keras.preprocessing.image import ImageDataGenerator,load_img\n",
        "from tensorflow.keras.models import Sequential\n",
        "from tensorflow.keras.optimizers import SGD\n",
        "!pip install pyyaml h5py\n",
        "import matplotlib.pyplot as plt\n",
        "!pip install pyyaml h5py\n",
        "from google.colab import drive\n",
        "drive.mount('/content/drive')\n",
        "import os\n",
        "base_dir = '/content/drive/MyDrive/2022dataset 05 2 22'\n",
        "train_dir = os.path.join(base_dir, 'train')\n",
        "validation_dir = os.path.join(base_dir, 'validation')\n",
        "test_dir = os.path.join(base_dir, 'test')\n",
        "train_datagen = ImageDataGenerator(\n",
        "    rescale=1./255)\n",
        "   # rotation_range=40,\n",
        "    #width_shift_range=0.2,\n",
        "    #height_shift_range=0.2,\n",
        "    #shear_range=0.2,\n",
        "    #zoom_range=0.2,\n",
        "    #horizontal_flip=True,\n",
        "    #fill_mode='nearest')\n",
        "\n",
        "test_datagen = ImageDataGenerator(rescale=1./255)\n",
        "\n",
        "train_generator = train_datagen.flow_from_directory(\n",
        "    train_dir,\n",
        "    target_size=(224, 224),\n",
        "    batch_size=40,\n",
        "    class_mode='binary')\n",
        "\n",
        "validation_generator = test_datagen.flow_from_directory(\n",
        "    validation_dir,\n",
        "    target_size=(224, 224),\n",
        "    batch_size=40,\n",
        "    class_mode='binary')\n",
        "modelr8 =load_model('/content/drive/MyDrive/2022dataset 05 2 22/res8.h5')\n",
        "\n",
        "read_re8 = np.load('/content/drive/MyDrive/2022dataset 05 2 22/histore8.npy',allow_pickle='TRUE').item()\n",
        "\n",
        "\n",
        "# Compile the model\n",
        "modelr8.compile(loss='binary_crossentropy',\n",
        "optimizer=optimizers.SGD(lr=0.2e-5),\n",
        "metrics=['acc'])\n",
        "\n",
        "# Train the model\n",
        "histore9 = modelr8.fit_generator(\n",
        "    train_generator,\n",
        "    steps_per_epoch=70,\n",
        "    epochs=15,\n",
        "    validation_data=validation_generator,\n",
        "    validation_steps=len(validation_generator))\n",
        "\n",
        "# Save the model\n",
        "modelr8.save('/content/drive/MyDrive/2022dataset 05 2 22/res9.h5')\n",
        "np.save('/content/drive/MyDrive/2022dataset 05 2 22/histore9', histore9)"
      ]
    },
    {
      "cell_type": "code",
      "execution_count": null,
      "metadata": {
        "colab": {
          "base_uri": "https://localhost:8080/"
        },
        "id": "hhhDIp3-bfx7",
        "outputId": "b9fc2f88-351a-4b05-8953-70a647d40998"
      },
      "outputs": [
        {
          "name": "stdout",
          "output_type": "stream",
          "text": [
            "Looking in indexes: https://pypi.org/simple, https://us-python.pkg.dev/colab-wheels/public/simple/\n",
            "Requirement already satisfied: pyyaml in /usr/local/lib/python3.7/dist-packages (3.13)\n",
            "Requirement already satisfied: h5py in /usr/local/lib/python3.7/dist-packages (3.1.0)\n",
            "Requirement already satisfied: cached-property in /usr/local/lib/python3.7/dist-packages (from h5py) (1.5.2)\n",
            "Requirement already satisfied: numpy>=1.14.5 in /usr/local/lib/python3.7/dist-packages (from h5py) (1.21.6)\n",
            "Looking in indexes: https://pypi.org/simple, https://us-python.pkg.dev/colab-wheels/public/simple/\n",
            "Requirement already satisfied: pyyaml in /usr/local/lib/python3.7/dist-packages (3.13)\n",
            "Requirement already satisfied: h5py in /usr/local/lib/python3.7/dist-packages (3.1.0)\n",
            "Requirement already satisfied: numpy>=1.14.5 in /usr/local/lib/python3.7/dist-packages (from h5py) (1.21.6)\n",
            "Requirement already satisfied: cached-property in /usr/local/lib/python3.7/dist-packages (from h5py) (1.5.2)\n",
            "Drive already mounted at /content/drive; to attempt to forcibly remount, call drive.mount(\"/content/drive\", force_remount=True).\n",
            "Found 34128 images belonging to 2 classes.\n",
            "Found 8726 images belonging to 2 classes.\n"
          ]
        },
        {
          "name": "stderr",
          "output_type": "stream",
          "text": [
            "/usr/local/lib/python3.7/dist-packages/keras/optimizer_v2/gradient_descent.py:102: UserWarning: The `lr` argument is deprecated, use `learning_rate` instead.\n",
            "  super(SGD, self).__init__(name, **kwargs)\n",
            "/usr/local/lib/python3.7/dist-packages/ipykernel_launcher.py:62: UserWarning: `Model.fit_generator` is deprecated and will be removed in a future version. Please use `Model.fit`, which supports generators.\n"
          ]
        },
        {
          "name": "stdout",
          "output_type": "stream",
          "text": [
            "Epoch 1/15\n",
            "70/70 [==============================] - 652s 9s/step - loss: 0.6408 - acc: 0.6457 - val_loss: 0.6427 - val_acc: 0.6371\n",
            "Epoch 2/15\n",
            "70/70 [==============================] - 622s 9s/step - loss: 0.6369 - acc: 0.6402 - val_loss: 0.6430 - val_acc: 0.6412\n",
            "Epoch 3/15\n",
            "70/70 [==============================] - 624s 9s/step - loss: 0.6315 - acc: 0.6754 - val_loss: 0.6433 - val_acc: 0.6421\n",
            "Epoch 4/15\n",
            "70/70 [==============================] - 646s 9s/step - loss: 0.6461 - acc: 0.6396 - val_loss: 0.6429 - val_acc: 0.6412\n",
            "Epoch 5/15\n",
            "70/70 [==============================] - 636s 9s/step - loss: 0.6350 - acc: 0.6618 - val_loss: 0.6425 - val_acc: 0.6376\n",
            "Epoch 6/15\n",
            "70/70 [==============================] - 596s 9s/step - loss: 0.6459 - acc: 0.6364 - val_loss: 0.6425 - val_acc: 0.6379\n",
            "Epoch 7/15\n",
            "70/70 [==============================] - 609s 9s/step - loss: 0.6374 - acc: 0.6546 - val_loss: 0.6424 - val_acc: 0.6372\n",
            "Epoch 8/15\n",
            "70/70 [==============================] - 606s 9s/step - loss: 0.6412 - acc: 0.6461 - val_loss: 0.6429 - val_acc: 0.6433\n",
            "Epoch 9/15\n",
            "70/70 [==============================] - 670s 10s/step - loss: 0.6311 - acc: 0.6639 - val_loss: 0.6438 - val_acc: 0.6427\n",
            "Epoch 10/15\n",
            "70/70 [==============================] - 651s 9s/step - loss: 0.6391 - acc: 0.6651 - val_loss: 0.6425 - val_acc: 0.6411\n",
            "Epoch 11/15\n",
            "70/70 [==============================] - 634s 9s/step - loss: 0.6439 - acc: 0.6439 - val_loss: 0.6423 - val_acc: 0.6386\n",
            "Epoch 12/15\n",
            "70/70 [==============================] - 634s 9s/step - loss: 0.6389 - acc: 0.6432 - val_loss: 0.6425 - val_acc: 0.6419\n",
            "Epoch 13/15\n",
            "70/70 [==============================] - 634s 9s/step - loss: 0.6391 - acc: 0.6400 - val_loss: 0.6422 - val_acc: 0.6350\n",
            "Epoch 14/15\n",
            "70/70 [==============================] - 604s 9s/step - loss: 0.6380 - acc: 0.6416 - val_loss: 0.6422 - val_acc: 0.6384\n",
            "Epoch 15/15\n",
            "70/70 [==============================] - 635s 9s/step - loss: 0.6361 - acc: 0.6668 - val_loss: 0.6422 - val_acc: 0.6405\n",
            "INFO:tensorflow:Assets written to: ram://6cf6df78-5239-48b3-91ee-d9a6ab617297/assets\n"
          ]
        }
      ],
      "source": [
        "import numpy as np\n",
        "from tensorflow.keras import optimizers\n",
        "from PIL import Image\n",
        "import tensorflow as tf\n",
        "from tensorflow.keras.models import load_model\n",
        "import numpy as np\n",
        "from tensorflow.keras import optimizers\n",
        "from tensorflow.keras.layers import Input, Lambda, Dense, Flatten\n",
        "from tensorflow.keras.preprocessing import image\n",
        "from tensorflow.keras.preprocessing.image import ImageDataGenerator,load_img\n",
        "from tensorflow.keras.models import Sequential\n",
        "from tensorflow.keras.optimizers import SGD\n",
        "!pip install pyyaml h5py\n",
        "import matplotlib.pyplot as plt\n",
        "!pip install pyyaml h5py\n",
        "from google.colab import drive\n",
        "drive.mount('/content/drive')\n",
        "import os\n",
        "base_dir = '/content/drive/MyDrive/2022dataset 05 2 22'\n",
        "train_dir = os.path.join(base_dir, 'train')\n",
        "validation_dir = os.path.join(base_dir, 'validation')\n",
        "test_dir = os.path.join(base_dir, 'test')\n",
        "train_datagen = ImageDataGenerator(\n",
        "    rescale=1./255)\n",
        "   # rotation_range=40,\n",
        "    #width_shift_range=0.2,\n",
        "    #height_shift_range=0.2,\n",
        "    #shear_range=0.2,\n",
        "    #zoom_range=0.2,\n",
        "    #horizontal_flip=True,\n",
        "    #fill_mode='nearest')\n",
        "\n",
        "test_datagen = ImageDataGenerator(rescale=1./255)\n",
        "\n",
        "train_generator = train_datagen.flow_from_directory(\n",
        "    train_dir,\n",
        "    target_size=(224, 224),\n",
        "    batch_size=40,\n",
        "    class_mode='binary')\n",
        "\n",
        "validation_generator = test_datagen.flow_from_directory(\n",
        "    validation_dir,\n",
        "    target_size=(224, 224),\n",
        "    batch_size=40,\n",
        "    class_mode='binary')\n",
        "modelr9 =load_model('/content/drive/MyDrive/2022dataset 05 2 22/res9.h5')\n",
        "\n",
        "read_re9 = np.load('/content/drive/MyDrive/2022dataset 05 2 22/histore9.npy',allow_pickle='TRUE').item()\n",
        "\n",
        "\n",
        "# Compile the model\n",
        "modelr9.compile(loss='binary_crossentropy',\n",
        "optimizer=optimizers.SGD(lr=0.2e-5),\n",
        "metrics=['acc'])\n",
        "\n",
        "# Train the model\n",
        "histore10 = modelr9.fit_generator(\n",
        "    train_generator,\n",
        "    steps_per_epoch=70,\n",
        "    epochs=15,\n",
        "    validation_data=validation_generator,\n",
        "    validation_steps=len(validation_generator))\n",
        "\n",
        "# Save the model\n",
        "modelr9.save('/content/drive/MyDrive/2022dataset 05 2 22/res10.h5')\n",
        "np.save('/content/drive/MyDrive/2022dataset 05 2 22/histore10', histore10)"
      ]
    },
    {
      "cell_type": "code",
      "execution_count": null,
      "metadata": {
        "colab": {
          "background_save": true,
          "base_uri": "https://localhost:8080/"
        },
        "id": "tgwJmnHXb9Mi",
        "outputId": "b52d07b0-c586-4013-b1d3-96062b38a772"
      },
      "outputs": [
        {
          "name": "stdout",
          "output_type": "stream",
          "text": [
            "Looking in indexes: https://pypi.org/simple, https://us-python.pkg.dev/colab-wheels/public/simple/\n",
            "Requirement already satisfied: pyyaml in /usr/local/lib/python3.7/dist-packages (3.13)\n",
            "Requirement already satisfied: h5py in /usr/local/lib/python3.7/dist-packages (3.1.0)\n",
            "Requirement already satisfied: numpy>=1.14.5 in /usr/local/lib/python3.7/dist-packages (from h5py) (1.21.6)\n",
            "Requirement already satisfied: cached-property in /usr/local/lib/python3.7/dist-packages (from h5py) (1.5.2)\n",
            "Looking in indexes: https://pypi.org/simple, https://us-python.pkg.dev/colab-wheels/public/simple/\n",
            "Requirement already satisfied: pyyaml in /usr/local/lib/python3.7/dist-packages (3.13)\n",
            "Requirement already satisfied: h5py in /usr/local/lib/python3.7/dist-packages (3.1.0)\n",
            "Requirement already satisfied: cached-property in /usr/local/lib/python3.7/dist-packages (from h5py) (1.5.2)\n",
            "Requirement already satisfied: numpy>=1.14.5 in /usr/local/lib/python3.7/dist-packages (from h5py) (1.21.6)\n",
            "Drive already mounted at /content/drive; to attempt to forcibly remount, call drive.mount(\"/content/drive\", force_remount=True).\n",
            "Found 34128 images belonging to 2 classes.\n",
            "Found 8726 images belonging to 2 classes.\n"
          ]
        },
        {
          "name": "stderr",
          "output_type": "stream",
          "text": [
            "/usr/local/lib/python3.7/dist-packages/keras/optimizer_v2/gradient_descent.py:102: UserWarning: The `lr` argument is deprecated, use `learning_rate` instead.\n",
            "  super(SGD, self).__init__(name, **kwargs)\n",
            "/usr/local/lib/python3.7/dist-packages/ipykernel_launcher.py:62: UserWarning: `Model.fit_generator` is deprecated and will be removed in a future version. Please use `Model.fit`, which supports generators.\n"
          ]
        },
        {
          "name": "stdout",
          "output_type": "stream",
          "text": [
            "Epoch 1/5\n",
            "70/70 [==============================] - 3886s 56s/step - loss: 0.6313 - acc: 0.6589 - val_loss: 0.6438 - val_acc: 0.6439\n",
            "Epoch 2/5\n",
            "70/70 [==============================] - 1338s 19s/step - loss: 0.6456 - acc: 0.6346 - val_loss: 0.6421 - val_acc: 0.6395\n",
            "Epoch 3/5\n",
            "70/70 [==============================] - 1281s 18s/step - loss: 0.6367 - acc: 0.6439 - val_loss: 0.6430 - val_acc: 0.6443\n",
            "Epoch 4/5\n",
            "70/70 [==============================] - 1196s 17s/step - loss: 0.6405 - acc: 0.6539 - val_loss: 0.6426 - val_acc: 0.6438\n",
            "Epoch 5/5\n",
            "70/70 [==============================] - 1122s 16s/step - loss: 0.6340 - acc: 0.6457 - val_loss: 0.6422 - val_acc: 0.6233\n",
            "INFO:tensorflow:Assets written to: ram://d0cd8491-17d9-4ad0-8a0b-2b7646b5e7b6/assets\n"
          ]
        }
      ],
      "source": [
        "import numpy as np\n",
        "from tensorflow.keras import optimizers\n",
        "from PIL import Image\n",
        "import tensorflow as tf\n",
        "from tensorflow.keras.models import load_model\n",
        "import numpy as np\n",
        "from tensorflow.keras import optimizers\n",
        "from tensorflow.keras.layers import Input, Lambda, Dense, Flatten\n",
        "from tensorflow.keras.preprocessing import image\n",
        "from tensorflow.keras.preprocessing.image import ImageDataGenerator,load_img\n",
        "from tensorflow.keras.models import Sequential\n",
        "from tensorflow.keras.optimizers import SGD\n",
        "!pip install pyyaml h5py\n",
        "import matplotlib.pyplot as plt\n",
        "!pip install pyyaml h5py\n",
        "from google.colab import drive\n",
        "drive.mount('/content/drive')\n",
        "import os\n",
        "base_dir = '/content/drive/MyDrive/2022dataset 05 2 22'\n",
        "train_dir = os.path.join(base_dir, 'train')\n",
        "validation_dir = os.path.join(base_dir, 'validation')\n",
        "test_dir = os.path.join(base_dir, 'test')\n",
        "train_datagen = ImageDataGenerator(\n",
        "    rescale=1./255)\n",
        "   # rotation_range=40,\n",
        "    #width_shift_range=0.2,\n",
        "    #height_shift_range=0.2,\n",
        "    #shear_range=0.2,\n",
        "    #zoom_range=0.2,\n",
        "    #horizontal_flip=True,\n",
        "    #fill_mode='nearest')\n",
        "\n",
        "test_datagen = ImageDataGenerator(rescale=1./255)\n",
        "\n",
        "train_generator = train_datagen.flow_from_directory(\n",
        "    train_dir,\n",
        "    target_size=(224, 224),\n",
        "    batch_size=40,\n",
        "    class_mode='binary')\n",
        "\n",
        "validation_generator = test_datagen.flow_from_directory(\n",
        "    validation_dir,\n",
        "    target_size=(224, 224),\n",
        "    batch_size=40,\n",
        "    class_mode='binary')\n",
        "modelr10 =load_model('/content/drive/MyDrive/2022dataset 05 2 22/res10.h5')\n",
        "\n",
        "read_re10 = np.load('/content/drive/MyDrive/2022dataset 05 2 22/histore10.npy',allow_pickle='TRUE').item()\n",
        "\n",
        "\n",
        "# Compile the model\n",
        "modelr10.compile(loss='binary_crossentropy',\n",
        "optimizer=optimizers.SGD(lr=0.2e-5),\n",
        "metrics=['acc'])\n",
        "\n",
        "# Train the model\n",
        "histore11 = modelr10.fit_generator(\n",
        "    train_generator,\n",
        "    steps_per_epoch=70,\n",
        "    epochs=5,\n",
        "    validation_data=validation_generator,\n",
        "    validation_steps=len(validation_generator))\n",
        "\n",
        "# Save the model\n",
        "modelr10.save('/content/drive/MyDrive/2022dataset 05 2 22/res11.h5')\n",
        "np.save('/content/drive/MyDrive/2022dataset 05 2 22/histore11', histore11)"
      ]
    },
    {
      "cell_type": "code",
      "execution_count": null,
      "metadata": {
        "id": "oakTB4lNcLwJ",
        "colab": {
          "base_uri": "https://localhost:8080/"
        },
        "outputId": "94a8c37c-afb9-49ab-d5d5-4a32b0ce6c74"
      },
      "outputs": [
        {
          "metadata": {
            "tags": null
          },
          "name": "stdout",
          "output_type": "stream",
          "text": [
            "Looking in indexes: https://pypi.org/simple, https://us-python.pkg.dev/colab-wheels/public/simple/\n",
            "Requirement already satisfied: pyyaml in /usr/local/lib/python3.7/dist-packages (3.13)\n",
            "Requirement already satisfied: h5py in /usr/local/lib/python3.7/dist-packages (3.1.0)\n",
            "Requirement already satisfied: numpy>=1.14.5 in /usr/local/lib/python3.7/dist-packages (from h5py) (1.21.6)\n",
            "Requirement already satisfied: cached-property in /usr/local/lib/python3.7/dist-packages (from h5py) (1.5.2)\n",
            "Looking in indexes: https://pypi.org/simple, https://us-python.pkg.dev/colab-wheels/public/simple/\n",
            "Requirement already satisfied: pyyaml in /usr/local/lib/python3.7/dist-packages (3.13)\n",
            "Requirement already satisfied: h5py in /usr/local/lib/python3.7/dist-packages (3.1.0)\n",
            "Requirement already satisfied: cached-property in /usr/local/lib/python3.7/dist-packages (from h5py) (1.5.2)\n",
            "Requirement already satisfied: numpy>=1.14.5 in /usr/local/lib/python3.7/dist-packages (from h5py) (1.21.6)\n",
            "Drive already mounted at /content/drive; to attempt to forcibly remount, call drive.mount(\"/content/drive\", force_remount=True).\n",
            "Found 34128 images belonging to 2 classes.\n",
            "Found 8726 images belonging to 2 classes.\n"
          ]
        },
        {
          "metadata": {
            "tags": null
          },
          "name": "stderr",
          "output_type": "stream",
          "text": [
            "/usr/local/lib/python3.7/dist-packages/keras/optimizer_v2/gradient_descent.py:102: UserWarning: The `lr` argument is deprecated, use `learning_rate` instead.\n",
            "  super(SGD, self).__init__(name, **kwargs)\n",
            "/usr/local/lib/python3.7/dist-packages/ipykernel_launcher.py:62: UserWarning: `Model.fit_generator` is deprecated and will be removed in a future version. Please use `Model.fit`, which supports generators.\n"
          ]
        },
        {
          "output_type": "stream",
          "name": "stdout",
          "text": [
            "Epoch 1/20\n",
            "70/70 [==============================] - 3813s 55s/step - loss: 0.6365 - acc: 0.6443 - val_loss: 0.6419 - val_acc: 0.6301\n",
            "Epoch 2/20\n",
            "70/70 [==============================] - 883s 13s/step - loss: 0.6395 - acc: 0.6371 - val_loss: 0.6422 - val_acc: 0.6439\n",
            "Epoch 3/20\n",
            "70/70 [==============================] - 849s 12s/step - loss: 0.6403 - acc: 0.6489 - val_loss: 0.6422 - val_acc: 0.6429\n",
            "Epoch 4/20\n",
            "70/70 [==============================] - 835s 12s/step - loss: 0.6379 - acc: 0.6525 - val_loss: 0.6417 - val_acc: 0.6387\n",
            "Epoch 5/20\n",
            "70/70 [==============================] - 814s 12s/step - loss: 0.6316 - acc: 0.6575 - val_loss: 0.6418 - val_acc: 0.6405\n",
            "Epoch 6/20\n",
            "70/70 [==============================] - 780s 11s/step - loss: 0.6429 - acc: 0.6511 - val_loss: 0.6422 - val_acc: 0.6439\n",
            "Epoch 7/20\n",
            "70/70 [==============================] - 771s 11s/step - loss: 0.6382 - acc: 0.6507 - val_loss: 0.6420 - val_acc: 0.6430\n",
            "Epoch 8/20\n",
            "70/70 [==============================] - 818s 12s/step - loss: 0.6460 - acc: 0.6404 - val_loss: 0.6417 - val_acc: 0.6416\n",
            "Epoch 9/20\n",
            "70/70 [==============================] - 798s 12s/step - loss: 0.6396 - acc: 0.6395 - val_loss: 0.6417 - val_acc: 0.6422\n",
            "Epoch 10/20\n",
            "70/70 [==============================] - 787s 11s/step - loss: 0.6414 - acc: 0.6471 - val_loss: 0.6418 - val_acc: 0.6444\n",
            "Epoch 11/20\n",
            "70/70 [==============================] - 779s 11s/step - loss: 0.6368 - acc: 0.6510 - val_loss: 0.6420 - val_acc: 0.6434\n",
            "Epoch 12/20\n",
            "70/70 [==============================] - 756s 11s/step - loss: 0.6387 - acc: 0.6532 - val_loss: 0.6419 - val_acc: 0.6430\n",
            "Epoch 13/20\n",
            "70/70 [==============================] - 754s 11s/step - loss: 0.6329 - acc: 0.6561 - val_loss: 0.6428 - val_acc: 0.6453\n",
            "Epoch 14/20\n",
            "70/70 [==============================] - 734s 11s/step - loss: 0.6364 - acc: 0.6525 - val_loss: 0.6414 - val_acc: 0.6405\n",
            "Epoch 15/20\n",
            "70/70 [==============================] - 708s 10s/step - loss: 0.6396 - acc: 0.6525 - val_loss: 0.6419 - val_acc: 0.6444\n",
            "Epoch 16/20\n",
            "70/70 [==============================] - 705s 10s/step - loss: 0.6328 - acc: 0.6550 - val_loss: 0.6416 - val_acc: 0.6436\n",
            "Epoch 17/20\n",
            "70/70 [==============================] - 699s 10s/step - loss: 0.6331 - acc: 0.6571 - val_loss: 0.6412 - val_acc: 0.6392\n",
            "Epoch 18/20\n",
            "70/70 [==============================] - 711s 10s/step - loss: 0.6322 - acc: 0.6596 - val_loss: 0.6412 - val_acc: 0.6407\n",
            "Epoch 19/20\n",
            "70/70 [==============================] - 672s 10s/step - loss: 0.6299 - acc: 0.6596 - val_loss: 0.6414 - val_acc: 0.6434\n",
            "Epoch 20/20\n",
            "70/70 [==============================] - 671s 10s/step - loss: 0.6439 - acc: 0.6411 - val_loss: 0.6418 - val_acc: 0.6452\n",
            "INFO:tensorflow:Assets written to: ram://d4de3ec5-ad86-4328-8b54-7416041fc9d2/assets\n"
          ]
        }
      ],
      "source": [
        "import numpy as np\n",
        "from tensorflow.keras import optimizers\n",
        "from PIL import Image\n",
        "import tensorflow as tf\n",
        "from tensorflow.keras.models import load_model\n",
        "import numpy as np\n",
        "from tensorflow.keras import optimizers\n",
        "from tensorflow.keras.layers import Input, Lambda, Dense, Flatten\n",
        "from tensorflow.keras.preprocessing import image\n",
        "from tensorflow.keras.preprocessing.image import ImageDataGenerator,load_img\n",
        "from tensorflow.keras.models import Sequential\n",
        "from tensorflow.keras.optimizers import SGD\n",
        "!pip install pyyaml h5py\n",
        "import matplotlib.pyplot as plt\n",
        "!pip install pyyaml h5py\n",
        "from google.colab import drive\n",
        "drive.mount('/content/drive')\n",
        "import os\n",
        "base_dir = '/content/drive/MyDrive/2022dataset 05 2 22'\n",
        "train_dir = os.path.join(base_dir, 'train')\n",
        "validation_dir = os.path.join(base_dir, 'validation')\n",
        "test_dir = os.path.join(base_dir, 'test')\n",
        "train_datagen = ImageDataGenerator(\n",
        "    rescale=1./255)\n",
        "   # rotation_range=40,\n",
        "    #width_shift_range=0.2,\n",
        "    #height_shift_range=0.2,\n",
        "    #shear_range=0.2,\n",
        "    #zoom_range=0.2,\n",
        "    #horizontal_flip=True,\n",
        "    #fill_mode='nearest')\n",
        "\n",
        "test_datagen = ImageDataGenerator(rescale=1./255)\n",
        "\n",
        "train_generator = train_datagen.flow_from_directory(\n",
        "    train_dir,\n",
        "    target_size=(224, 224),\n",
        "    batch_size=40,\n",
        "    class_mode='binary')\n",
        "\n",
        "validation_generator = test_datagen.flow_from_directory(\n",
        "    validation_dir,\n",
        "    target_size=(224, 224),\n",
        "    batch_size=40,\n",
        "    class_mode='binary')\n",
        "modelr11 =load_model('/content/drive/MyDrive/2022dataset 05 2 22/res11.h5')\n",
        "\n",
        "read_re11 = np.load('/content/drive/MyDrive/2022dataset 05 2 22/histore11.npy',allow_pickle='TRUE').item()\n",
        "\n",
        "\n",
        "# Compile the model\n",
        "modelr11.compile(loss='binary_crossentropy',\n",
        "optimizer=optimizers.SGD(lr=0.2e-5),\n",
        "metrics=['acc'])\n",
        "\n",
        "# Train the model\n",
        "histore12 = modelr11.fit_generator(\n",
        "    train_generator,\n",
        "    steps_per_epoch=70,\n",
        "    epochs=20,\n",
        "    validation_data=validation_generator,\n",
        "    validation_steps=len(validation_generator))\n",
        "\n",
        "# Save the model\n",
        "modelr11.save('/content/drive/MyDrive/2022dataset 05 2 22/res12.h5')\n",
        "np.save('/content/drive/MyDrive/2022dataset 05 2 22/histore12.npy', histore12)"
      ]
    },
    {
      "cell_type": "code",
      "execution_count": null,
      "metadata": {
        "id": "l7qh1Cj6caaa",
        "colab": {
          "base_uri": "https://localhost:8080/"
        },
        "outputId": "4378514b-4d3e-4f43-8e5c-d65348aecdb5"
      },
      "outputs": [
        {
          "metadata": {
            "tags": null
          },
          "name": "stdout",
          "output_type": "stream",
          "text": [
            "Looking in indexes: https://pypi.org/simple, https://us-python.pkg.dev/colab-wheels/public/simple/\n",
            "Requirement already satisfied: pyyaml in /usr/local/lib/python3.7/dist-packages (3.13)\n",
            "Requirement already satisfied: h5py in /usr/local/lib/python3.7/dist-packages (3.1.0)\n",
            "Requirement already satisfied: cached-property in /usr/local/lib/python3.7/dist-packages (from h5py) (1.5.2)\n",
            "Requirement already satisfied: numpy>=1.14.5 in /usr/local/lib/python3.7/dist-packages (from h5py) (1.21.6)\n",
            "Looking in indexes: https://pypi.org/simple, https://us-python.pkg.dev/colab-wheels/public/simple/\n",
            "Requirement already satisfied: pyyaml in /usr/local/lib/python3.7/dist-packages (3.13)\n",
            "Requirement already satisfied: h5py in /usr/local/lib/python3.7/dist-packages (3.1.0)\n",
            "Requirement already satisfied: cached-property in /usr/local/lib/python3.7/dist-packages (from h5py) (1.5.2)\n",
            "Requirement already satisfied: numpy>=1.14.5 in /usr/local/lib/python3.7/dist-packages (from h5py) (1.21.6)\n",
            "Drive already mounted at /content/drive; to attempt to forcibly remount, call drive.mount(\"/content/drive\", force_remount=True).\n",
            "Found 34128 images belonging to 2 classes.\n",
            "Found 8726 images belonging to 2 classes.\n"
          ]
        },
        {
          "metadata": {
            "tags": null
          },
          "name": "stderr",
          "output_type": "stream",
          "text": [
            "/usr/local/lib/python3.7/dist-packages/keras/optimizer_v2/gradient_descent.py:102: UserWarning: The `lr` argument is deprecated, use `learning_rate` instead.\n",
            "  super(SGD, self).__init__(name, **kwargs)\n",
            "/usr/local/lib/python3.7/dist-packages/ipykernel_launcher.py:62: UserWarning: `Model.fit_generator` is deprecated and will be removed in a future version. Please use `Model.fit`, which supports generators.\n"
          ]
        },
        {
          "output_type": "stream",
          "name": "stdout",
          "text": [
            "Epoch 1/20\n",
            "70/70 [==============================] - 3080s 45s/step - loss: 0.6352 - acc: 0.6597 - val_loss: 0.6416 - val_acc: 0.6441\n",
            "Epoch 2/20\n",
            "70/70 [==============================] - 874s 13s/step - loss: 0.6350 - acc: 0.6621 - val_loss: 0.6412 - val_acc: 0.6437\n",
            "Epoch 3/20\n",
            "70/70 [==============================] - 886s 13s/step - loss: 0.6314 - acc: 0.6604 - val_loss: 0.6412 - val_acc: 0.6438\n",
            "Epoch 4/20\n",
            "70/70 [==============================] - 864s 12s/step - loss: 0.6413 - acc: 0.6471 - val_loss: 0.6418 - val_acc: 0.6467\n",
            "Epoch 5/20\n",
            "70/70 [==============================] - 801s 12s/step - loss: 0.6343 - acc: 0.6593 - val_loss: 0.6413 - val_acc: 0.6437\n",
            "Epoch 6/20\n",
            "70/70 [==============================] - 789s 11s/step - loss: 0.6426 - acc: 0.6382 - val_loss: 0.6412 - val_acc: 0.6441\n",
            "Epoch 7/20\n",
            "70/70 [==============================] - 791s 11s/step - loss: 0.6307 - acc: 0.6700 - val_loss: 0.6418 - val_acc: 0.6457\n",
            "Epoch 8/20\n",
            "70/70 [==============================] - 795s 11s/step - loss: 0.6350 - acc: 0.6457 - val_loss: 0.6415 - val_acc: 0.6457\n",
            "Epoch 9/20\n",
            "70/70 [==============================] - 744s 11s/step - loss: 0.6416 - acc: 0.6539 - val_loss: 0.6408 - val_acc: 0.6421\n",
            "Epoch 10/20\n",
            "70/70 [==============================] - 789s 11s/step - loss: 0.6408 - acc: 0.6539 - val_loss: 0.6417 - val_acc: 0.6462\n",
            "Epoch 11/20\n",
            "70/70 [==============================] - 764s 11s/step - loss: 0.6400 - acc: 0.6607 - val_loss: 0.6417 - val_acc: 0.6468\n",
            "Epoch 12/20\n",
            "70/70 [==============================] - 768s 11s/step - loss: 0.6410 - acc: 0.6471 - val_loss: 0.6415 - val_acc: 0.6455\n",
            "Epoch 13/20\n",
            "70/70 [==============================] - 732s 11s/step - loss: 0.6323 - acc: 0.6554 - val_loss: 0.6406 - val_acc: 0.6415\n",
            "Epoch 14/20\n",
            "70/70 [==============================] - 739s 11s/step - loss: 0.6420 - acc: 0.6468 - val_loss: 0.6413 - val_acc: 0.6466\n",
            "Epoch 15/20\n",
            "70/70 [==============================] - 746s 11s/step - loss: 0.6453 - acc: 0.6561 - val_loss: 0.6424 - val_acc: 0.6496\n",
            "Epoch 16/20\n",
            "70/70 [==============================] - 712s 10s/step - loss: 0.6408 - acc: 0.6532 - val_loss: 0.6406 - val_acc: 0.6436\n",
            "Epoch 17/20\n",
            "70/70 [==============================] - 726s 10s/step - loss: 0.6411 - acc: 0.6467 - val_loss: 0.6405 - val_acc: 0.6436\n",
            "Epoch 18/20\n",
            "70/70 [==============================] - 717s 10s/step - loss: 0.6400 - acc: 0.6439 - val_loss: 0.6407 - val_acc: 0.6290\n",
            "Epoch 19/20\n",
            "70/70 [==============================] - 656s 9s/step - loss: 0.6312 - acc: 0.6550 - val_loss: 0.6403 - val_acc: 0.6350\n",
            "Epoch 20/20\n",
            "70/70 [==============================] - 649s 9s/step - loss: 0.6322 - acc: 0.6586 - val_loss: 0.6406 - val_acc: 0.6454\n",
            "INFO:tensorflow:Assets written to: ram://186bd8eb-155e-4258-aaad-60d63cf536c1/assets\n"
          ]
        }
      ],
      "source": [
        "import numpy as np\n",
        "from tensorflow.keras import optimizers\n",
        "from PIL import Image\n",
        "import tensorflow as tf\n",
        "from tensorflow.keras.models import load_model\n",
        "import numpy as np\n",
        "from tensorflow.keras import optimizers\n",
        "from tensorflow.keras.layers import Input, Lambda, Dense, Flatten\n",
        "from tensorflow.keras.preprocessing import image\n",
        "from tensorflow.keras.preprocessing.image import ImageDataGenerator,load_img\n",
        "from tensorflow.keras.models import Sequential\n",
        "from tensorflow.keras.optimizers import SGD\n",
        "!pip install pyyaml h5py\n",
        "import matplotlib.pyplot as plt\n",
        "!pip install pyyaml h5py\n",
        "from google.colab import drive\n",
        "drive.mount('/content/drive')\n",
        "import os\n",
        "base_dir = '/content/drive/MyDrive/2022dataset 05 2 22'\n",
        "train_dir = os.path.join(base_dir, 'train')\n",
        "validation_dir = os.path.join(base_dir, 'validation')\n",
        "test_dir = os.path.join(base_dir, 'test')\n",
        "train_datagen = ImageDataGenerator(\n",
        "    rescale=1./255)\n",
        "   # rotation_range=40,\n",
        "    #width_shift_range=0.2,\n",
        "    #height_shift_range=0.2,\n",
        "    #shear_range=0.2,\n",
        "    #zoom_range=0.2,\n",
        "    #horizontal_flip=True,\n",
        "    #fill_mode='nearest')\n",
        "\n",
        "test_datagen = ImageDataGenerator(rescale=1./255)\n",
        "\n",
        "train_generator = train_datagen.flow_from_directory(\n",
        "    train_dir,\n",
        "    target_size=(224, 224),\n",
        "    batch_size=40,\n",
        "    class_mode='binary')\n",
        "\n",
        "validation_generator = test_datagen.flow_from_directory(\n",
        "    validation_dir,\n",
        "    target_size=(224, 224),\n",
        "    batch_size=40,\n",
        "    class_mode='binary')\n",
        "modelr12 =load_model('/content/drive/MyDrive/2022dataset 05 2 22/res12.h5')\n",
        "\n",
        "read_re12 = np.load('/content/drive/MyDrive/2022dataset 05 2 22/histore12.npy',allow_pickle='TRUE').item()\n",
        "\n",
        "\n",
        "# Compile the model\n",
        "modelr12.compile(loss='binary_crossentropy',\n",
        "optimizer=optimizers.SGD(lr=0.2e-5),\n",
        "metrics=['acc'])\n",
        "\n",
        "# Train the model\n",
        "histore13 = modelr12.fit_generator(\n",
        "    train_generator,\n",
        "    steps_per_epoch=70,\n",
        "    epochs=20,\n",
        "    validation_data=validation_generator,\n",
        "    validation_steps=len(validation_generator))\n",
        "\n",
        "# Save the model\n",
        "modelr12.save('/content/drive/MyDrive/2022dataset 05 2 22/res13.h5')\n",
        "np.save('/content/drive/MyDrive/2022dataset 05 2 22/histore13.npy', histore13)"
      ]
    },
    {
      "cell_type": "code",
      "execution_count": null,
      "metadata": {
        "id": "gbSfKzcgcpBj",
        "colab": {
          "base_uri": "https://localhost:8080/"
        },
        "outputId": "dbdb3c41-a8b8-4cac-830f-39d1b56c25be"
      },
      "outputs": [
        {
          "metadata": {
            "tags": null
          },
          "name": "stdout",
          "output_type": "stream",
          "text": [
            "Looking in indexes: https://pypi.org/simple, https://us-python.pkg.dev/colab-wheels/public/simple/\n",
            "Requirement already satisfied: pyyaml in /usr/local/lib/python3.7/dist-packages (3.13)\n",
            "Requirement already satisfied: h5py in /usr/local/lib/python3.7/dist-packages (3.1.0)\n",
            "Requirement already satisfied: numpy>=1.14.5 in /usr/local/lib/python3.7/dist-packages (from h5py) (1.21.6)\n",
            "Requirement already satisfied: cached-property in /usr/local/lib/python3.7/dist-packages (from h5py) (1.5.2)\n",
            "Looking in indexes: https://pypi.org/simple, https://us-python.pkg.dev/colab-wheels/public/simple/\n",
            "Requirement already satisfied: pyyaml in /usr/local/lib/python3.7/dist-packages (3.13)\n",
            "Requirement already satisfied: h5py in /usr/local/lib/python3.7/dist-packages (3.1.0)\n",
            "Requirement already satisfied: cached-property in /usr/local/lib/python3.7/dist-packages (from h5py) (1.5.2)\n",
            "Requirement already satisfied: numpy>=1.14.5 in /usr/local/lib/python3.7/dist-packages (from h5py) (1.21.6)\n",
            "Drive already mounted at /content/drive; to attempt to forcibly remount, call drive.mount(\"/content/drive\", force_remount=True).\n",
            "Found 34128 images belonging to 2 classes.\n",
            "Found 8726 images belonging to 2 classes.\n"
          ]
        },
        {
          "metadata": {
            "tags": null
          },
          "name": "stderr",
          "output_type": "stream",
          "text": [
            "/usr/local/lib/python3.7/dist-packages/keras/optimizer_v2/gradient_descent.py:102: UserWarning: The `lr` argument is deprecated, use `learning_rate` instead.\n",
            "  super(SGD, self).__init__(name, **kwargs)\n",
            "/usr/local/lib/python3.7/dist-packages/ipykernel_launcher.py:62: UserWarning: `Model.fit_generator` is deprecated and will be removed in a future version. Please use `Model.fit`, which supports generators.\n"
          ]
        },
        {
          "output_type": "stream",
          "name": "stdout",
          "text": [
            "Epoch 1/10\n",
            "70/70 [==============================] - 649s 9s/step - loss: 0.6370 - acc: 0.6543 - val_loss: 0.6404 - val_acc: 0.6319\n",
            "Epoch 2/10\n",
            "70/70 [==============================] - 627s 9s/step - loss: 0.6248 - acc: 0.6657 - val_loss: 0.6402 - val_acc: 0.6410\n",
            "Epoch 3/10\n",
            "70/70 [==============================] - 656s 9s/step - loss: 0.6355 - acc: 0.6429 - val_loss: 0.6403 - val_acc: 0.6444\n",
            "Epoch 4/10\n",
            "70/70 [==============================] - 669s 10s/step - loss: 0.6369 - acc: 0.6443 - val_loss: 0.6401 - val_acc: 0.6380\n",
            "Epoch 5/10\n",
            "70/70 [==============================] - 666s 10s/step - loss: 0.6309 - acc: 0.6589 - val_loss: 0.6419 - val_acc: 0.6499\n",
            "Epoch 6/10\n",
            "70/70 [==============================] - 639s 9s/step - loss: 0.6279 - acc: 0.6745 - val_loss: 0.6410 - val_acc: 0.6478\n",
            "Epoch 7/10\n",
            "70/70 [==============================] - 639s 9s/step - loss: 0.6358 - acc: 0.6557 - val_loss: 0.6403 - val_acc: 0.6451\n",
            "Epoch 8/10\n",
            "70/70 [==============================] - 647s 9s/step - loss: 0.6412 - acc: 0.6457 - val_loss: 0.6407 - val_acc: 0.6466\n",
            "Epoch 9/10\n",
            "70/70 [==============================] - 636s 9s/step - loss: 0.6375 - acc: 0.6543 - val_loss: 0.6404 - val_acc: 0.6470\n",
            "Epoch 10/10\n",
            "70/70 [==============================] - 584s 8s/step - loss: 0.6351 - acc: 0.6514 - val_loss: 0.6400 - val_acc: 0.6433\n",
            "INFO:tensorflow:Assets written to: ram://51b250ba-69e1-4fbf-91c5-671c98388690/assets\n"
          ]
        }
      ],
      "source": [
        "import numpy as np\n",
        "from tensorflow.keras import optimizers\n",
        "from PIL import Image\n",
        "import tensorflow as tf\n",
        "from tensorflow.keras.models import load_model\n",
        "import numpy as np\n",
        "from tensorflow.keras import optimizers\n",
        "from tensorflow.keras.layers import Input, Lambda, Dense, Flatten\n",
        "from tensorflow.keras.preprocessing import image\n",
        "from tensorflow.keras.preprocessing.image import ImageDataGenerator,load_img\n",
        "from tensorflow.keras.models import Sequential\n",
        "from tensorflow.keras.optimizers import SGD\n",
        "!pip install pyyaml h5py\n",
        "import matplotlib.pyplot as plt\n",
        "!pip install pyyaml h5py\n",
        "from google.colab import drive\n",
        "drive.mount('/content/drive')\n",
        "import os\n",
        "base_dir = '/content/drive/MyDrive/2022dataset 05 2 22'\n",
        "train_dir = os.path.join(base_dir, 'train')\n",
        "validation_dir = os.path.join(base_dir, 'validation')\n",
        "test_dir = os.path.join(base_dir, 'test')\n",
        "train_datagen = ImageDataGenerator(\n",
        "    rescale=1./255)\n",
        "   # rotation_range=40,\n",
        "    #width_shift_range=0.2,\n",
        "    #height_shift_range=0.2,\n",
        "    #shear_range=0.2,\n",
        "    #zoom_range=0.2,\n",
        "    #horizontal_flip=True,\n",
        "    #fill_mode='nearest')\n",
        "\n",
        "test_datagen = ImageDataGenerator(rescale=1./255)\n",
        "\n",
        "train_generator = train_datagen.flow_from_directory(\n",
        "    train_dir,\n",
        "    target_size=(224, 224),\n",
        "    batch_size=40,\n",
        "    class_mode='binary')\n",
        "\n",
        "validation_generator = test_datagen.flow_from_directory(\n",
        "    validation_dir,\n",
        "    target_size=(224, 224),\n",
        "    batch_size=40,\n",
        "    class_mode='binary')\n",
        "modelr13 =load_model('/content/drive/MyDrive/2022dataset 05 2 22/res13.h5')\n",
        "\n",
        "read_re13 = np.load('/content/drive/MyDrive/2022dataset 05 2 22/histore13.npy',allow_pickle='TRUE').item()\n",
        "\n",
        "\n",
        "# Compile the model\n",
        "modelr13.compile(loss='binary_crossentropy',\n",
        "optimizer=optimizers.SGD(lr=0.2e-5),\n",
        "metrics=['acc'])\n",
        "\n",
        "# Train the model\n",
        "histore14 = modelr13.fit_generator(\n",
        "    train_generator,\n",
        "    steps_per_epoch=70,\n",
        "    epochs=10,\n",
        "    validation_data=validation_generator,\n",
        "    validation_steps=len(validation_generator))\n",
        "\n",
        "# Save the model\n",
        "modelr13.save('/content/drive/MyDrive/2022dataset 05 2 22/res14.h5')\n",
        "np.save('/content/drive/MyDrive/2022dataset 05 2 22/histore14.npy', histore14)"
      ]
    },
    {
      "cell_type": "code",
      "execution_count": null,
      "metadata": {
        "id": "DWM6RqrKdGYF"
      },
      "outputs": [],
      "source": []
    },
    {
      "cell_type": "code",
      "execution_count": null,
      "metadata": {
        "id": "lo-n500WdVDZ"
      },
      "outputs": [],
      "source": []
    },
    {
      "cell_type": "code",
      "execution_count": null,
      "metadata": {
        "id": "j26YSyPMdyVS"
      },
      "outputs": [],
      "source": []
    },
    {
      "cell_type": "code",
      "execution_count": null,
      "metadata": {
        "id": "jxqUh9QseA-Q"
      },
      "outputs": [],
      "source": []
    },
    {
      "cell_type": "code",
      "execution_count": null,
      "metadata": {
        "id": "vs9OOxxIe7ir"
      },
      "outputs": [],
      "source": []
    },
    {
      "cell_type": "code",
      "execution_count": null,
      "metadata": {
        "id": "cRB-cUKzfKNW"
      },
      "outputs": [],
      "source": []
    },
    {
      "cell_type": "code",
      "execution_count": null,
      "metadata": {
        "id": "eKJK3lJdfnfj"
      },
      "outputs": [],
      "source": []
    },
    {
      "cell_type": "code",
      "execution_count": null,
      "metadata": {
        "id": "ScRyPIv4f2JA"
      },
      "outputs": [],
      "source": []
    },
    {
      "cell_type": "code",
      "execution_count": null,
      "metadata": {
        "id": "x88jjTRTgws2"
      },
      "outputs": [],
      "source": []
    },
    {
      "cell_type": "code",
      "execution_count": null,
      "metadata": {
        "id": "Iphp903ug_XC"
      },
      "outputs": [],
      "source": []
    },
    {
      "cell_type": "code",
      "execution_count": null,
      "metadata": {
        "id": "ZYxZh1PphOCW"
      },
      "outputs": [],
      "source": []
    },
    {
      "cell_type": "code",
      "execution_count": null,
      "metadata": {
        "id": "GhmmyuWfhrVo"
      },
      "outputs": [],
      "source": []
    },
    {
      "cell_type": "code",
      "execution_count": null,
      "metadata": {
        "id": "nDJveAmciXRO"
      },
      "outputs": [],
      "source": []
    },
    {
      "cell_type": "code",
      "execution_count": null,
      "metadata": {
        "id": "Jl_RkPSuil9v"
      },
      "outputs": [],
      "source": []
    },
    {
      "cell_type": "code",
      "execution_count": null,
      "metadata": {
        "id": "oXMFpcGbjDPG"
      },
      "outputs": [],
      "source": []
    },
    {
      "cell_type": "code",
      "execution_count": null,
      "metadata": {
        "id": "4aZF61_wjR37"
      },
      "outputs": [],
      "source": []
    },
    {
      "cell_type": "code",
      "execution_count": null,
      "metadata": {
        "id": "Ub-ICh7Ljgh7"
      },
      "outputs": [],
      "source": []
    },
    {
      "cell_type": "code",
      "execution_count": null,
      "metadata": {
        "id": "cmCdgQ77kMb-"
      },
      "outputs": [],
      "source": []
    },
    {
      "cell_type": "code",
      "execution_count": null,
      "metadata": {
        "id": "k9jjqdHwkbLQ"
      },
      "outputs": [],
      "source": []
    },
    {
      "cell_type": "code",
      "execution_count": null,
      "metadata": {
        "id": "SHUMK3z1kpx1"
      },
      "outputs": [],
      "source": []
    },
    {
      "cell_type": "code",
      "execution_count": null,
      "metadata": {
        "id": "bhvd7yiRlHBK"
      },
      "outputs": [],
      "source": []
    },
    {
      "cell_type": "code",
      "execution_count": null,
      "metadata": {
        "id": "b9a_TO7MlVrg"
      },
      "outputs": [],
      "source": []
    },
    {
      "cell_type": "code",
      "execution_count": null,
      "metadata": {
        "id": "37OkUyLBlkWk"
      },
      "outputs": [],
      "source": []
    },
    {
      "cell_type": "code",
      "execution_count": null,
      "metadata": {
        "id": "U7CJgNmvly9T"
      },
      "outputs": [],
      "source": []
    },
    {
      "cell_type": "code",
      "execution_count": null,
      "metadata": {
        "id": "xQOzEuROmBm3"
      },
      "outputs": [],
      "source": []
    },
    {
      "cell_type": "code",
      "execution_count": null,
      "metadata": {
        "id": "h4NvIRzCmQP0"
      },
      "outputs": [],
      "source": []
    },
    {
      "cell_type": "code",
      "execution_count": null,
      "metadata": {
        "id": "qyDCEVPqme7l"
      },
      "outputs": [],
      "source": []
    },
    {
      "cell_type": "code",
      "execution_count": null,
      "metadata": {
        "id": "8Y76FomSmtlG"
      },
      "outputs": [],
      "source": []
    },
    {
      "cell_type": "code",
      "execution_count": null,
      "metadata": {
        "id": "hsr9pPh-nK5k"
      },
      "outputs": [],
      "source": []
    },
    {
      "cell_type": "code",
      "execution_count": null,
      "metadata": {
        "id": "9PIVzYmYnZlJ"
      },
      "outputs": [],
      "source": []
    },
    {
      "cell_type": "code",
      "execution_count": null,
      "metadata": {
        "id": "KaZ1EqRcnoPD"
      },
      "outputs": [],
      "source": []
    },
    {
      "cell_type": "code",
      "execution_count": null,
      "metadata": {
        "id": "YgQnhCEpoFfR"
      },
      "outputs": [],
      "source": []
    },
    {
      "cell_type": "code",
      "execution_count": null,
      "metadata": {
        "id": "qzl9eGdboiyB"
      },
      "outputs": [],
      "source": []
    },
    {
      "cell_type": "code",
      "execution_count": null,
      "metadata": {
        "id": "FkFuKdceoxar"
      },
      "outputs": [],
      "source": []
    },
    {
      "cell_type": "code",
      "execution_count": null,
      "metadata": {
        "id": "7B1r_ayspOv5"
      },
      "outputs": [],
      "source": []
    },
    {
      "cell_type": "code",
      "execution_count": null,
      "metadata": {
        "id": "ovuCiAclpdbQ"
      },
      "outputs": [],
      "source": []
    },
    {
      "cell_type": "code",
      "execution_count": null,
      "metadata": {
        "id": "yaiD5uYOpsCx"
      },
      "outputs": [],
      "source": []
    },
    {
      "cell_type": "code",
      "execution_count": null,
      "metadata": {
        "id": "2y8ZkRumqJU1"
      },
      "outputs": [],
      "source": []
    },
    {
      "cell_type": "code",
      "execution_count": null,
      "metadata": {
        "id": "VA8OMptFqYAt"
      },
      "outputs": [],
      "source": []
    },
    {
      "cell_type": "code",
      "execution_count": null,
      "metadata": {
        "id": "_FgC-_nFqmqs"
      },
      "outputs": [],
      "source": []
    },
    {
      "cell_type": "code",
      "execution_count": null,
      "metadata": {
        "id": "d4inix4pq1RY"
      },
      "outputs": [],
      "source": []
    },
    {
      "cell_type": "code",
      "execution_count": null,
      "metadata": {
        "id": "jvNIIQXztHzS"
      },
      "outputs": [],
      "source": []
    },
    {
      "cell_type": "code",
      "execution_count": null,
      "metadata": {
        "id": "YvY-6Y_Fv3f3"
      },
      "outputs": [],
      "source": []
    },
    {
      "cell_type": "code",
      "execution_count": null,
      "metadata": {
        "id": "i9tW66QqwXyP"
      },
      "outputs": [],
      "source": []
    },
    {
      "cell_type": "code",
      "execution_count": null,
      "metadata": {
        "id": "yR9s9NB6xPbK"
      },
      "outputs": [],
      "source": []
    },
    {
      "cell_type": "code",
      "execution_count": null,
      "metadata": {
        "id": "7J7Rj2fKxeBz"
      },
      "outputs": [],
      "source": []
    },
    {
      "cell_type": "code",
      "execution_count": null,
      "metadata": {
        "id": "-PyxUR6Xxsrc"
      },
      "outputs": [],
      "source": []
    },
    {
      "cell_type": "code",
      "execution_count": null,
      "metadata": {
        "id": "aybDlWG0x7Wo"
      },
      "outputs": [],
      "source": []
    },
    {
      "cell_type": "code",
      "execution_count": null,
      "metadata": {
        "id": "j48S5L3QynWB"
      },
      "outputs": [],
      "source": []
    },
    {
      "cell_type": "code",
      "execution_count": null,
      "metadata": {
        "id": "ds_r5bRxzElA"
      },
      "outputs": [],
      "source": []
    },
    {
      "cell_type": "code",
      "execution_count": null,
      "metadata": {
        "id": "WbKcnaxQzTOs"
      },
      "outputs": [],
      "source": []
    },
    {
      "cell_type": "code",
      "execution_count": null,
      "metadata": {
        "id": "IfUbHTexzwix"
      },
      "outputs": [],
      "source": []
    },
    {
      "cell_type": "code",
      "execution_count": null,
      "metadata": {
        "id": "J286m5dTz_KI"
      },
      "outputs": [],
      "source": []
    },
    {
      "cell_type": "code",
      "execution_count": null,
      "metadata": {
        "id": "MQlXOtbv0N0K"
      },
      "outputs": [],
      "source": []
    },
    {
      "cell_type": "code",
      "execution_count": null,
      "metadata": {
        "id": "wOeIiLIl0cdv"
      },
      "outputs": [],
      "source": []
    },
    {
      "cell_type": "code",
      "execution_count": null,
      "metadata": {
        "id": "qyaLvxtz0rG1"
      },
      "outputs": [],
      "source": []
    },
    {
      "cell_type": "code",
      "execution_count": null,
      "metadata": {
        "id": "Wtghj6U_1IbP"
      },
      "outputs": [],
      "source": []
    },
    {
      "cell_type": "code",
      "execution_count": null,
      "metadata": {
        "id": "DQititrJ1XEm"
      },
      "outputs": [],
      "source": []
    },
    {
      "cell_type": "code",
      "execution_count": null,
      "metadata": {
        "id": "IcMuMldL2gS5"
      },
      "outputs": [],
      "source": []
    },
    {
      "cell_type": "code",
      "execution_count": null,
      "metadata": {
        "id": "TcaZabSq2u8c"
      },
      "outputs": [],
      "source": []
    },
    {
      "cell_type": "code",
      "execution_count": null,
      "metadata": {
        "id": "Eyzhj9kC29nA"
      },
      "outputs": [],
      "source": []
    },
    {
      "cell_type": "code",
      "execution_count": null,
      "metadata": {
        "id": "7jgCLVzp3a5N"
      },
      "outputs": [],
      "source": []
    },
    {
      "cell_type": "code",
      "execution_count": null,
      "metadata": {
        "id": "xnJ7mtHB3piE"
      },
      "outputs": [],
      "source": []
    },
    {
      "cell_type": "code",
      "execution_count": null,
      "metadata": {
        "id": "yH0-UxWN34OT"
      },
      "outputs": [],
      "source": []
    },
    {
      "cell_type": "code",
      "execution_count": null,
      "metadata": {
        "id": "0g1hofsL4Veo"
      },
      "outputs": [],
      "source": []
    },
    {
      "cell_type": "code",
      "execution_count": null,
      "metadata": {
        "id": "P45VrWfG4kIK"
      },
      "outputs": [],
      "source": []
    },
    {
      "cell_type": "code",
      "execution_count": null,
      "metadata": {
        "id": "MihsjwkI4yxf"
      },
      "outputs": [],
      "source": []
    },
    {
      "cell_type": "code",
      "execution_count": null,
      "metadata": {
        "id": "62HR2zvX5Bd8"
      },
      "outputs": [],
      "source": []
    },
    {
      "cell_type": "code",
      "execution_count": null,
      "metadata": {
        "id": "4-cwYx9A5QFc"
      },
      "outputs": [],
      "source": []
    },
    {
      "cell_type": "code",
      "execution_count": null,
      "metadata": {
        "id": "hRUgP5ya5tXv"
      },
      "outputs": [],
      "source": []
    },
    {
      "cell_type": "code",
      "execution_count": null,
      "metadata": {
        "id": "M592qBRd58BX"
      },
      "outputs": [],
      "source": []
    },
    {
      "cell_type": "code",
      "execution_count": null,
      "metadata": {
        "id": "kyxy8BQ16nyV"
      },
      "outputs": [],
      "source": []
    },
    {
      "cell_type": "code",
      "execution_count": null,
      "metadata": {
        "id": "orZZ6D8m6wZo"
      },
      "outputs": [],
      "source": []
    },
    {
      "cell_type": "code",
      "execution_count": null,
      "metadata": {
        "id": "qD0cQNHS6-2Q"
      },
      "outputs": [],
      "source": []
    }
  ],
  "metadata": {
    "accelerator": "TPU",
    "colab": {
      "collapsed_sections": [],
      "machine_shape": "hm",
      "provenance": [],
      "authorship_tag": "ABX9TyM6LYYqgJCtVI/eHcFkWpFh",
      "include_colab_link": true
    },
    "gpuClass": "standard",
    "kernelspec": {
      "display_name": "Python 3",
      "name": "python3"
    },
    "language_info": {
      "name": "python"
    }
  },
  "nbformat": 4,
  "nbformat_minor": 0
}