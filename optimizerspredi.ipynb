{
  "cells": [
    {
      "cell_type": "markdown",
      "metadata": {
        "id": "view-in-github",
        "colab_type": "text"
      },
      "source": [
        "<a href=\"https://colab.research.google.com/github/hudaor/leaf-disease-1/blob/main/optimizerspredi.ipynb\" target=\"_parent\"><img src=\"https://colab.research.google.com/assets/colab-badge.svg\" alt=\"Open In Colab\"/></a>"
      ]
    },
    {
      "cell_type": "code",
      "execution_count": null,
      "metadata": {
        "colab": {
          "base_uri": "https://localhost:8080/"
        },
        "id": "-vt2Y7ra-4cj",
        "outputId": "89f12ff0-50d4-4aba-eec8-57f46b22182b"
      },
      "outputs": [
        {
          "name": "stdout",
          "output_type": "stream",
          "text": [
            "Looking in indexes: https://pypi.org/simple, https://us-python.pkg.dev/colab-wheels/public/simple/\n",
            "Requirement already satisfied: pyyaml in /usr/local/lib/python3.7/dist-packages (3.13)\n",
            "Requirement already satisfied: h5py in /usr/local/lib/python3.7/dist-packages (3.1.0)\n",
            "Requirement already satisfied: numpy>=1.14.5 in /usr/local/lib/python3.7/dist-packages (from h5py) (1.21.6)\n",
            "Requirement already satisfied: cached-property in /usr/local/lib/python3.7/dist-packages (from h5py) (1.5.2)\n",
            "Drive already mounted at /content/drive; to attempt to forcibly remount, call drive.mount(\"/content/drive\", force_remount=True).\n",
            "Found 34128 images belonging to 2 classes.\n",
            "Found 8726 images belonging to 2 classes.\n"
          ]
        }
      ],
      "source": [
        "#CNN Model\n",
        "from tensorflow import keras \n",
        "!pip install pyyaml h5py\n",
        "from keras.layers import Flatten, Activation, Dropout\n",
        "from keras.models import Sequential\n",
        "from keras.layers import Convolution2D\n",
        "from keras.layers import MaxPooling2D\n",
        "from keras.layers import Flatten\n",
        "from keras.layers import Dense\n",
        "from tensorflow.keras import optimizers\n",
        "from tensorflow.keras.optimizers import RMSprop\n",
        "import numpy as np\n",
        "import warnings\n",
        "from google.colab import drive\n",
        "drive.mount('/content/drive')\n",
        "warnings.filterwarnings(\"ignore\")\n",
        "\n",
        "optimizers = ['Adadelta', 'Adagrad', 'Adam', 'RMSprop', 'SGD']\n",
        "def build_model(optimizer):\n",
        "   model = Sequential()\n",
        "   model.add(Convolution2D(64,3,3, input_shape=(64,64,3), activation='relu'))\n",
        "   model.add(MaxPooling2D(pool_size=(2,2)))\n",
        "   model.add(Convolution2D(64,3,3, activation='relu'))\n",
        "   model.add(MaxPooling2D(pool_size=(2,2)))\n",
        "   model.add(Flatten())\n",
        "   model.add(Dense(128, activation='relu'))\n",
        "   model.add(Dense(1, activation='sigmoid'))\n",
        "   model.compile(optimizer='Adadelta', loss='binary_crossentropy', metrics=['accuracy'])\n",
        "   return model\n",
        "\n",
        "# Compiling the CNN\n",
        "\n",
        "\n",
        "# Deffining the Training and Testing Datasets\n",
        "from keras.preprocessing.image import ImageDataGenerator\n",
        "train_datagen = ImageDataGenerator(rescale=1./255,\n",
        "                                    shear_range=0.2,\n",
        "                                    zoom_range=0.2,\n",
        "                                    horizontal_flip=True)\n",
        "\n",
        "test_datagen = ImageDataGenerator(rescale=1./255)\n",
        "\n",
        "training_set = train_datagen.flow_from_directory(\n",
        "        '/content/drive/MyDrive/2022dataset 05 2 22/train',\n",
        "        target_size=(64, 64),\n",
        "        batch_size=32,\n",
        "        class_mode='binary',shuffle=False)\n",
        "\n",
        "test_set = test_datagen.flow_from_directory(\n",
        "        '/content/drive/MyDrive/2022dataset 05 2 22/validation',\n",
        "        target_size=(64, 64),\n",
        "        batch_size=32,\n",
        "        class_mode='binary')\n",
        "\n",
        "\n",
        "\n",
        "# nb_epochs how much times you want to back propogate\n",
        "# steps_per_epoch it will transfer that many images at 1 time\n",
        "# & epochs means 'steps_per_epoch' will repeat that many times\n",
        "\n",
        "# r = classifier.fit(\n",
        "#         training_set,\n",
        "#         steps_per_epoch=len(training_set),\n",
        "#          epochs=20,\n",
        "#         validation_data=test_set,\n",
        "#         validation_steps=len(test_set),\n",
        "#         verbose=True)\n",
        "\n",
        "\n"
      ]
    },
    {
      "cell_type": "code",
      "execution_count": null,
      "metadata": {
        "colab": {
          "base_uri": "https://localhost:8080/"
        },
        "id": "48Oa-fNI-ufq",
        "outputId": "1e630c5d-33b7-4247-a4b3-679b2e1ff489"
      },
      "outputs": [
        {
          "name": "stdout",
          "output_type": "stream",
          "text": [
            "Epoch 1/10\n",
            "300/300 [==============================] - ETA: 0s - loss: 0.6941 - accuracy: 0.5209WARNING:tensorflow:Your input ran out of data; interrupting training. Make sure that your dataset or generator can generate at least `steps_per_epoch * epochs` batches (in this case, 600 batches). You may need to use the repeat() function when building your dataset.\n",
            "300/300 [==============================] - 4654s 16s/step - loss: 0.6941 - accuracy: 0.5209 - val_loss: 0.6960 - val_accuracy: 0.5081\n",
            "Epoch 2/10\n",
            "300/300 [==============================] - 1243s 4s/step - loss: 0.6970 - accuracy: 0.5033\n",
            "Epoch 3/10\n",
            "300/300 [==============================] - 1128s 4s/step - loss: 0.6953 - accuracy: 0.5100\n",
            "Epoch 4/10\n",
            "300/300 [==============================] - 984s 3s/step - loss: 0.6979 - accuracy: 0.4808\n",
            "Epoch 5/10\n",
            "300/300 [==============================] - 716s 2s/step - loss: 0.6952 - accuracy: 0.5066\n",
            "Epoch 6/10\n",
            "300/300 [==============================] - 628s 2s/step - loss: 0.6967 - accuracy: 0.4668\n",
            "Epoch 7/10\n",
            "300/300 [==============================] - 639s 2s/step - loss: 0.6943 - accuracy: 0.5000\n",
            "Epoch 8/10\n",
            "300/300 [==============================] - 541s 2s/step - loss: 0.6942 - accuracy: 0.4869\n",
            "Epoch 9/10\n",
            "300/300 [==============================] - 546s 2s/step - loss: 0.6935 - accuracy: 0.5082\n",
            "Epoch 10/10\n",
            "300/300 [==============================] - 503s 2s/step - loss: 0.6931 - accuracy: 0.5208\n",
            "Epoch 1/10\n",
            "300/300 [==============================] - ETA: 0s - loss: 0.6932 - accuracy: 0.4823WARNING:tensorflow:Your input ran out of data; interrupting training. Make sure that your dataset or generator can generate at least `steps_per_epoch * epochs` batches (in this case, 600 batches). You may need to use the repeat() function when building your dataset.\n",
            "300/300 [==============================] - 926s 3s/step - loss: 0.6932 - accuracy: 0.4823 - val_loss: 0.6932 - val_accuracy: 0.4857\n",
            "Epoch 2/10\n",
            "300/300 [==============================] - 470s 2s/step - loss: 0.6930 - accuracy: 0.4795\n",
            "Epoch 3/10\n",
            "300/300 [==============================] - 555s 2s/step - loss: 0.6924 - accuracy: 0.5317\n",
            "Epoch 4/10\n",
            "300/300 [==============================] - 367s 1s/step - loss: 0.6923 - accuracy: 0.4987\n",
            "Epoch 5/10\n",
            "300/300 [==============================] - 428s 1s/step - loss: 0.6921 - accuracy: 0.5119\n",
            "Epoch 6/10\n",
            "300/300 [==============================] - 436s 1s/step - loss: 0.6920 - accuracy: 0.5123\n",
            "Epoch 7/10\n",
            "300/300 [==============================] - 530s 2s/step - loss: 0.6916 - accuracy: 0.5203\n",
            "Epoch 8/10\n",
            "300/300 [==============================] - 515s 2s/step - loss: 0.6908 - accuracy: 0.5290\n",
            "Epoch 9/10\n",
            "300/300 [==============================] - 485s 2s/step - loss: 0.6904 - accuracy: 0.5350\n",
            "Epoch 10/10\n",
            "300/300 [==============================] - 391s 1s/step - loss: 0.6898 - accuracy: 0.5362\n",
            "Epoch 1/10\n",
            "300/300 [==============================] - ETA: 0s - loss: 0.6924 - accuracy: 0.5274WARNING:tensorflow:Your input ran out of data; interrupting training. Make sure that your dataset or generator can generate at least `steps_per_epoch * epochs` batches (in this case, 600 batches). You may need to use the repeat() function when building your dataset.\n",
            "300/300 [==============================] - 956s 3s/step - loss: 0.6924 - accuracy: 0.5274 - val_loss: 0.6930 - val_accuracy: 0.4975\n",
            "Epoch 2/10\n",
            "300/300 [==============================] - 517s 2s/step - loss: 0.6920 - accuracy: 0.5343\n",
            "Epoch 3/10\n",
            "300/300 [==============================] - 462s 2s/step - loss: 0.6925 - accuracy: 0.4979\n",
            "Epoch 4/10\n",
            "300/300 [==============================] - 598s 2s/step - loss: 0.6921 - accuracy: 0.5160\n",
            "Epoch 5/10\n",
            "300/300 [==============================] - 515s 2s/step - loss: 0.6929 - accuracy: 0.4904\n",
            "Epoch 6/10\n",
            "300/300 [==============================] - 460s 2s/step - loss: 0.6919 - accuracy: 0.5178\n",
            "Epoch 7/10\n",
            "300/300 [==============================] - 455s 2s/step - loss: 0.6919 - accuracy: 0.5182\n",
            "Epoch 8/10\n",
            "300/300 [==============================] - 514s 2s/step - loss: 0.6926 - accuracy: 0.4964\n",
            "Epoch 9/10\n",
            "300/300 [==============================] - 538s 2s/step - loss: 0.6905 - accuracy: 0.5408\n",
            "Epoch 10/10\n",
            "300/300 [==============================] - 498s 2s/step - loss: 0.6898 - accuracy: 0.5355\n",
            "Epoch 1/10\n",
            "300/300 [==============================] - ETA: 0s - loss: 0.6933 - accuracy: 0.5242WARNING:tensorflow:Your input ran out of data; interrupting training. Make sure that your dataset or generator can generate at least `steps_per_epoch * epochs` batches (in this case, 600 batches). You may need to use the repeat() function when building your dataset.\n",
            "300/300 [==============================] - 905s 3s/step - loss: 0.6933 - accuracy: 0.5242 - val_loss: 0.6941 - val_accuracy: 0.5081\n",
            "Epoch 2/10\n",
            "300/300 [==============================] - 483s 2s/step - loss: 0.6936 - accuracy: 0.5233\n",
            "Epoch 3/10\n",
            "300/300 [==============================] - 458s 1s/step - loss: 0.6946 - accuracy: 0.5033\n",
            "Epoch 4/10\n",
            "300/300 [==============================] - 455s 2s/step - loss: 0.6944 - accuracy: 0.5101\n",
            "Epoch 5/10\n",
            "300/300 [==============================] - 453s 2s/step - loss: 0.6943 - accuracy: 0.4938\n",
            "Epoch 6/10\n",
            "300/300 [==============================] - 474s 2s/step - loss: 0.6933 - accuracy: 0.5119\n",
            "Epoch 7/10\n",
            "300/300 [==============================] - 435s 1s/step - loss: 0.6934 - accuracy: 0.5102\n",
            "Epoch 8/10\n",
            "300/300 [==============================] - 490s 2s/step - loss: 0.6930 - accuracy: 0.5235\n",
            "Epoch 9/10\n",
            "300/300 [==============================] - 537s 2s/step - loss: 0.6937 - accuracy: 0.5009\n",
            "Epoch 10/10\n",
            "300/300 [==============================] - 481s 2s/step - loss: 0.6924 - accuracy: 0.5357\n",
            "Epoch 1/10\n",
            "300/300 [==============================] - ETA: 0s - loss: 0.6908 - accuracy: 0.5167WARNING:tensorflow:Your input ran out of data; interrupting training. Make sure that your dataset or generator can generate at least `steps_per_epoch * epochs` batches (in this case, 600 batches). You may need to use the repeat() function when building your dataset.\n",
            "300/300 [==============================] - 898s 3s/step - loss: 0.6908 - accuracy: 0.5167 - val_loss: 0.6928 - val_accuracy: 0.4919\n",
            "Epoch 2/10\n",
            "300/300 [==============================] - 428s 1s/step - loss: 0.6923 - accuracy: 0.4933\n",
            "Epoch 3/10\n",
            "300/300 [==============================] - 412s 1s/step - loss: 0.6938 - accuracy: 0.4667\n",
            "Epoch 4/10\n",
            "300/300 [==============================] - 434s 1s/step - loss: 0.6954 - accuracy: 0.4333\n",
            "Epoch 5/10\n",
            "300/300 [==============================] - 473s 2s/step - loss: 0.6916 - accuracy: 0.5034\n",
            "Epoch 6/10\n",
            "300/300 [==============================] - 491s 2s/step - loss: 0.6911 - accuracy: 0.5092\n",
            "Epoch 7/10\n",
            "300/300 [==============================] - 458s 2s/step - loss: 0.6915 - accuracy: 0.5050\n",
            "Epoch 8/10\n",
            "300/300 [==============================] - 492s 2s/step - loss: 0.6933 - accuracy: 0.4667\n",
            "Epoch 9/10\n",
            "300/300 [==============================] - 570s 2s/step - loss: 0.6921 - accuracy: 0.4967\n",
            "Epoch 10/10\n",
            "300/300 [==============================] - 562s 2s/step - loss: 0.6913 - accuracy: 0.5125\n",
            "INFO:tensorflow:Assets written to: ram://c1819e06-4aaa-4c2e-8e08-729d8ef1a39b/assets\n"
          ]
        }
      ],
      "source": [
        "optimizers = ['Adadelta', 'Adagrad', 'Adam', 'RMSprop', 'SGD']\n",
        "\n",
        "for i in optimizers:\n",
        "  model = build_model(i)\n",
        "  his = model.fit(\n",
        "        training_set,\n",
        "         epochs=10,\n",
        "        validation_data=test_set,\n",
        "        verbose=True,\n",
        "        steps_per_epoch=300,\n",
        "        validation_steps=600)\n",
        "  \n",
        "model.save('/content/drive/MyDrive/2022dataset 05 2 22/Adadelta.h5')\n",
        "\n",
        "np.save('/content/drive/MyDrive/2022dataset 05 2 22/his', his)\n",
        "\n",
        "\n",
        "#hist=model.fit(x_train, y_train, batch_size=batch_size, epochs=epochs, verbose=1, validation_data=(x_test,y_test))"
      ]
    },
    {
      "cell_type": "code",
      "execution_count": null,
      "metadata": {
        "id": "GWtVChLDAUov"
      },
      "outputs": [],
      "source": [
        "\n",
        "optimizers = ['Adadelta', 'Adagrad', 'Adam', 'RMSprop', 'SGD']\n",
        "def build_model1(optimizer):\n",
        "   model = Sequential()\n",
        "   model.add(Convolution2D(64,3,3, input_shape=(64,64,3), activation='relu'))\n",
        "   model.add(MaxPooling2D(pool_size=(2,2)))\n",
        "   model.add(Convolution2D(64,3,3, activation='relu'))\n",
        "   model.add(MaxPooling2D(pool_size=(2,2)))\n",
        "   model.add(Flatten())\n",
        "   model.add(Dense(128, activation='relu'))\n",
        "   model.add(Dense(1, activation='sigmoid'))\n",
        "   model.compile(optimizer= 'Adagrad', loss='binary_crossentropy', metrics=['accuracy'])\n",
        "   return model1"
      ]
    },
    {
      "cell_type": "code",
      "execution_count": null,
      "metadata": {
        "colab": {
          "background_save": true,
          "base_uri": "https://localhost:8080/"
        },
        "id": "wipDKde-9d8K",
        "outputId": "0884accd-8ea8-4700-a19b-801650d23f98"
      },
      "outputs": [
        {
          "name": "stdout",
          "output_type": "stream",
          "text": [
            "Epoch 1/10\n",
            "300/300 [==============================] - 808s 3s/step - loss: 0.6909 - accuracy: 0.5100 - val_loss: 0.6916 - val_accuracy: 0.5005\n",
            "Epoch 2/10\n",
            "300/300 [==============================] - 793s 3s/step - loss: 0.6912 - accuracy: 0.5058 - val_loss: 0.6921 - val_accuracy: 0.4911\n",
            "Epoch 3/10\n",
            "300/300 [==============================] - 743s 2s/step - loss: 0.6921 - accuracy: 0.4967 - val_loss: 0.6918 - val_accuracy: 0.4953\n",
            "Epoch 4/10\n",
            "300/300 [==============================] - 807s 3s/step - loss: 0.6925 - accuracy: 0.4825 - val_loss: 0.6921 - val_accuracy: 0.4859\n",
            "Epoch 5/10\n",
            "300/300 [==============================] - 796s 3s/step - loss: 0.6925 - accuracy: 0.4800 - val_loss: 0.6918 - val_accuracy: 0.4931\n",
            "Epoch 6/10\n",
            "300/300 [==============================] - 741s 2s/step - loss: 0.6908 - accuracy: 0.5059 - val_loss: 0.6917 - val_accuracy: 0.4930\n",
            "Epoch 7/10\n",
            "300/300 [==============================] - 778s 3s/step - loss: 0.6896 - accuracy: 0.5291 - val_loss: 0.6922 - val_accuracy: 0.4875\n",
            "Epoch 8/10\n",
            "300/300 [==============================] - 793s 3s/step - loss: 0.6901 - accuracy: 0.5157 - val_loss: 0.6918 - val_accuracy: 0.4923\n",
            "Epoch 9/10\n",
            "300/300 [==============================] - 799s 3s/step - loss: 0.6881 - accuracy: 0.5367 - val_loss: 0.6923 - val_accuracy: 0.4889\n",
            "Epoch 10/10\n",
            "300/300 [==============================] - 890s 3s/step - loss: 0.6948 - accuracy: 0.4466 - val_loss: 0.6918 - val_accuracy: 0.4916\n",
            "INFO:tensorflow:Assets written to: ram://392d3d82-96a0-44b7-bd30-915df7e90fa5/assets\n"
          ]
        }
      ],
      "source": [
        "\n",
        "his1 = model.fit(\n",
        "       training_set,\n",
        "         epochs=10,\n",
        "        validation_data=test_set,\n",
        "        verbose=True,\n",
        "        steps_per_epoch=300,\n",
        "      validation_steps=200)\n",
        "\n",
        "#r = model.fit(training_set,\n",
        "       # steps_per_epoch=len(training_set),\n",
        "        #epochs=2,\n",
        "        #validation_data=test_set,\n",
        "        #validation_steps=len(test_set),\n",
        "        #verbose=True)\n",
        "\n",
        "model.save('/content/drive/MyDrive/2022dataset 05 2 22/Adagrad.h5')\n",
        "\n",
        "np.save('/content/drive/MyDrive/2022dataset 05 2 22/his1', his1)"
      ]
    },
    {
      "cell_type": "code",
      "execution_count": null,
      "metadata": {
        "colab": {
          "background_save": true,
          "base_uri": "https://localhost:8080/"
        },
        "id": "vsIjZKQ6sfeV",
        "outputId": "934d8838-4d5f-488d-80b5-104a3b6cfe5e"
      },
      "outputs": [
        {
          "name": "stdout",
          "output_type": "stream",
          "text": [
            "Found 8726 images belonging to 2 classes.\n",
            "Classification Report\n"
          ]
        },
        {
          "ename": "ValueError",
          "evalue": "ignored",
          "output_type": "error",
          "traceback": [
            "\u001b[0;31m---------------------------------------------------------------------------\u001b[0m",
            "\u001b[0;31mValueError\u001b[0m                                Traceback (most recent call last)",
            "\u001b[0;32m<ipython-input-19-16da184aa57e>\u001b[0m in \u001b[0;36m<module>\u001b[0;34m()\u001b[0m\n\u001b[1;32m     42\u001b[0m \u001b[0mprint\u001b[0m\u001b[0;34m(\u001b[0m\u001b[0;34m'Classification Report'\u001b[0m\u001b[0;34m)\u001b[0m\u001b[0;34m\u001b[0m\u001b[0;34m\u001b[0m\u001b[0m\n\u001b[1;32m     43\u001b[0m \u001b[0mtarget_names\u001b[0m \u001b[0;34m=\u001b[0m \u001b[0;34m[\u001b[0m\u001b[0;34m'Diseased'\u001b[0m\u001b[0;34m,\u001b[0m \u001b[0;34m'Healthy'\u001b[0m\u001b[0;34m]\u001b[0m\u001b[0;34m\u001b[0m\u001b[0;34m\u001b[0m\u001b[0m\n\u001b[0;32m---> 44\u001b[0;31m \u001b[0mprint\u001b[0m\u001b[0;34m(\u001b[0m\u001b[0mclassification_report\u001b[0m\u001b[0;34m(\u001b[0m\u001b[0mval_set\u001b[0m\u001b[0;34m.\u001b[0m\u001b[0mclasses\u001b[0m\u001b[0;34m,\u001b[0m \u001b[0my_pred\u001b[0m\u001b[0;34m,\u001b[0m \u001b[0mtarget_names\u001b[0m\u001b[0;34m=\u001b[0m\u001b[0mtarget_names\u001b[0m\u001b[0;34m,\u001b[0m\u001b[0mdigits\u001b[0m\u001b[0;34m=\u001b[0m\u001b[0;36m4\u001b[0m\u001b[0;34m)\u001b[0m\u001b[0;34m)\u001b[0m\u001b[0;34m\u001b[0m\u001b[0;34m\u001b[0m\u001b[0m\n\u001b[0m",
            "\u001b[0;32m/usr/local/lib/python3.7/dist-packages/sklearn/metrics/_classification.py\u001b[0m in \u001b[0;36mclassification_report\u001b[0;34m(y_true, y_pred, labels, target_names, sample_weight, digits, output_dict, zero_division)\u001b[0m\n\u001b[1;32m   2108\u001b[0m     \"\"\"\n\u001b[1;32m   2109\u001b[0m \u001b[0;34m\u001b[0m\u001b[0m\n\u001b[0;32m-> 2110\u001b[0;31m     \u001b[0my_type\u001b[0m\u001b[0;34m,\u001b[0m \u001b[0my_true\u001b[0m\u001b[0;34m,\u001b[0m \u001b[0my_pred\u001b[0m \u001b[0;34m=\u001b[0m \u001b[0m_check_targets\u001b[0m\u001b[0;34m(\u001b[0m\u001b[0my_true\u001b[0m\u001b[0;34m,\u001b[0m \u001b[0my_pred\u001b[0m\u001b[0;34m)\u001b[0m\u001b[0;34m\u001b[0m\u001b[0;34m\u001b[0m\u001b[0m\n\u001b[0m\u001b[1;32m   2111\u001b[0m \u001b[0;34m\u001b[0m\u001b[0m\n\u001b[1;32m   2112\u001b[0m     \u001b[0;32mif\u001b[0m \u001b[0mlabels\u001b[0m \u001b[0;32mis\u001b[0m \u001b[0;32mNone\u001b[0m\u001b[0;34m:\u001b[0m\u001b[0;34m\u001b[0m\u001b[0;34m\u001b[0m\u001b[0m\n",
            "\u001b[0;32m/usr/local/lib/python3.7/dist-packages/sklearn/metrics/_classification.py\u001b[0m in \u001b[0;36m_check_targets\u001b[0;34m(y_true, y_pred)\u001b[0m\n\u001b[1;32m     82\u001b[0m     \u001b[0my_pred\u001b[0m \u001b[0;34m:\u001b[0m \u001b[0marray\u001b[0m \u001b[0;32mor\u001b[0m \u001b[0mindicator\u001b[0m \u001b[0mmatrix\u001b[0m\u001b[0;34m\u001b[0m\u001b[0;34m\u001b[0m\u001b[0m\n\u001b[1;32m     83\u001b[0m     \"\"\"\n\u001b[0;32m---> 84\u001b[0;31m     \u001b[0mcheck_consistent_length\u001b[0m\u001b[0;34m(\u001b[0m\u001b[0my_true\u001b[0m\u001b[0;34m,\u001b[0m \u001b[0my_pred\u001b[0m\u001b[0;34m)\u001b[0m\u001b[0;34m\u001b[0m\u001b[0;34m\u001b[0m\u001b[0m\n\u001b[0m\u001b[1;32m     85\u001b[0m     \u001b[0mtype_true\u001b[0m \u001b[0;34m=\u001b[0m \u001b[0mtype_of_target\u001b[0m\u001b[0;34m(\u001b[0m\u001b[0my_true\u001b[0m\u001b[0;34m)\u001b[0m\u001b[0;34m\u001b[0m\u001b[0;34m\u001b[0m\u001b[0m\n\u001b[1;32m     86\u001b[0m     \u001b[0mtype_pred\u001b[0m \u001b[0;34m=\u001b[0m \u001b[0mtype_of_target\u001b[0m\u001b[0;34m(\u001b[0m\u001b[0my_pred\u001b[0m\u001b[0;34m)\u001b[0m\u001b[0;34m\u001b[0m\u001b[0;34m\u001b[0m\u001b[0m\n",
            "\u001b[0;32m/usr/local/lib/python3.7/dist-packages/sklearn/utils/validation.py\u001b[0m in \u001b[0;36mcheck_consistent_length\u001b[0;34m(*arrays)\u001b[0m\n\u001b[1;32m    332\u001b[0m         raise ValueError(\n\u001b[1;32m    333\u001b[0m             \u001b[0;34m\"Found input variables with inconsistent numbers of samples: %r\"\u001b[0m\u001b[0;34m\u001b[0m\u001b[0;34m\u001b[0m\u001b[0m\n\u001b[0;32m--> 334\u001b[0;31m             \u001b[0;34m%\u001b[0m \u001b[0;34m[\u001b[0m\u001b[0mint\u001b[0m\u001b[0;34m(\u001b[0m\u001b[0ml\u001b[0m\u001b[0;34m)\u001b[0m \u001b[0;32mfor\u001b[0m \u001b[0ml\u001b[0m \u001b[0;32min\u001b[0m \u001b[0mlengths\u001b[0m\u001b[0;34m]\u001b[0m\u001b[0;34m\u001b[0m\u001b[0;34m\u001b[0m\u001b[0m\n\u001b[0m\u001b[1;32m    335\u001b[0m         )\n\u001b[1;32m    336\u001b[0m \u001b[0;34m\u001b[0m\u001b[0m\n",
            "\u001b[0;31mValueError\u001b[0m: Found input variables with inconsistent numbers of samples: [8726, 314136]"
          ]
        }
      ],
      "source": [
        "from keras.metrics import CategoricalHinge\n",
        "################--TESTED--#########################\n",
        "#REFER: https://gist.github.com/RyanAkilos/3808c17f79e77c4117de35aa68447045\n",
        "#Confution Matrix and Classification Report\n",
        "#problem with column filled with zeros refer to : https://stackoverflow.com/questions/51282098/plotting-confusion-matrix-for-an-image-classification-model?rq=1\n",
        "from sklearn.metrics import classification_report\n",
        "from tensorflow.keras.preprocessing.image import ImageDataGenerator\n",
        "\n",
        "from sklearn.metrics import confusion_matrix\n",
        "from keras.models import load_model\n",
        "#import numpy as nb_epochs\n",
        "import numpy as np\n",
        "\n",
        "classifier = load_model('/content/drive/MyDrive/2022dataset 05 2 22/Adagrad.h5')\n",
        "test_datagen = ImageDataGenerator(rescale=1./255)\n",
        "# only rescaling\n",
        "train_datagen =  ImageDataGenerator(rescale=1./255)\n",
        "test_datagen =  ImageDataGenerator(rescale=1./255)\n",
        "\n",
        "train_data_dir = \"/content/drive/MyDrive/2022dataset 05 2 22/train\"\n",
        "val_data_dir = \"/content/drive/MyDrive/2022dataset 05 2 22/validation\"\n",
        "#test_data_dir = \"/content/drive/MyDrive/2022dataset 05 2 22/test\"\n",
        "\n",
        "\n",
        "val_set = test_datagen.flow_from_directory(val_data_dir,\n",
        "                                                  target_size = (224, 224),\n",
        "                                                 batch_size = 16,\n",
        "                                                 class_mode = 'binary',\n",
        "                                                 shuffle=False)\n",
        "\n",
        "batch_size=16\n",
        "val_set.reset()\n",
        "Y_pred = classifier.predict(val_set, len(val_set) // batch_size+1, workers=0)\n",
        "y_pred = np.where(Y_pred>0.5, 1, 0)\n",
        "\n",
        "#y_pred = np.argmax(Y_pred, axis=1)\n",
        "#cm = confusion_matrix(val_set.classes, y_pred)\n",
        "\n",
        "#y_pred = np.argmax(Y_pred, axis=1)\n",
        "#print('Confusion Matrix')\n",
        "#print(cm)\n",
        "print('Classification Report')\n",
        "target_names = ['Diseased', 'Healthy']\n",
        "print(classification_report(val_set.classes, y_pred, target_names=target_names,digits=4))"
      ]
    },
    {
      "cell_type": "code",
      "execution_count": null,
      "metadata": {
        "colab": {
          "base_uri": "https://localhost:8080/"
        },
        "id": "Miqt4UvTNtzA",
        "outputId": "d79ec6b0-93bb-47ce-d19c-e206669b444c"
      },
      "outputs": [
        {
          "name": "stdout",
          "output_type": "stream",
          "text": [
            "Epoch 1/10\n",
            "300/300 [==============================] - 662s 2s/step - loss: 0.6959 - accuracy: 0.5484 - val_loss: 0.6966 - val_accuracy: 0.5008\n",
            "Epoch 2/10\n",
            "300/300 [==============================] - 662s 2s/step - loss: 0.6950 - accuracy: 0.4899 - val_loss: 0.6889 - val_accuracy: 0.5331\n",
            "Epoch 3/10\n",
            "300/300 [==============================] - 648s 2s/step - loss: 0.6913 - accuracy: 0.5121 - val_loss: 0.6534 - val_accuracy: 0.6728\n",
            "Epoch 4/10\n",
            "300/300 [==============================] - 727s 2s/step - loss: 0.6643 - accuracy: 0.5829 - val_loss: 0.6313 - val_accuracy: 0.6680\n",
            "Epoch 5/10\n",
            "300/300 [==============================] - 640s 2s/step - loss: 0.6510 - accuracy: 0.6381 - val_loss: 0.6327 - val_accuracy: 0.6092\n",
            "Epoch 6/10\n",
            "300/300 [==============================] - 743s 2s/step - loss: 0.6243 - accuracy: 0.6574 - val_loss: 0.6049 - val_accuracy: 0.6756\n",
            "Epoch 7/10\n",
            "300/300 [==============================] - 721s 2s/step - loss: 0.6304 - accuracy: 0.6591 - val_loss: 0.5893 - val_accuracy: 0.7116\n",
            "Epoch 8/10\n",
            "300/300 [==============================] - 643s 2s/step - loss: 0.5844 - accuracy: 0.6912 - val_loss: 0.5903 - val_accuracy: 0.6927\n",
            "Epoch 9/10\n",
            "300/300 [==============================] - 747s 2s/step - loss: 0.6290 - accuracy: 0.6745 - val_loss: 0.6031 - val_accuracy: 0.6848\n",
            "Epoch 10/10\n",
            "300/300 [==============================] - 788s 3s/step - loss: 0.5851 - accuracy: 0.6966 - val_loss: 0.6841 - val_accuracy: 0.6070\n",
            "INFO:tensorflow:Assets written to: ram://8add42b4-d9e8-4846-93d7-91826d7433c9/assets\n"
          ]
        }
      ],
      "source": [
        "optimizers = ['Adadelta', 'Adagrad', 'Adam', 'RMSprop', 'SGD']\n",
        "model2 = Sequential()\n",
        "model2.add(Convolution2D(64,3,3, input_shape=(64,64,3), activation='relu'))\n",
        "model2.add(MaxPooling2D(pool_size=(2,2)))\n",
        "model2.add(Convolution2D(64,3,3, activation='relu'))\n",
        "model2.add(MaxPooling2D(pool_size=(2,2)))\n",
        "model2.add(Flatten())\n",
        "model2.add(Dense(128, activation='relu'))\n",
        "model2.add(Dense(1, activation='sigmoid'))\n",
        "model2.compile(optimizer= 'Adam', loss='binary_crossentropy', metrics=['accuracy'])\n",
        "  \n",
        "\n",
        "his2= model2.fit(\n",
        "       training_set,\n",
        "         epochs=10,\n",
        "        validation_data=test_set,\n",
        "        verbose=True,\n",
        "        steps_per_epoch=300,\n",
        "      validation_steps=200)\n",
        "\n",
        "#r = model.fit(training_set,\n",
        "       # steps_per_epoch=len(training_set),\n",
        "        #epochs=2,\n",
        "        #validation_data=test_set,\n",
        "        #validation_steps=len(test_set),\n",
        "        #verbose=True)\n",
        "model2.save('/content/drive/MyDrive/2022dataset 05 2 22/Adam.h5')        \n",
        "np.save('/content/drive/MyDrive/2022dataset 05 2 22/his2', his2)"
      ]
    },
    {
      "cell_type": "code",
      "execution_count": null,
      "metadata": {
        "colab": {
          "base_uri": "https://localhost:8080/"
        },
        "id": "CH03SuNTr7Li",
        "outputId": "bb3b9bb7-bcb8-4c2b-cc55-48cd1f0ca61e"
      },
      "outputs": [
        {
          "name": "stdout",
          "output_type": "stream",
          "text": [
            "Epoch 1/10\n",
            "300/300 [==============================] - 686s 2s/step - loss: 0.7008 - accuracy: 0.4881 - val_loss: 0.6863 - val_accuracy: 0.6064\n",
            "Epoch 2/10\n",
            "300/300 [==============================] - 737s 2s/step - loss: 0.6909 - accuracy: 0.5796 - val_loss: 0.7762 - val_accuracy: 0.5053\n",
            "Epoch 3/10\n",
            "300/300 [==============================] - 762s 3s/step - loss: 0.6742 - accuracy: 0.5929 - val_loss: 0.8531 - val_accuracy: 0.5075\n",
            "Epoch 4/10\n",
            "300/300 [==============================] - 687s 2s/step - loss: 0.6664 - accuracy: 0.6128 - val_loss: 0.6153 - val_accuracy: 0.6687\n",
            "Epoch 5/10\n",
            "300/300 [==============================] - 764s 3s/step - loss: 0.6524 - accuracy: 0.6453 - val_loss: 0.6102 - val_accuracy: 0.6672\n",
            "Epoch 6/10\n",
            "300/300 [==============================] - 747s 2s/step - loss: 0.6508 - accuracy: 0.6416 - val_loss: 0.5758 - val_accuracy: 0.7167\n",
            "Epoch 7/10\n",
            "300/300 [==============================] - 717s 2s/step - loss: 0.6098 - accuracy: 0.6694 - val_loss: 0.5536 - val_accuracy: 0.7259\n",
            "Epoch 8/10\n",
            "300/300 [==============================] - 575s 2s/step - loss: 0.6030 - accuracy: 0.6879 - val_loss: 0.5549 - val_accuracy: 0.7212\n",
            "Epoch 9/10\n",
            "300/300 [==============================] - 645s 2s/step - loss: 0.5937 - accuracy: 0.6924 - val_loss: 0.5670 - val_accuracy: 0.7023\n",
            "Epoch 10/10\n",
            "300/300 [==============================] - 665s 2s/step - loss: 0.5863 - accuracy: 0.6849 - val_loss: 0.6134 - val_accuracy: 0.6681\n",
            "INFO:tensorflow:Assets written to: ram://f6b0e373-e400-42a2-b369-a2940c6563a6/assets\n"
          ]
        }
      ],
      "source": [
        "optimizers = ['Adadelta', 'Adagrad', 'Adam', 'RMSprop', 'SGD']\n",
        "model3 = Sequential()\n",
        "model3.add(Convolution2D(64,3,3, input_shape=(64,64,3), activation='relu'))\n",
        "model3.add(MaxPooling2D(pool_size=(2,2)))\n",
        "model3.add(Convolution2D(64,3,3, activation='relu'))\n",
        "model3.add(MaxPooling2D(pool_size=(2,2)))\n",
        "model3.add(Flatten())\n",
        "model3.add(Dense(128, activation='relu'))\n",
        "model3.add(Dense(1, activation='sigmoid'))\n",
        "model3.compile(optimizer= 'RMSprop', loss='binary_crossentropy', metrics=['accuracy'])\n",
        "  \n",
        "\n",
        "his3 = model3.fit(\n",
        "       training_set,\n",
        "         epochs=10,\n",
        "        validation_data=test_set,\n",
        "        verbose=True,\n",
        "        steps_per_epoch=300,\n",
        "      validation_steps=200)\n",
        "\n",
        "#r = model.fit(training_set,\n",
        "       # steps_per_epoch=len(training_set),\n",
        "        #epochs=2,\n",
        "        #validation_data=test_set,\n",
        "        #validation_steps=len(test_set),\n",
        "        #verbose=True)\n",
        "        \n",
        "np.save('/content/drive/MyDrive/2022dataset 05 2 22/his3', his3)\n",
        "model4.save('/content/drive/MyDrive/2022dataset 05 2 22/RMSprop.h5')"
      ]
    },
    {
      "cell_type": "code",
      "execution_count": null,
      "metadata": {
        "colab": {
          "base_uri": "https://localhost:8080/"
        },
        "id": "U-WlMc0FG0vJ",
        "outputId": "57ecce87-23d9-49a3-a884-27d8b9fa0d3c"
      },
      "outputs": [
        {
          "name": "stdout",
          "output_type": "stream",
          "text": [
            "INFO:tensorflow:Assets written to: ram://35cc57aa-b96b-49b8-8a97-81d35084f120/assets\n"
          ]
        }
      ],
      "source": [
        "        #verbose=True)\n",
        "np.save('/content/drive/MyDrive/2022dataset 05 2 22/histo4', histo4)"
      ]
    },
    {
      "cell_type": "code",
      "execution_count": null,
      "metadata": {
        "colab": {
          "base_uri": "https://localhost:8080/"
        },
        "id": "NDJJIpa3HD-1",
        "outputId": "91be70c3-55e8-4c80-be24-f14b571e4fe3"
      },
      "outputs": [
        {
          "name": "stdout",
          "output_type": "stream",
          "text": [
            "Epoch 1/10\n",
            "300/300 [==============================] - 626s 2s/step - loss: 0.6967 - accuracy: 0.4792 - val_loss: 0.6923 - val_accuracy: 0.5106\n",
            "Epoch 2/10\n",
            "300/300 [==============================] - 662s 2s/step - loss: 0.6909 - accuracy: 0.5395 - val_loss: 0.7008 - val_accuracy: 0.4886\n",
            "Epoch 3/10\n",
            "300/300 [==============================] - 671s 2s/step - loss: 0.6941 - accuracy: 0.5091 - val_loss: 0.6911 - val_accuracy: 0.4894\n",
            "Epoch 4/10\n",
            "300/300 [==============================] - 679s 2s/step - loss: 0.6903 - accuracy: 0.5290 - val_loss: 0.6941 - val_accuracy: 0.5105\n",
            "Epoch 5/10\n",
            "300/300 [==============================] - 607s 2s/step - loss: 0.6930 - accuracy: 0.5142 - val_loss: 0.6868 - val_accuracy: 0.6237\n",
            "Epoch 6/10\n",
            "300/300 [==============================] - 663s 2s/step - loss: 0.6907 - accuracy: 0.5265 - val_loss: 0.6852 - val_accuracy: 0.6302\n",
            "Epoch 7/10\n",
            "300/300 [==============================] - 696s 2s/step - loss: 0.6894 - accuracy: 0.5446 - val_loss: 0.6828 - val_accuracy: 0.6392\n",
            "Epoch 8/10\n",
            "300/300 [==============================] - 658s 2s/step - loss: 0.6801 - accuracy: 0.5722 - val_loss: 0.7054 - val_accuracy: 0.5108\n",
            "Epoch 9/10\n",
            "300/300 [==============================] - 718s 2s/step - loss: 0.6877 - accuracy: 0.5486 - val_loss: 0.6770 - val_accuracy: 0.6539\n",
            "Epoch 10/10\n",
            "300/300 [==============================] - 761s 3s/step - loss: 0.6789 - accuracy: 0.5727 - val_loss: 0.6788 - val_accuracy: 0.5317\n",
            "INFO:tensorflow:Assets written to: ram://2371449a-08d2-449e-a2da-6a6bd7384b1d/assets\n"
          ]
        }
      ],
      "source": [
        "optimizers = ['Adadelta', 'Adagrad', 'Adam', 'RMSprop', 'SGD']\n",
        "model4 = Sequential()\n",
        "model4.add(Convolution2D(64,3,3, input_shape=(64,64,3), activation='relu'))\n",
        "model4.add(MaxPooling2D(pool_size=(2,2)))\n",
        "model4.add(Convolution2D(64,3,3, activation='relu'))\n",
        "model4.add(MaxPooling2D(pool_size=(2,2)))\n",
        "model4.add(Flatten())\n",
        "model4.add(Dense(128, activation='relu'))\n",
        "model4.add(Dense(1, activation='sigmoid'))\n",
        "model4.compile(optimizer= 'SGD', loss='binary_crossentropy', metrics=['accuracy'])\n",
        "  \n",
        "\n",
        "his4 = model4.fit(\n",
        "       training_set,\n",
        "         epochs=10,\n",
        "        validation_data=test_set,\n",
        "        verbose=True,\n",
        "        steps_per_epoch=300,\n",
        "      validation_steps=200)\n",
        "\n",
        "#r = model.fit(training_set,\n",
        "       # steps_per_epoch=len(training_set),\n",
        "        #epochs=2,\n",
        "        #validation_data=test_set,\n",
        "        #validation_steps=len(test_set),\n",
        "        #verbose=True)\n",
        "np.save('/content/drive/MyDrive/2022dataset 05 2 22/his4', his4)\n",
        "model5.save('/content/drive/MyDrive/2022dataset 05 2 22/SGD.h5')"
      ]
    },
    {
      "cell_type": "code",
      "execution_count": null,
      "metadata": {
        "colab": {
          "base_uri": "https://localhost:8080/"
        },
        "id": "zTiLjrejBa8y",
        "outputId": "d6692fc4-6013-4d69-f5d1-9521eeafb23e"
      },
      "outputs": [
        {
          "name": "stdout",
          "output_type": "stream",
          "text": [
            "Mounted at /content/drive\n"
          ]
        }
      ],
      "source": [
        "from google.colab import drive\n",
        "drive.mount('/content/drive')\n",
        "from sklearn.metrics import confusion_matrix\n",
        "from keras.models import load_model\n",
        "#import numpy as nb_epochs\n",
        "import matplotlib.pyplot as plt\n",
        "import numpy as np\n",
        "\n",
        "read_r1 = np.load('/content/drive/MyDrive/2022dataset 05 2 22/histo1.npy',allow_pickle='TRUE').item()\n",
        "read_r2 = np.load('/content/drive/MyDrive/2022dataset 05 2 22/histo2.npy',allow_pickle='TRUE').item()\n",
        "read_r3 = np.load('/content/drive/MyDrive/2022dataset 05 2 22/histo3.npy',allow_pickle='TRUE').item()\n",
        "read_r4 = np.load('/content/drive/MyDrive/2022dataset 05 2 22/histo4.npy',allow_pickle='TRUE').item()\n",
        "read_r5 = np.load('/content/drive/MyDrive/2022dataset 05 2 22/histo5.npy',allow_pickle='TRUE').item()"
      ]
    },
    {
      "cell_type": "markdown",
      "source": [],
      "metadata": {
        "id": "PPHxmKktkZ6c"
      }
    },
    {
      "cell_type": "code",
      "execution_count": null,
      "metadata": {
        "colab": {
          "base_uri": "https://localhost:8080/",
          "height": 513
        },
        "id": "rzEbGcvBvQxH",
        "outputId": "bfeeca4e-af94-4a98-fb21-e4f3eeb5a7d8"
      },
      "outputs": [
        {
          "data": {
            "image/png": "[encoded data removed]",
            "text/plain": [
              "<Figure size 432x288 with 1 Axes>"
            ]
          },
          "metadata": {},
          "output_type": "display_data"
        },
        {
          "data": {
            "image/png": "[encoded data removed]",
            "text/plain": [
              "<Figure size 432x288 with 1 Axes>"
            ]
          },
          "metadata": {},
          "output_type": "display_data"
        }
      ],
      "source": [
        "\n",
        "# plot the loss\n",
        "optimizers = ['Adadelta', 'Adagrad', 'Adam', 'RMSprop', 'SGD']\n",
        "label=['Adadelta']\n",
        "\n",
        "#for i in optimizers:\n",
        "plt.plot(read_r1.history['loss'], label='Adadelta')\n",
        "plt.plot(read_r2.history['loss'], label='Adagrada')\n",
        "plt.plot(read_r3.history['loss'], label='Adam')\n",
        "plt.plot(read_r4.history['loss'], label='RMSprop')\n",
        "plt.plot(read_r5.history['loss'], label='SGD')\n",
        "\n",
        "\n",
        "plt.grid(linestyle='--')\n",
        "plt.legend()\n",
        "\n",
        "plt.grid(linestyle='--')\n",
        "plt.savefig('LossVal_lossoptimizernew.pdf',dpi=800)\n",
        "plt.show()\n",
        "# plot the accuracy\n",
        "\n",
        "plt.plot(read_r1.history['accuracy'], label='Adadelta')\n",
        "plt.plot(read_r2.history['accuracy'], label='Adagrada')\n",
        "plt.plot(read_r3.history['accuracy'],  label='Adam')\n",
        "plt.plot(read_r4.history['accuracy'], label='RMSprop')\n",
        "plt.plot(read_r5.history['accuracy'], label='SGD')\n",
        "plt.legend()\n",
        "\n",
        "\n",
        "plt.grid(linestyle='--')\n",
        "plt.savefig('AccVal_lossoptimizernew.pdf',dpi=800)\n",
        "plt.show()"
      ]
    },
    {
      "cell_type": "code",
      "execution_count": null,
      "metadata": {
        "colab": {
          "base_uri": "https://localhost:8080/"
        },
        "id": "uu57MT1WgLlv",
        "outputId": "7f084390-70ca-4590-b040-0fbca1466bc1"
      },
      "outputs": [
        {
          "name": "stdout",
          "output_type": "stream",
          "text": [
            "Drive already mounted at /content/drive; to attempt to forcibly remount, call drive.mount(\"/content/drive\", force_remount=True).\n"
          ]
        }
      ],
      "source": [
        "from google.colab import drive\n",
        "drive.mount('/content/drive')"
      ]
    },
    {
      "cell_type": "code",
      "execution_count": null,
      "metadata": {
        "colab": {
          "base_uri": "https://localhost:8080/",
          "height": 395
        },
        "id": "eAdXcNA1-r6R",
        "outputId": "1aaffb60-cb59-4699-baf8-343371f8fb5d"
      },
      "outputs": [
        {
          "ename": "OSError",
          "evalue": "ignored",
          "output_type": "error",
          "traceback": [
            "\u001b[0;31m---------------------------------------------------------------------------\u001b[0m",
            "\u001b[0;31mOSError\u001b[0m                                   Traceback (most recent call last)",
            "\u001b[0;32m<ipython-input-5-08eb543ca321>\u001b[0m in \u001b[0;36m<module>\u001b[0;34m()\u001b[0m\n\u001b[1;32m     12\u001b[0m \u001b[0;32mimport\u001b[0m \u001b[0mnumpy\u001b[0m \u001b[0;32mas\u001b[0m \u001b[0mnp\u001b[0m\u001b[0;34m\u001b[0m\u001b[0;34m\u001b[0m\u001b[0m\n\u001b[1;32m     13\u001b[0m \u001b[0;34m\u001b[0m\u001b[0m\n\u001b[0;32m---> 14\u001b[0;31m \u001b[0mclassifier\u001b[0m \u001b[0;34m=\u001b[0m \u001b[0mload_model\u001b[0m\u001b[0;34m(\u001b[0m\u001b[0;34m'/content/drive/MyDrive/2022dataset 05 2 22/model/SGD.h5'\u001b[0m\u001b[0;34m)\u001b[0m\u001b[0;34m\u001b[0m\u001b[0;34m\u001b[0m\u001b[0m\n\u001b[0m\u001b[1;32m     15\u001b[0m \u001b[0mtest_datagen\u001b[0m \u001b[0;34m=\u001b[0m \u001b[0mImageDataGenerator\u001b[0m\u001b[0;34m(\u001b[0m\u001b[0mrescale\u001b[0m\u001b[0;34m=\u001b[0m\u001b[0;36m1.\u001b[0m\u001b[0;34m/\u001b[0m\u001b[0;36m255\u001b[0m\u001b[0;34m)\u001b[0m\u001b[0;34m\u001b[0m\u001b[0;34m\u001b[0m\u001b[0m\n\u001b[1;32m     16\u001b[0m \u001b[0;31m# only rescaling\u001b[0m\u001b[0;34m\u001b[0m\u001b[0;34m\u001b[0m\u001b[0;34m\u001b[0m\u001b[0m\n",
            "\u001b[0;32m/usr/local/lib/python3.7/dist-packages/keras/utils/traceback_utils.py\u001b[0m in \u001b[0;36merror_handler\u001b[0;34m(*args, **kwargs)\u001b[0m\n\u001b[1;32m     65\u001b[0m     \u001b[0;32mexcept\u001b[0m \u001b[0mException\u001b[0m \u001b[0;32mas\u001b[0m \u001b[0me\u001b[0m\u001b[0;34m:\u001b[0m  \u001b[0;31m# pylint: disable=broad-except\u001b[0m\u001b[0;34m\u001b[0m\u001b[0;34m\u001b[0m\u001b[0m\n\u001b[1;32m     66\u001b[0m       \u001b[0mfiltered_tb\u001b[0m \u001b[0;34m=\u001b[0m \u001b[0m_process_traceback_frames\u001b[0m\u001b[0;34m(\u001b[0m\u001b[0me\u001b[0m\u001b[0;34m.\u001b[0m\u001b[0m__traceback__\u001b[0m\u001b[0;34m)\u001b[0m\u001b[0;34m\u001b[0m\u001b[0;34m\u001b[0m\u001b[0m\n\u001b[0;32m---> 67\u001b[0;31m       \u001b[0;32mraise\u001b[0m \u001b[0me\u001b[0m\u001b[0;34m.\u001b[0m\u001b[0mwith_traceback\u001b[0m\u001b[0;34m(\u001b[0m\u001b[0mfiltered_tb\u001b[0m\u001b[0;34m)\u001b[0m \u001b[0;32mfrom\u001b[0m \u001b[0;32mNone\u001b[0m\u001b[0;34m\u001b[0m\u001b[0;34m\u001b[0m\u001b[0m\n\u001b[0m\u001b[1;32m     68\u001b[0m     \u001b[0;32mfinally\u001b[0m\u001b[0;34m:\u001b[0m\u001b[0;34m\u001b[0m\u001b[0;34m\u001b[0m\u001b[0m\n\u001b[1;32m     69\u001b[0m       \u001b[0;32mdel\u001b[0m \u001b[0mfiltered_tb\u001b[0m\u001b[0;34m\u001b[0m\u001b[0;34m\u001b[0m\u001b[0m\n",
            "\u001b[0;32m/usr/local/lib/python3.7/dist-packages/keras/saving/save.py\u001b[0m in \u001b[0;36mload_model\u001b[0;34m(filepath, custom_objects, compile, options)\u001b[0m\n\u001b[1;32m    202\u001b[0m         \u001b[0;32mif\u001b[0m \u001b[0misinstance\u001b[0m\u001b[0;34m(\u001b[0m\u001b[0mfilepath_str\u001b[0m\u001b[0;34m,\u001b[0m \u001b[0mstr\u001b[0m\u001b[0;34m)\u001b[0m\u001b[0;34m:\u001b[0m\u001b[0;34m\u001b[0m\u001b[0;34m\u001b[0m\u001b[0m\n\u001b[1;32m    203\u001b[0m           \u001b[0;32mif\u001b[0m \u001b[0;32mnot\u001b[0m \u001b[0mtf\u001b[0m\u001b[0;34m.\u001b[0m\u001b[0mio\u001b[0m\u001b[0;34m.\u001b[0m\u001b[0mgfile\u001b[0m\u001b[0;34m.\u001b[0m\u001b[0mexists\u001b[0m\u001b[0;34m(\u001b[0m\u001b[0mfilepath_str\u001b[0m\u001b[0;34m)\u001b[0m\u001b[0;34m:\u001b[0m\u001b[0;34m\u001b[0m\u001b[0;34m\u001b[0m\u001b[0m\n\u001b[0;32m--> 204\u001b[0;31m             \u001b[0;32mraise\u001b[0m \u001b[0mIOError\u001b[0m\u001b[0;34m(\u001b[0m\u001b[0;34mf'No file or directory found at {filepath_str}'\u001b[0m\u001b[0;34m)\u001b[0m\u001b[0;34m\u001b[0m\u001b[0;34m\u001b[0m\u001b[0m\n\u001b[0m\u001b[1;32m    205\u001b[0m \u001b[0;34m\u001b[0m\u001b[0m\n\u001b[1;32m    206\u001b[0m           \u001b[0;32mif\u001b[0m \u001b[0mtf\u001b[0m\u001b[0;34m.\u001b[0m\u001b[0mio\u001b[0m\u001b[0;34m.\u001b[0m\u001b[0mgfile\u001b[0m\u001b[0;34m.\u001b[0m\u001b[0misdir\u001b[0m\u001b[0;34m(\u001b[0m\u001b[0mfilepath_str\u001b[0m\u001b[0;34m)\u001b[0m\u001b[0;34m:\u001b[0m\u001b[0;34m\u001b[0m\u001b[0;34m\u001b[0m\u001b[0m\n",
            "\u001b[0;31mOSError\u001b[0m: No file or directory found at /content/drive/MyDrive/2022dataset 05 2 22/model/SGD.h5"
          ]
        }
      ],
      "source": [
        "from keras.metrics import CategoricalHinge\n",
        "################--TESTED--#########################\n",
        "#REFER: https://gist.github.com/RyanAkilos/3808c17f79e77c4117de35aa68447045\n",
        "#Confution Matrix and Classification Report\n",
        "#problem with column filled with zeros refer to : https://stackoverflow.com/questions/51282098/plotting-confusion-matrix-for-an-image-classification-model?rq=1\n",
        "from sklearn.metrics import classification_report\n",
        "from tensorflow.keras.preprocessing.image import ImageDataGenerator\n",
        "\n",
        "from sklearn.metrics import confusion_matrix\n",
        "from keras.models import load_model\n",
        "#import numpy as nb_epochs\n",
        "import numpy as np\n",
        "\n",
        "classifier = load_model('/content/drive/MyDrive/2022dataset 05 2 22/model/SGD.h5')\n",
        "test_datagen = ImageDataGenerator(rescale=1./255)\n",
        "# only rescaling\n",
        "train_datagen =  ImageDataGenerator(rescale=1./255)\n",
        "test_datagen =  ImageDataGenerator(rescale=1./255)\n",
        "\n",
        "train_data_dir = \"/content/drive/MyDrive/2022dataset 05 2 22/train\"\n",
        "val_data_dir = \"/content/drive/MyDrive/2022dataset 05 2 22/validation\"\n",
        "#test_data_dir = \"/content/drive/MyDrive/2022dataset 05 2 22/test\"\n",
        "\n",
        "\n",
        "val_set = test_datagen.flow_from_directory(val_data_dir,\n",
        "                                                  target_size = (224, 224),\n",
        "                                                 batch_size = 16,\n",
        "                                                 class_mode = 'binary',\n",
        "                                                 shuffle=False)\n",
        "\n",
        "batch_size=16\n",
        "val_set.reset()\n",
        "Y_pred = classifier.predict(val_set, len(val_set) // batch_size+1, workers=0)\n",
        "y_pred = np.where(Y_pred>0.5, 1, 0)\n",
        "\n",
        "#y_pred = np.argmax(Y_pred, axis=1)\n",
        "cm = confusion_matrix(val_set.classes, y_pred)\n",
        "\n",
        "#y_pred = np.argmax(Y_pred, axis=1)\n",
        "print('Confusion Matrix')\n",
        "print(cm)\n",
        "print('Classification Report')\n",
        "target_names = ['Diseased', 'Healthy']\n",
        "print(classification_report(val_set.classes, y_pred, target_names=target_names,digits=4))"
      ]
    },
    {
      "cell_type": "code",
      "execution_count": null,
      "metadata": {
        "id": "Oc2fjeuoiQGq"
      },
      "outputs": [],
      "source": [
        "/content/drive/MyDrive/2022dataset 05 2 22/model/RMSprop.h5"
      ]
    },
    {
      "cell_type": "code",
      "execution_count": null,
      "metadata": {
        "colab": {
          "background_save": true
        },
        "id": "zJLrrIHD-wJB",
        "outputId": "88e93abe-66d9-44cd-c190-05caaaee87fd"
      },
      "outputs": [
        {
          "ename": "OSError",
          "evalue": "ignored",
          "output_type": "error",
          "traceback": [
            "\u001b[0;31m---------------------------------------------------------------------------\u001b[0m",
            "\u001b[0;31mOSError\u001b[0m                                   Traceback (most recent call last)",
            "\u001b[0;32m<ipython-input-2-3bcd62a59a29>\u001b[0m in \u001b[0;36m<module>\u001b[0;34m()\u001b[0m\n\u001b[1;32m     12\u001b[0m \u001b[0;32mimport\u001b[0m \u001b[0mnumpy\u001b[0m \u001b[0;32mas\u001b[0m \u001b[0mnp\u001b[0m\u001b[0;34m\u001b[0m\u001b[0;34m\u001b[0m\u001b[0m\n\u001b[1;32m     13\u001b[0m \u001b[0;34m\u001b[0m\u001b[0m\n\u001b[0;32m---> 14\u001b[0;31m \u001b[0mclassifier\u001b[0m \u001b[0;34m=\u001b[0m \u001b[0mload_model\u001b[0m\u001b[0;34m(\u001b[0m\u001b[0;34m'/content/drive/MyDrive/2022dataset 05 2 22/RMSprop.h5'\u001b[0m\u001b[0;34m)\u001b[0m\u001b[0;34m\u001b[0m\u001b[0;34m\u001b[0m\u001b[0m\n\u001b[0m\u001b[1;32m     15\u001b[0m \u001b[0mtest_datagen\u001b[0m \u001b[0;34m=\u001b[0m \u001b[0mImageDataGenerator\u001b[0m\u001b[0;34m(\u001b[0m\u001b[0mrescale\u001b[0m\u001b[0;34m=\u001b[0m\u001b[0;36m1.\u001b[0m\u001b[0;34m/\u001b[0m\u001b[0;36m255\u001b[0m\u001b[0;34m)\u001b[0m\u001b[0;34m\u001b[0m\u001b[0;34m\u001b[0m\u001b[0m\n\u001b[1;32m     16\u001b[0m \u001b[0;31m# only rescaling\u001b[0m\u001b[0;34m\u001b[0m\u001b[0;34m\u001b[0m\u001b[0;34m\u001b[0m\u001b[0m\n",
            "\u001b[0;32m/usr/local/lib/python3.7/dist-packages/keras/utils/traceback_utils.py\u001b[0m in \u001b[0;36merror_handler\u001b[0;34m(*args, **kwargs)\u001b[0m\n\u001b[1;32m     65\u001b[0m     \u001b[0;32mexcept\u001b[0m \u001b[0mException\u001b[0m \u001b[0;32mas\u001b[0m \u001b[0me\u001b[0m\u001b[0;34m:\u001b[0m  \u001b[0;31m# pylint: disable=broad-except\u001b[0m\u001b[0;34m\u001b[0m\u001b[0;34m\u001b[0m\u001b[0m\n\u001b[1;32m     66\u001b[0m       \u001b[0mfiltered_tb\u001b[0m \u001b[0;34m=\u001b[0m \u001b[0m_process_traceback_frames\u001b[0m\u001b[0;34m(\u001b[0m\u001b[0me\u001b[0m\u001b[0;34m.\u001b[0m\u001b[0m__traceback__\u001b[0m\u001b[0;34m)\u001b[0m\u001b[0;34m\u001b[0m\u001b[0;34m\u001b[0m\u001b[0m\n\u001b[0;32m---> 67\u001b[0;31m       \u001b[0;32mraise\u001b[0m \u001b[0me\u001b[0m\u001b[0;34m.\u001b[0m\u001b[0mwith_traceback\u001b[0m\u001b[0;34m(\u001b[0m\u001b[0mfiltered_tb\u001b[0m\u001b[0;34m)\u001b[0m \u001b[0;32mfrom\u001b[0m \u001b[0;32mNone\u001b[0m\u001b[0;34m\u001b[0m\u001b[0;34m\u001b[0m\u001b[0m\n\u001b[0m\u001b[1;32m     68\u001b[0m     \u001b[0;32mfinally\u001b[0m\u001b[0;34m:\u001b[0m\u001b[0;34m\u001b[0m\u001b[0;34m\u001b[0m\u001b[0m\n\u001b[1;32m     69\u001b[0m       \u001b[0;32mdel\u001b[0m \u001b[0mfiltered_tb\u001b[0m\u001b[0;34m\u001b[0m\u001b[0;34m\u001b[0m\u001b[0m\n",
            "\u001b[0;32m/usr/local/lib/python3.7/dist-packages/keras/saving/save.py\u001b[0m in \u001b[0;36mload_model\u001b[0;34m(filepath, custom_objects, compile, options)\u001b[0m\n\u001b[1;32m    202\u001b[0m         \u001b[0;32mif\u001b[0m \u001b[0misinstance\u001b[0m\u001b[0;34m(\u001b[0m\u001b[0mfilepath_str\u001b[0m\u001b[0;34m,\u001b[0m \u001b[0mstr\u001b[0m\u001b[0;34m)\u001b[0m\u001b[0;34m:\u001b[0m\u001b[0;34m\u001b[0m\u001b[0;34m\u001b[0m\u001b[0m\n\u001b[1;32m    203\u001b[0m           \u001b[0;32mif\u001b[0m \u001b[0;32mnot\u001b[0m \u001b[0mtf\u001b[0m\u001b[0;34m.\u001b[0m\u001b[0mio\u001b[0m\u001b[0;34m.\u001b[0m\u001b[0mgfile\u001b[0m\u001b[0;34m.\u001b[0m\u001b[0mexists\u001b[0m\u001b[0;34m(\u001b[0m\u001b[0mfilepath_str\u001b[0m\u001b[0;34m)\u001b[0m\u001b[0;34m:\u001b[0m\u001b[0;34m\u001b[0m\u001b[0;34m\u001b[0m\u001b[0m\n\u001b[0;32m--> 204\u001b[0;31m             \u001b[0;32mraise\u001b[0m \u001b[0mIOError\u001b[0m\u001b[0;34m(\u001b[0m\u001b[0;34mf'No file or directory found at {filepath_str}'\u001b[0m\u001b[0;34m)\u001b[0m\u001b[0;34m\u001b[0m\u001b[0;34m\u001b[0m\u001b[0m\n\u001b[0m\u001b[1;32m    205\u001b[0m \u001b[0;34m\u001b[0m\u001b[0m\n\u001b[1;32m    206\u001b[0m           \u001b[0;32mif\u001b[0m \u001b[0mtf\u001b[0m\u001b[0;34m.\u001b[0m\u001b[0mio\u001b[0m\u001b[0;34m.\u001b[0m\u001b[0mgfile\u001b[0m\u001b[0;34m.\u001b[0m\u001b[0misdir\u001b[0m\u001b[0;34m(\u001b[0m\u001b[0mfilepath_str\u001b[0m\u001b[0;34m)\u001b[0m\u001b[0;34m:\u001b[0m\u001b[0;34m\u001b[0m\u001b[0;34m\u001b[0m\u001b[0m\n",
            "\u001b[0;31mOSError\u001b[0m: No file or directory found at /content/drive/MyDrive/2022dataset 05 2 22/RMSprop.h5"
          ]
        }
      ],
      "source": [
        "from keras.metrics import CategoricalHinge\n",
        "################--TESTED--#########################\n",
        "#REFER: https://gist.github.com/RyanAkilos/3808c17f79e77c4117de35aa68447045\n",
        "#Confution Matrix and Classification Report\n",
        "#problem with column filled with zeros refer to : https://stackoverflow.com/questions/51282098/plotting-confusion-matrix-for-an-image-classification-model?rq=1\n",
        "from sklearn.metrics import classification_report\n",
        "from tensorflow.keras.preprocessing.image import ImageDataGenerator\n",
        "\n",
        "from sklearn.metrics import confusion_matrix\n",
        "from keras.models import load_model\n",
        "#import numpy as nb_epochs\n",
        "import numpy as np\n",
        "\n",
        "classifier = load_model('/content/drive/MyDrive/2022dataset 05 2 22/RMSprop.h5')\n",
        "test_datagen = ImageDataGenerator(rescale=1./255)\n",
        "# only rescaling\n",
        "train_datagen =  ImageDataGenerator(rescale=1./255)\n",
        "test_datagen =  ImageDataGenerator(rescale=1./255)\n",
        "\n",
        "train_data_dir = \"/content/drive/MyDrive/2022dataset 05 2 22/train\"\n",
        "val_data_dir = \"/content/drive/MyDrive/2022dataset 05 2 22/validation\"\n",
        "#test_data_dir = \"/content/drive/MyDrive/2022dataset 05 2 22/test\"\n",
        "\n",
        "\n",
        "val_set = test_datagen.flow_from_directory(val_data_dir,\n",
        "                                                  target_size = (224, 224),\n",
        "                                                 batch_size = 16,\n",
        "                                                 class_mode = 'binary',\n",
        "                                                 shuffle=False)\n",
        "\n",
        "batch_size=16\n",
        "val_set.reset()\n",
        "Y_pred = classifier.predict(val_set, len(val_set) // batch_size+1, workers=0)\n",
        "y_pred = np.where(Y_pred>0.5, 1, 0)\n",
        "\n",
        "#y_pred = np.argmax(Y_pred, axis=1)\n",
        "cm = confusion_matrix(val_set.classes, y_pred)\n",
        "\n",
        "#y_pred = np.argmax(Y_pred, axis=1)\n",
        "print('Confusion Matrix')\n",
        "print(cm)\n",
        "print('Classification Report')\n",
        "target_names = ['Diseased', 'Healthy']\n",
        "print(classification_report(val_set.classes, y_pred, target_names=target_names,digits=4))"
      ]
    },
    {
      "cell_type": "code",
      "execution_count": null,
      "metadata": {
        "id": "SGElUu-M-wuw"
      },
      "outputs": [],
      "source": [
        "from keras.metrics import CategoricalHinge\n",
        "################--TESTED--#########################\n",
        "#REFER: https://gist.github.com/RyanAkilos/3808c17f79e77c4117de35aa68447045\n",
        "#Confution Matrix and Classification Report\n",
        "#problem with column filled with zeros refer to : https://stackoverflow.com/questions/51282098/plotting-confusion-matrix-for-an-image-classification-model?rq=1\n",
        "from sklearn.metrics import classification_report\n",
        "from tensorflow.keras.preprocessing.image import ImageDataGenerator\n",
        "\n",
        "from sklearn.metrics import confusion_matrix\n",
        "from keras.models import load_model\n",
        "#import numpy as nb_epochs\n",
        "import numpy as np\n",
        "\n",
        "classifier = load_model('/content/drive/MyDrive/2022dataset 05 2 22/Adam.h5')\n",
        "test_datagen = ImageDataGenerator(rescale=1./255)\n",
        "# only rescaling\n",
        "train_datagen =  ImageDataGenerator(rescale=1./255)\n",
        "test_datagen =  ImageDataGenerator(rescale=1./255)\n",
        "\n",
        "train_data_dir = \"/content/drive/MyDrive/2022dataset 05 2 22/train\"\n",
        "val_data_dir = \"/content/drive/MyDrive/2022dataset 05 2 22/validation\"\n",
        "#test_data_dir = \"/content/drive/MyDrive/2022dataset 05 2 22/test\"\n",
        "\n",
        "\n",
        "val_set = test_datagen.flow_from_directory(val_data_dir,\n",
        "                                                  target_size = (224, 224),\n",
        "                                                 batch_size = 16,\n",
        "                                                 class_mode = 'binary',\n",
        "                                                 shuffle=False)\n",
        "\n",
        "batch_size=16\n",
        "val_set.reset()\n",
        "Y_pred = classifier.predict(val_set, len(val_set) // batch_size+1, workers=0)\n",
        "y_pred = np.where(Y_pred>0.5, 1, 0)\n",
        "\n",
        "#y_pred = np.argmax(Y_pred, axis=1)\n",
        "cm = confusion_matrix(val_set.classes, y_pred)\n",
        "\n",
        "#y_pred = np.argmax(Y_pred, axis=1)\n",
        "print('Confusion Matrix')\n",
        "print(cm)\n",
        "print('Classification Report')\n",
        "target_names = ['Diseased', 'Healthy']\n",
        "print(classification_report(val_set.classes, y_pred, target_names=target_names,digits=4))"
      ]
    },
    {
      "cell_type": "code",
      "execution_count": null,
      "metadata": {
        "id": "qSlRaSed-xLa"
      },
      "outputs": [],
      "source": [
        "from keras.metrics import CategoricalHinge\n",
        "################--TESTED--#########################\n",
        "#REFER: https://gist.github.com/RyanAkilos/3808c17f79e77c4117de35aa68447045\n",
        "#Confution Matrix and Classification Report\n",
        "#problem with column filled with zeros refer to : https://stackoverflow.com/questions/51282098/plotting-confusion-matrix-for-an-image-classification-model?rq=1\n",
        "from sklearn.metrics import classification_report\n",
        "from tensorflow.keras.preprocessing.image import ImageDataGenerator\n",
        "\n",
        "from sklearn.metrics import confusion_matrix\n",
        "from keras.models import load_model\n",
        "#import numpy as nb_epochs\n",
        "import numpy as np\n",
        "\n",
        "classifier = load_model('/content/drive/MyDrive/2022dataset 05 2 22/Adadelta.h5')\n",
        "test_datagen = ImageDataGenerator(rescale=1./255)\n",
        "# only rescaling\n",
        "train_datagen =  ImageDataGenerator(rescale=1./255)\n",
        "test_datagen =  ImageDataGenerator(rescale=1./255)\n",
        "\n",
        "train_data_dir = \"/content/drive/MyDrive/2022dataset 05 2 22/train\"\n",
        "val_data_dir = \"/content/drive/MyDrive/2022dataset 05 2 22/validation\"\n",
        "#test_data_dir = \"/content/drive/MyDrive/2022dataset 05 2 22/test\"\n",
        "\n",
        "\n",
        "val_set = test_datagen.flow_from_directory(val_data_dir,\n",
        "                                                  target_size = (224, 224),\n",
        "                                                 batch_size = 16,\n",
        "                                                 class_mode = 'binary',\n",
        "                                                 shuffle=False)\n",
        "\n",
        "batch_size=16\n",
        "val_set.reset()\n",
        "Y_pred = classifier.predict(val_set, len(val_set) // batch_size+1, workers=0)\n",
        "y_pred = np.where(Y_pred>0.5, 1, 0)\n",
        "\n",
        "#y_pred = np.argmax(Y_pred, axis=1)\n",
        "cm = confusion_matrix(val_set.classes, y_pred)\n",
        "\n",
        "#y_pred = np.argmax(Y_pred, axis=1)\n",
        "print('Confusion Matrix')\n",
        "print(cm)\n",
        "print('Classification Report')\n",
        "target_names = ['Diseased', 'Healthy']\n",
        "print(classification_report(val_set.classes, y_pred, target_names=target_names,digits=4))"
      ]
    },
    {
      "cell_type": "code",
      "execution_count": null,
      "metadata": {
        "id": "DyK6dyN9-xkZ"
      },
      "outputs": [],
      "source": [
        "from keras.metrics import CategoricalHinge\n",
        "################--TESTED--#########################\n",
        "#REFER: https://gist.github.com/RyanAkilos/3808c17f79e77c4117de35aa68447045\n",
        "#Confution Matrix and Classification Report\n",
        "#problem with column filled with zeros refer to : https://stackoverflow.com/questions/51282098/plotting-confusion-matrix-for-an-image-classification-model?rq=1\n",
        "from sklearn.metrics import classification_report\n",
        "from tensorflow.keras.preprocessing.image import ImageDataGenerator\n",
        "\n",
        "from sklearn.metrics import confusion_matrix\n",
        "from keras.models import load_model\n",
        "#import numpy as nb_epochs\n",
        "import numpy as np\n",
        "\n",
        "classifier = load_model('/content/drive/MyDrive/2022dataset 05 2 22/Adagrad.h5')\n",
        "test_datagen = ImageDataGenerator(rescale=1./255)\n",
        "# only rescaling\n",
        "train_datagen =  ImageDataGenerator(rescale=1./255)\n",
        "test_datagen =  ImageDataGenerator(rescale=1./255)\n",
        "\n",
        "train_data_dir = \"/content/drive/MyDrive/2022dataset 05 2 22/train\"\n",
        "val_data_dir = \"/content/drive/MyDrive/2022dataset 05 2 22/validation\"\n",
        "#test_data_dir = \"/content/drive/MyDrive/2022dataset 05 2 22/test\"\n",
        "\n",
        "\n",
        "val_set = test_datagen.flow_from_directory(val_data_dir,\n",
        "                                                  target_size = (224, 224),\n",
        "                                                 batch_size = 16,\n",
        "                                                 class_mode = 'binary',\n",
        "                                                 shuffle=False)\n",
        "\n",
        "batch_size=16\n",
        "val_set.reset()\n",
        "Y_pred = classifier.predict(val_set, len(val_set) // batch_size+1, workers=0)\n",
        "y_pred = np.where(Y_pred>0.5, 1, 0)\n",
        "\n",
        "#y_pred = np.argmax(Y_pred, axis=1)\n",
        "cm = confusion_matrix(val_set.classes, y_pred)\n",
        "\n",
        "#y_pred = np.argmax(Y_pred, axis=1)\n",
        "print('Confusion Matrix')\n",
        "print(cm)\n",
        "print('Classification Report')\n",
        "target_names = ['Diseased', 'Healthy']\n",
        "print(classification_report(val_set.classes, y_pred, target_names=target_names,digits=4))"
      ]
    },
    {
      "cell_type": "code",
      "execution_count": null,
      "metadata": {
        "id": "Jz42Kz9wA2S3"
      },
      "outputs": [],
      "source": [
        "\n",
        "optimizers = ['Adadelta', 'Adagrad', 'Adam', 'RMSprop', 'SGD']\n",
        "def build_model(optimizer):\n",
        "   model = Sequential()\n",
        "   model.add(Convolution2D(64,3,3, input_shape=(64,64,3), activation='relu'))\n",
        "   model.add(MaxPooling2D(pool_size=(2,2)))\n",
        "   model.add(Convolution2D(64,3,3, activation='relu'))\n",
        "   model.add(MaxPooling2D(pool_size=(2,2)))\n",
        "   model.add(Flatten())\n",
        "   model.add(Dense(128, activation='relu'))\n",
        "   model.add(Dense(1, activation='sigmoid'))\n",
        "   model.compile(optimizer= 'Adagrad', loss='binary_crossentropy', metrics=['accuracy'])\n",
        "   return model"
      ]
    }
  ],
  "metadata": {
    "accelerator": "TPU",
    "colab": {
      "collapsed_sections": [],
      "machine_shape": "hm",
      "provenance": [],
      "authorship_tag": "ABX9TyMH5vQtMtRsQ4vt37Se/8cZ",
      "include_colab_link": true
    },
    "kernelspec": {
      "display_name": "Python 3",
      "name": "python3"
    },
    "language_info": {
      "name": "python"
    }
  },
  "nbformat": 4,
  "nbformat_minor": 0
}